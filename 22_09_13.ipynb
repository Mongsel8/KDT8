{
  "nbformat": 4,
  "nbformat_minor": 0,
  "metadata": {
    "colab": {
      "provenance": [],
      "toc_visible": true
    },
    "kernelspec": {
      "name": "python3",
      "display_name": "Python 3"
    },
    "language_info": {
      "name": "python"
    }
  },
  "cells": [
    {
      "cell_type": "markdown",
      "source": [
        "#테스트"
      ],
      "metadata": {
        "id": "6VwOO-GPWEVK"
      }
    },
    {
      "cell_type": "code",
      "execution_count": null,
      "metadata": {
        "colab": {
          "base_uri": "https://localhost:8080/"
        },
        "id": "JxzcngGRIKqW",
        "outputId": "2344c105-cb8f-47d5-8e5c-046005e75b2c"
      },
      "outputs": [
        {
          "output_type": "execute_result",
          "data": {
            "text/plain": [
              "155"
            ]
          },
          "metadata": {},
          "execution_count": 2
        }
      ],
      "source": [
        "len(dir(__builtin__))"
      ]
    },
    {
      "cell_type": "code",
      "source": [
        "def change(**kwargs):\n",
        "  return kwargs"
      ],
      "metadata": {
        "id": "b2DHIqdJK_XQ"
      },
      "execution_count": null,
      "outputs": []
    },
    {
      "cell_type": "code",
      "source": [],
      "metadata": {
        "colab": {
          "base_uri": "https://localhost:8080/",
          "height": 174
        },
        "id": "OoxaieDXLdww",
        "outputId": "5f902682-5de7-4cbe-ae1f-3d7762c4d697"
      },
      "execution_count": null,
      "outputs": [
        {
          "output_type": "error",
          "ename": "TypeError",
          "evalue": "ignored",
          "traceback": [
            "\u001b[0;31m---------------------------------------------------------------------------\u001b[0m",
            "\u001b[0;31mTypeError\u001b[0m                                 Traceback (most recent call last)",
            "\u001b[0;32m<ipython-input-12-4cb497d47455>\u001b[0m in \u001b[0;36m<module>\u001b[0;34m\u001b[0m\n\u001b[0;32m----> 1\u001b[0;31m \u001b[0mchange\u001b[0m\u001b[0;34m(\u001b[0m\u001b[0;36m1\u001b[0m\u001b[0;34m,\u001b[0m\u001b[0;36m2\u001b[0m\u001b[0;34m,\u001b[0m\u001b[0;36m3\u001b[0m\u001b[0;34m)\u001b[0m\u001b[0;34m\u001b[0m\u001b[0;34m\u001b[0m\u001b[0m\n\u001b[0m",
            "\u001b[0;31mTypeError\u001b[0m: change() takes 0 positional arguments but 3 were given"
          ]
        }
      ]
    },
    {
      "cell_type": "code",
      "source": [
        "a=['a','b','c']\n",
        "c = dict()\n",
        "for i,j in enumerate(a):\n",
        "    c[j] = i + 1\n",
        "print(c) "
      ],
      "metadata": {
        "colab": {
          "base_uri": "https://localhost:8080/"
        },
        "id": "rKYxIuAZLGrY",
        "outputId": "f3ad5e1f-aca6-4aad-b30e-15cc017c7dfa"
      },
      "execution_count": null,
      "outputs": [
        {
          "output_type": "stream",
          "name": "stdout",
          "text": [
            "{'a': 1, 'b': 2, 'c': 3}\n"
          ]
        }
      ]
    },
    {
      "cell_type": "code",
      "source": [
        "def even(i):\n",
        "  if i % 2 == 0:\n",
        "    return i"
      ],
      "metadata": {
        "id": "b5EvQ7gsM9TY"
      },
      "execution_count": null,
      "outputs": []
    },
    {
      "cell_type": "code",
      "source": [
        "num = [1,6,99,3,28,8,9,12,56,17,284]\n",
        "print(list(filter(even, num)))"
      ],
      "metadata": {
        "colab": {
          "base_uri": "https://localhost:8080/"
        },
        "id": "qwRtccYiLc4w",
        "outputId": "75c4942d-3462-4ca7-8a73-26ca1872959b"
      },
      "execution_count": null,
      "outputs": [
        {
          "output_type": "stream",
          "name": "stdout",
          "text": [
            "[6, 28, 8, 12, 56, 284]\n"
          ]
        }
      ]
    },
    {
      "cell_type": "code",
      "source": [
        "try :\n",
        "  4/0\n",
        "except ZeroDivisionError as e:\n",
        "  print(e)"
      ],
      "metadata": {
        "colab": {
          "base_uri": "https://localhost:8080/"
        },
        "id": "O-ePEPGjOFoB",
        "outputId": "4057c627-797d-4376-81fa-074eba73f4ad"
      },
      "execution_count": null,
      "outputs": [
        {
          "output_type": "stream",
          "name": "stdout",
          "text": [
            "division by zero\n"
          ]
        }
      ]
    },
    {
      "cell_type": "code",
      "source": [
        "import sys"
      ],
      "metadata": {
        "id": "9bWW1812PMTY"
      },
      "execution_count": null,
      "outputs": []
    },
    {
      "cell_type": "code",
      "source": [
        "sys.path.append()"
      ],
      "metadata": {
        "id": "44IsvK_iPW_O"
      },
      "execution_count": null,
      "outputs": []
    },
    {
      "cell_type": "code",
      "source": [
        "class Clothes :\n",
        "  def __init__(self,color, fit):\n",
        "    self.color = color \n",
        "    self.fit = fit\n",
        "  def target(self, age, gender):\n",
        "    if age <= 5:\n",
        "       self.age = 'baby'\n",
        "    elif age <= 13:\n",
        "      self.age = 'kids'\n",
        "    else :\n",
        "      self.age = 'adult'\n",
        "      if gender == 'female':\n",
        "        self.gender = 'female'\n",
        "      else :\n",
        "        self.gender = 'men'\n",
        "\n"
      ],
      "metadata": {
        "id": "BKeWzgwBQIrJ"
      },
      "execution_count": null,
      "outputs": []
    },
    {
      "cell_type": "code",
      "source": [
        "a = Clothes('black','slim')\n",
        "a.target(14,'female')\n",
        "a.gender"
      ],
      "metadata": {
        "colab": {
          "base_uri": "https://localhost:8080/",
          "height": 35
        },
        "id": "b8qkjNwEQ6qw",
        "outputId": "f6daab21-5369-4929-ca45-ec4bf4640943"
      },
      "execution_count": null,
      "outputs": [
        {
          "output_type": "execute_result",
          "data": {
            "text/plain": [
              "'female'"
            ],
            "application/vnd.google.colaboratory.intrinsic+json": {
              "type": "string"
            }
          },
          "metadata": {},
          "execution_count": 39
        }
      ]
    },
    {
      "cell_type": "code",
      "source": [
        "a.age"
      ],
      "metadata": {
        "colab": {
          "base_uri": "https://localhost:8080/",
          "height": 35
        },
        "id": "njdckYGuRRzp",
        "outputId": "690afff0-c861-42d9-b100-71d6921b5115"
      },
      "execution_count": null,
      "outputs": [
        {
          "output_type": "execute_result",
          "data": {
            "text/plain": [
              "'adult'"
            ],
            "application/vnd.google.colaboratory.intrinsic+json": {
              "type": "string"
            }
          },
          "metadata": {},
          "execution_count": 40
        }
      ]
    },
    {
      "cell_type": "code",
      "source": [
        "class Clothes2(Clothes) :\n",
        "  def __init__(self, color,fit,season):\n",
        "    super().__init__(color,fit)\n",
        "    self.season = season"
      ],
      "metadata": {
        "id": "Y3U8GlOSRzew"
      },
      "execution_count": null,
      "outputs": []
    },
    {
      "cell_type": "code",
      "source": [
        "id= ['970212-1054321','010101-2054321','020202-1065432','220908-1044444']\n",
        "\n",
        "id_male = list(filter(lambda id : id[7] == '1',id))\n",
        "\n",
        "id_male"
      ],
      "metadata": {
        "colab": {
          "base_uri": "https://localhost:8080/"
        },
        "id": "hAsueWKOT0hX",
        "outputId": "69edc80e-a06c-406e-8602-139d3b99d74f"
      },
      "execution_count": null,
      "outputs": [
        {
          "output_type": "execute_result",
          "data": {
            "text/plain": [
              "['970212-1054321', '020202-1065432', '220908-1044444']"
            ]
          },
          "metadata": {},
          "execution_count": 62
        }
      ]
    },
    {
      "cell_type": "markdown",
      "source": [
        "#*수업*"
      ],
      "metadata": {
        "id": "q6jjmuwCWAIZ"
      }
    },
    {
      "cell_type": "code",
      "source": [
        "hex(3)"
      ],
      "metadata": {
        "colab": {
          "base_uri": "https://localhost:8080/",
          "height": 35
        },
        "id": "bwjchTaNV_iB",
        "outputId": "d148d474-ebdb-43d9-c3b7-eaa935b0ae2e"
      },
      "execution_count": null,
      "outputs": [
        {
          "output_type": "execute_result",
          "data": {
            "text/plain": [
              "'0x3'"
            ],
            "application/vnd.google.colaboratory.intrinsic+json": {
              "type": "string"
            }
          },
          "metadata": {},
          "execution_count": 63
        }
      ]
    },
    {
      "cell_type": "code",
      "source": [
        "int('ff',base = 16)"
      ],
      "metadata": {
        "colab": {
          "base_uri": "https://localhost:8080/"
        },
        "id": "YkAqhI8vbmrR",
        "outputId": "6ee4b6a0-67c7-4b46-971b-de1dd8ee5f65"
      },
      "execution_count": null,
      "outputs": [
        {
          "output_type": "execute_result",
          "data": {
            "text/plain": [
              "255"
            ]
          },
          "metadata": {},
          "execution_count": 72
        }
      ]
    },
    {
      "cell_type": "code",
      "source": [
        "int('1111',base = 2)"
      ],
      "metadata": {
        "colab": {
          "base_uri": "https://localhost:8080/"
        },
        "id": "_WupPKiYb3gA",
        "outputId": "d7f93704-82fc-45d3-d196-e608e8fe9df7"
      },
      "execution_count": null,
      "outputs": [
        {
          "output_type": "execute_result",
          "data": {
            "text/plain": [
              "15"
            ]
          },
          "metadata": {},
          "execution_count": 73
        }
      ]
    },
    {
      "cell_type": "code",
      "source": [
        "list('python')"
      ],
      "metadata": {
        "colab": {
          "base_uri": "https://localhost:8080/"
        },
        "id": "jE3FU_hib3aA",
        "outputId": "7b247f95-2708-47ca-a028-6a2a94d1bda3"
      },
      "execution_count": null,
      "outputs": [
        {
          "output_type": "execute_result",
          "data": {
            "text/plain": [
              "['p', 'y', 't', 'h', 'o', 'n']"
            ]
          },
          "metadata": {},
          "execution_count": 74
        }
      ]
    },
    {
      "cell_type": "code",
      "source": [
        "def two_times(x):return 2*x\n",
        "print(list(map(two_times,[1,2,3,4])))"
      ],
      "metadata": {
        "colab": {
          "base_uri": "https://localhost:8080/"
        },
        "id": "ZlFNW4t5cA7Q",
        "outputId": "ad7dae9f-b955-489d-dd19-c5c347209ed1"
      },
      "execution_count": null,
      "outputs": [
        {
          "output_type": "stream",
          "name": "stdout",
          "text": [
            "[2, 4, 6, 8]\n"
          ]
        }
      ]
    },
    {
      "cell_type": "code",
      "source": [
        "list(map(int,['1','2','3','4']))"
      ],
      "metadata": {
        "colab": {
          "base_uri": "https://localhost:8080/"
        },
        "id": "YbHZ8ogZdEv5",
        "outputId": "60621d5d-3f9b-42dc-f31d-93d83214b45e"
      },
      "execution_count": null,
      "outputs": [
        {
          "output_type": "execute_result",
          "data": {
            "text/plain": [
              "[1, 2, 3, 4]"
            ]
          },
          "metadata": {},
          "execution_count": 80
        }
      ]
    },
    {
      "cell_type": "code",
      "source": [
        "print(dir('python'),end = ' ')"
      ],
      "metadata": {
        "colab": {
          "base_uri": "https://localhost:8080/"
        },
        "id": "GN_PKSoEd5RJ",
        "outputId": "8c1d0934-5ec9-4355-cc66-36a66cf5961a"
      },
      "execution_count": null,
      "outputs": [
        {
          "output_type": "stream",
          "name": "stdout",
          "text": [
            "['__add__', '__class__', '__contains__', '__delattr__', '__dir__', '__doc__', '__eq__', '__format__', '__ge__', '__getattribute__', '__getitem__', '__getnewargs__', '__gt__', '__hash__', '__init__', '__init_subclass__', '__iter__', '__le__', '__len__', '__lt__', '__mod__', '__mul__', '__ne__', '__new__', '__reduce__', '__reduce_ex__', '__repr__', '__rmod__', '__rmul__', '__setattr__', '__sizeof__', '__str__', '__subclasshook__', 'capitalize', 'casefold', 'center', 'count', 'encode', 'endswith', 'expandtabs', 'find', 'format', 'format_map', 'index', 'isalnum', 'isalpha', 'isascii', 'isdecimal', 'isdigit', 'isidentifier', 'islower', 'isnumeric', 'isprintable', 'isspace', 'istitle', 'isupper', 'join', 'ljust', 'lower', 'lstrip', 'maketrans', 'partition', 'replace', 'rfind', 'rindex', 'rjust', 'rpartition', 'rsplit', 'rstrip', 'split', 'splitlines', 'startswith', 'strip', 'swapcase', 'title', 'translate', 'upper', 'zfill'] "
          ]
        }
      ]
    },
    {
      "cell_type": "code",
      "source": [
        "round(3.141592,2)"
      ],
      "metadata": {
        "colab": {
          "base_uri": "https://localhost:8080/"
        },
        "id": "Aef98pMqd_6A",
        "outputId": "fdcf5f75-f1a6-4357-fadd-1ba3aeb6423e"
      },
      "execution_count": null,
      "outputs": [
        {
          "output_type": "execute_result",
          "data": {
            "text/plain": [
              "3.14"
            ]
          },
          "metadata": {},
          "execution_count": 84
        }
      ]
    },
    {
      "cell_type": "code",
      "source": [
        "list(zip([1,2,3],[4,5,6]))"
      ],
      "metadata": {
        "colab": {
          "base_uri": "https://localhost:8080/"
        },
        "id": "IRLrS_Jtgiqp",
        "outputId": "e7dd8228-be96-4c70-caca-88bff7159cf5"
      },
      "execution_count": null,
      "outputs": [
        {
          "output_type": "execute_result",
          "data": {
            "text/plain": [
              "[(1, 4), (2, 5), (3, 6)]"
            ]
          },
          "metadata": {},
          "execution_count": 85
        }
      ]
    },
    {
      "cell_type": "code",
      "source": [
        "list(zip([1,2,3],[4,5,6],[7,8,9]))"
      ],
      "metadata": {
        "colab": {
          "base_uri": "https://localhost:8080/"
        },
        "id": "dEgiYEmngpuZ",
        "outputId": "d43e58e6-cb53-4311-b7fb-6e2b585cb5ce"
      },
      "execution_count": null,
      "outputs": [
        {
          "output_type": "execute_result",
          "data": {
            "text/plain": [
              "[(1, 4, 7), (2, 5, 8), (3, 6, 9)]"
            ]
          },
          "metadata": {},
          "execution_count": 86
        }
      ]
    },
    {
      "cell_type": "code",
      "source": [
        "for i,j,k,l in zip([1,2,3],[4,5,6],['a','b','c'],['정','전','박']):\n",
        "  print(i,j,k,l)"
      ],
      "metadata": {
        "colab": {
          "base_uri": "https://localhost:8080/"
        },
        "id": "0M9eqAiphH1R",
        "outputId": "f51ea3d8-2c0e-4330-a8d3-0e6e540ebc8b"
      },
      "execution_count": null,
      "outputs": [
        {
          "output_type": "stream",
          "name": "stdout",
          "text": [
            "1 4 a 정\n",
            "2 5 b 전\n",
            "3 6 c 박\n"
          ]
        }
      ]
    },
    {
      "cell_type": "code",
      "source": [
        "import folium\n",
        "import pandas as pd"
      ],
      "metadata": {
        "id": "pUUGxID_iZ-S"
      },
      "execution_count": null,
      "outputs": []
    },
    {
      "cell_type": "code",
      "source": [
        "df = pd.read_excel('/content/sample_data/서울지역대학교위치.xlsx')"
      ],
      "metadata": {
        "id": "gwakAJMhi4qZ"
      },
      "execution_count": null,
      "outputs": []
    },
    {
      "cell_type": "code",
      "source": [
        "df"
      ],
      "metadata": {
        "colab": {
          "base_uri": "https://localhost:8080/",
          "height": 1000
        },
        "id": "Ejae_msujBOR",
        "outputId": "36803bad-0b81-416e-dd65-9776387e0ee0"
      },
      "execution_count": null,
      "outputs": [
        {
          "output_type": "execute_result",
          "data": {
            "text/plain": [
              "               대학교         위도          경도\n",
              "0     KAIST 서울캠퍼스   37.592573  127.046737\n",
              "1            KC대학교  37.548345  126.854797\n",
              "2     가톨릭대학교(성신교정)  37.585922  127.004328\n",
              "3     가톨릭대학교(성의교정)  37.499623  127.006065\n",
              "4         감리교신학대학교  37.567645  126.961610\n",
              "5            건국대학교  37.540762  127.079343\n",
              "6     경기대학교 서울캠퍼스   37.300485  127.035833\n",
              "7     경희대학교 서울캠퍼스   37.596195  127.052544\n",
              "8            고려대학교  37.590192  127.033184\n",
              "9            광운대학교  37.619496  127.059696\n",
              "10           국민대학교  37.609641  126.997697\n",
              "11         덕성여자대학교  37.651199  127.016160\n",
              "12           동국대학교  37.557477  127.002052\n",
              "13         동덕여자대학교  37.606320  127.041808\n",
              "14    명지대학교 서울캠퍼스   37.580205  126.923445\n",
              "15           삼육대학교  37.642952  127.105476\n",
              "16    상명대학교 서울캠퍼스   37.602638  126.955252\n",
              "17           서강대학교  37.550944  126.941002\n",
              "18           서경대학교  37.615095  127.013111\n",
              "19       서울과학기술대학교  37.631668  127.077481\n",
              "20         서울교육대학교  37.489961  127.016412\n",
              "21         서울기독대학교  37.600923  126.912382\n",
              "22           서울대학교  37.459882  126.951905\n",
              "23         서울시립대학교  37.583866  127.058777\n",
              "24         서울여자대학교  37.628113  127.090457\n",
              "25         서울한영대학교  37.496541  126.851262\n",
              "26          성공회대학교  37.487232  126.825320\n",
              "27  성균관대학교 서울캠퍼스    37.588227  126.993606\n",
              "28         성신여자대학교  37.591310  127.022131\n",
              "29           세종대학교  37.550260  127.073139\n",
              "30         숙명여자대학교  37.546364  126.964831\n",
              "31           숭실대학교  37.496311  126.957460\n",
              "32           연세대학교  37.565784  126.938572\n",
              "33          육군사관학교  37.623819  127.098878\n",
              "34         이화여자대학교  37.564308  126.950179\n",
              "35        장로회신학대학교  37.550511  127.103458\n",
              "36    중앙대학교 서울캠퍼스   37.505088  126.957101\n",
              "37           총신대학교  37.488623  126.966817\n",
              "38         추계예술대학교  37.562452  126.953417\n",
              "39       한국방송통신대학교  37.578613  127.003291\n",
              "40         한국성서대학교  37.648749  127.064320\n",
              "41        한국예술종합학교  37.604997  127.056740\n",
              "42        한국외국어대학교  37.597319  127.057843\n",
              "43         한국체육대학교  37.519627  127.130984\n",
              "44           한성대학교  37.581785  127.010369\n",
              "45           한양대학교  37.557232  127.045322\n",
              "46           홍익대학교  37.551464  126.925011"
            ],
            "text/html": [
              "\n",
              "  <div id=\"df-cbf6c31b-3122-423f-827d-a3b5efd7cbd3\">\n",
              "    <div class=\"colab-df-container\">\n",
              "      <div>\n",
              "<style scoped>\n",
              "    .dataframe tbody tr th:only-of-type {\n",
              "        vertical-align: middle;\n",
              "    }\n",
              "\n",
              "    .dataframe tbody tr th {\n",
              "        vertical-align: top;\n",
              "    }\n",
              "\n",
              "    .dataframe thead th {\n",
              "        text-align: right;\n",
              "    }\n",
              "</style>\n",
              "<table border=\"1\" class=\"dataframe\">\n",
              "  <thead>\n",
              "    <tr style=\"text-align: right;\">\n",
              "      <th></th>\n",
              "      <th>대학교</th>\n",
              "      <th>위도</th>\n",
              "      <th>경도</th>\n",
              "    </tr>\n",
              "  </thead>\n",
              "  <tbody>\n",
              "    <tr>\n",
              "      <th>0</th>\n",
              "      <td>KAIST 서울캠퍼스</td>\n",
              "      <td>37.592573</td>\n",
              "      <td>127.046737</td>\n",
              "    </tr>\n",
              "    <tr>\n",
              "      <th>1</th>\n",
              "      <td>KC대학교</td>\n",
              "      <td>37.548345</td>\n",
              "      <td>126.854797</td>\n",
              "    </tr>\n",
              "    <tr>\n",
              "      <th>2</th>\n",
              "      <td>가톨릭대학교(성신교정)</td>\n",
              "      <td>37.585922</td>\n",
              "      <td>127.004328</td>\n",
              "    </tr>\n",
              "    <tr>\n",
              "      <th>3</th>\n",
              "      <td>가톨릭대학교(성의교정)</td>\n",
              "      <td>37.499623</td>\n",
              "      <td>127.006065</td>\n",
              "    </tr>\n",
              "    <tr>\n",
              "      <th>4</th>\n",
              "      <td>감리교신학대학교</td>\n",
              "      <td>37.567645</td>\n",
              "      <td>126.961610</td>\n",
              "    </tr>\n",
              "    <tr>\n",
              "      <th>5</th>\n",
              "      <td>건국대학교</td>\n",
              "      <td>37.540762</td>\n",
              "      <td>127.079343</td>\n",
              "    </tr>\n",
              "    <tr>\n",
              "      <th>6</th>\n",
              "      <td>경기대학교 서울캠퍼스</td>\n",
              "      <td>37.300485</td>\n",
              "      <td>127.035833</td>\n",
              "    </tr>\n",
              "    <tr>\n",
              "      <th>7</th>\n",
              "      <td>경희대학교 서울캠퍼스</td>\n",
              "      <td>37.596195</td>\n",
              "      <td>127.052544</td>\n",
              "    </tr>\n",
              "    <tr>\n",
              "      <th>8</th>\n",
              "      <td>고려대학교</td>\n",
              "      <td>37.590192</td>\n",
              "      <td>127.033184</td>\n",
              "    </tr>\n",
              "    <tr>\n",
              "      <th>9</th>\n",
              "      <td>광운대학교</td>\n",
              "      <td>37.619496</td>\n",
              "      <td>127.059696</td>\n",
              "    </tr>\n",
              "    <tr>\n",
              "      <th>10</th>\n",
              "      <td>국민대학교</td>\n",
              "      <td>37.609641</td>\n",
              "      <td>126.997697</td>\n",
              "    </tr>\n",
              "    <tr>\n",
              "      <th>11</th>\n",
              "      <td>덕성여자대학교</td>\n",
              "      <td>37.651199</td>\n",
              "      <td>127.016160</td>\n",
              "    </tr>\n",
              "    <tr>\n",
              "      <th>12</th>\n",
              "      <td>동국대학교</td>\n",
              "      <td>37.557477</td>\n",
              "      <td>127.002052</td>\n",
              "    </tr>\n",
              "    <tr>\n",
              "      <th>13</th>\n",
              "      <td>동덕여자대학교</td>\n",
              "      <td>37.606320</td>\n",
              "      <td>127.041808</td>\n",
              "    </tr>\n",
              "    <tr>\n",
              "      <th>14</th>\n",
              "      <td>명지대학교 서울캠퍼스</td>\n",
              "      <td>37.580205</td>\n",
              "      <td>126.923445</td>\n",
              "    </tr>\n",
              "    <tr>\n",
              "      <th>15</th>\n",
              "      <td>삼육대학교</td>\n",
              "      <td>37.642952</td>\n",
              "      <td>127.105476</td>\n",
              "    </tr>\n",
              "    <tr>\n",
              "      <th>16</th>\n",
              "      <td>상명대학교 서울캠퍼스</td>\n",
              "      <td>37.602638</td>\n",
              "      <td>126.955252</td>\n",
              "    </tr>\n",
              "    <tr>\n",
              "      <th>17</th>\n",
              "      <td>서강대학교</td>\n",
              "      <td>37.550944</td>\n",
              "      <td>126.941002</td>\n",
              "    </tr>\n",
              "    <tr>\n",
              "      <th>18</th>\n",
              "      <td>서경대학교</td>\n",
              "      <td>37.615095</td>\n",
              "      <td>127.013111</td>\n",
              "    </tr>\n",
              "    <tr>\n",
              "      <th>19</th>\n",
              "      <td>서울과학기술대학교</td>\n",
              "      <td>37.631668</td>\n",
              "      <td>127.077481</td>\n",
              "    </tr>\n",
              "    <tr>\n",
              "      <th>20</th>\n",
              "      <td>서울교육대학교</td>\n",
              "      <td>37.489961</td>\n",
              "      <td>127.016412</td>\n",
              "    </tr>\n",
              "    <tr>\n",
              "      <th>21</th>\n",
              "      <td>서울기독대학교</td>\n",
              "      <td>37.600923</td>\n",
              "      <td>126.912382</td>\n",
              "    </tr>\n",
              "    <tr>\n",
              "      <th>22</th>\n",
              "      <td>서울대학교</td>\n",
              "      <td>37.459882</td>\n",
              "      <td>126.951905</td>\n",
              "    </tr>\n",
              "    <tr>\n",
              "      <th>23</th>\n",
              "      <td>서울시립대학교</td>\n",
              "      <td>37.583866</td>\n",
              "      <td>127.058777</td>\n",
              "    </tr>\n",
              "    <tr>\n",
              "      <th>24</th>\n",
              "      <td>서울여자대학교</td>\n",
              "      <td>37.628113</td>\n",
              "      <td>127.090457</td>\n",
              "    </tr>\n",
              "    <tr>\n",
              "      <th>25</th>\n",
              "      <td>서울한영대학교</td>\n",
              "      <td>37.496541</td>\n",
              "      <td>126.851262</td>\n",
              "    </tr>\n",
              "    <tr>\n",
              "      <th>26</th>\n",
              "      <td>성공회대학교</td>\n",
              "      <td>37.487232</td>\n",
              "      <td>126.825320</td>\n",
              "    </tr>\n",
              "    <tr>\n",
              "      <th>27</th>\n",
              "      <td>성균관대학교 서울캠퍼스</td>\n",
              "      <td>37.588227</td>\n",
              "      <td>126.993606</td>\n",
              "    </tr>\n",
              "    <tr>\n",
              "      <th>28</th>\n",
              "      <td>성신여자대학교</td>\n",
              "      <td>37.591310</td>\n",
              "      <td>127.022131</td>\n",
              "    </tr>\n",
              "    <tr>\n",
              "      <th>29</th>\n",
              "      <td>세종대학교</td>\n",
              "      <td>37.550260</td>\n",
              "      <td>127.073139</td>\n",
              "    </tr>\n",
              "    <tr>\n",
              "      <th>30</th>\n",
              "      <td>숙명여자대학교</td>\n",
              "      <td>37.546364</td>\n",
              "      <td>126.964831</td>\n",
              "    </tr>\n",
              "    <tr>\n",
              "      <th>31</th>\n",
              "      <td>숭실대학교</td>\n",
              "      <td>37.496311</td>\n",
              "      <td>126.957460</td>\n",
              "    </tr>\n",
              "    <tr>\n",
              "      <th>32</th>\n",
              "      <td>연세대학교</td>\n",
              "      <td>37.565784</td>\n",
              "      <td>126.938572</td>\n",
              "    </tr>\n",
              "    <tr>\n",
              "      <th>33</th>\n",
              "      <td>육군사관학교</td>\n",
              "      <td>37.623819</td>\n",
              "      <td>127.098878</td>\n",
              "    </tr>\n",
              "    <tr>\n",
              "      <th>34</th>\n",
              "      <td>이화여자대학교</td>\n",
              "      <td>37.564308</td>\n",
              "      <td>126.950179</td>\n",
              "    </tr>\n",
              "    <tr>\n",
              "      <th>35</th>\n",
              "      <td>장로회신학대학교</td>\n",
              "      <td>37.550511</td>\n",
              "      <td>127.103458</td>\n",
              "    </tr>\n",
              "    <tr>\n",
              "      <th>36</th>\n",
              "      <td>중앙대학교 서울캠퍼스</td>\n",
              "      <td>37.505088</td>\n",
              "      <td>126.957101</td>\n",
              "    </tr>\n",
              "    <tr>\n",
              "      <th>37</th>\n",
              "      <td>총신대학교</td>\n",
              "      <td>37.488623</td>\n",
              "      <td>126.966817</td>\n",
              "    </tr>\n",
              "    <tr>\n",
              "      <th>38</th>\n",
              "      <td>추계예술대학교</td>\n",
              "      <td>37.562452</td>\n",
              "      <td>126.953417</td>\n",
              "    </tr>\n",
              "    <tr>\n",
              "      <th>39</th>\n",
              "      <td>한국방송통신대학교</td>\n",
              "      <td>37.578613</td>\n",
              "      <td>127.003291</td>\n",
              "    </tr>\n",
              "    <tr>\n",
              "      <th>40</th>\n",
              "      <td>한국성서대학교</td>\n",
              "      <td>37.648749</td>\n",
              "      <td>127.064320</td>\n",
              "    </tr>\n",
              "    <tr>\n",
              "      <th>41</th>\n",
              "      <td>한국예술종합학교</td>\n",
              "      <td>37.604997</td>\n",
              "      <td>127.056740</td>\n",
              "    </tr>\n",
              "    <tr>\n",
              "      <th>42</th>\n",
              "      <td>한국외국어대학교</td>\n",
              "      <td>37.597319</td>\n",
              "      <td>127.057843</td>\n",
              "    </tr>\n",
              "    <tr>\n",
              "      <th>43</th>\n",
              "      <td>한국체육대학교</td>\n",
              "      <td>37.519627</td>\n",
              "      <td>127.130984</td>\n",
              "    </tr>\n",
              "    <tr>\n",
              "      <th>44</th>\n",
              "      <td>한성대학교</td>\n",
              "      <td>37.581785</td>\n",
              "      <td>127.010369</td>\n",
              "    </tr>\n",
              "    <tr>\n",
              "      <th>45</th>\n",
              "      <td>한양대학교</td>\n",
              "      <td>37.557232</td>\n",
              "      <td>127.045322</td>\n",
              "    </tr>\n",
              "    <tr>\n",
              "      <th>46</th>\n",
              "      <td>홍익대학교</td>\n",
              "      <td>37.551464</td>\n",
              "      <td>126.925011</td>\n",
              "    </tr>\n",
              "  </tbody>\n",
              "</table>\n",
              "</div>\n",
              "      <button class=\"colab-df-convert\" onclick=\"convertToInteractive('df-cbf6c31b-3122-423f-827d-a3b5efd7cbd3')\"\n",
              "              title=\"Convert this dataframe to an interactive table.\"\n",
              "              style=\"display:none;\">\n",
              "        \n",
              "  <svg xmlns=\"http://www.w3.org/2000/svg\" height=\"24px\"viewBox=\"0 0 24 24\"\n",
              "       width=\"24px\">\n",
              "    <path d=\"M0 0h24v24H0V0z\" fill=\"none\"/>\n",
              "    <path d=\"M18.56 5.44l.94 2.06.94-2.06 2.06-.94-2.06-.94-.94-2.06-.94 2.06-2.06.94zm-11 1L8.5 8.5l.94-2.06 2.06-.94-2.06-.94L8.5 2.5l-.94 2.06-2.06.94zm10 10l.94 2.06.94-2.06 2.06-.94-2.06-.94-.94-2.06-.94 2.06-2.06.94z\"/><path d=\"M17.41 7.96l-1.37-1.37c-.4-.4-.92-.59-1.43-.59-.52 0-1.04.2-1.43.59L10.3 9.45l-7.72 7.72c-.78.78-.78 2.05 0 2.83L4 21.41c.39.39.9.59 1.41.59.51 0 1.02-.2 1.41-.59l7.78-7.78 2.81-2.81c.8-.78.8-2.07 0-2.86zM5.41 20L4 18.59l7.72-7.72 1.47 1.35L5.41 20z\"/>\n",
              "  </svg>\n",
              "      </button>\n",
              "      \n",
              "  <style>\n",
              "    .colab-df-container {\n",
              "      display:flex;\n",
              "      flex-wrap:wrap;\n",
              "      gap: 12px;\n",
              "    }\n",
              "\n",
              "    .colab-df-convert {\n",
              "      background-color: #E8F0FE;\n",
              "      border: none;\n",
              "      border-radius: 50%;\n",
              "      cursor: pointer;\n",
              "      display: none;\n",
              "      fill: #1967D2;\n",
              "      height: 32px;\n",
              "      padding: 0 0 0 0;\n",
              "      width: 32px;\n",
              "    }\n",
              "\n",
              "    .colab-df-convert:hover {\n",
              "      background-color: #E2EBFA;\n",
              "      box-shadow: 0px 1px 2px rgba(60, 64, 67, 0.3), 0px 1px 3px 1px rgba(60, 64, 67, 0.15);\n",
              "      fill: #174EA6;\n",
              "    }\n",
              "\n",
              "    [theme=dark] .colab-df-convert {\n",
              "      background-color: #3B4455;\n",
              "      fill: #D2E3FC;\n",
              "    }\n",
              "\n",
              "    [theme=dark] .colab-df-convert:hover {\n",
              "      background-color: #434B5C;\n",
              "      box-shadow: 0px 1px 3px 1px rgba(0, 0, 0, 0.15);\n",
              "      filter: drop-shadow(0px 1px 2px rgba(0, 0, 0, 0.3));\n",
              "      fill: #FFFFFF;\n",
              "    }\n",
              "  </style>\n",
              "\n",
              "      <script>\n",
              "        const buttonEl =\n",
              "          document.querySelector('#df-cbf6c31b-3122-423f-827d-a3b5efd7cbd3 button.colab-df-convert');\n",
              "        buttonEl.style.display =\n",
              "          google.colab.kernel.accessAllowed ? 'block' : 'none';\n",
              "\n",
              "        async function convertToInteractive(key) {\n",
              "          const element = document.querySelector('#df-cbf6c31b-3122-423f-827d-a3b5efd7cbd3');\n",
              "          const dataTable =\n",
              "            await google.colab.kernel.invokeFunction('convertToInteractive',\n",
              "                                                     [key], {});\n",
              "          if (!dataTable) return;\n",
              "\n",
              "          const docLinkHtml = 'Like what you see? Visit the ' +\n",
              "            '<a target=\"_blank\" href=https://colab.research.google.com/notebooks/data_table.ipynb>data table notebook</a>'\n",
              "            + ' to learn more about interactive tables.';\n",
              "          element.innerHTML = '';\n",
              "          dataTable['output_type'] = 'display_data';\n",
              "          await google.colab.output.renderOutput(dataTable, element);\n",
              "          const docLink = document.createElement('div');\n",
              "          docLink.innerHTML = docLinkHtml;\n",
              "          element.appendChild(docLink);\n",
              "        }\n",
              "      </script>\n",
              "    </div>\n",
              "  </div>\n",
              "  "
            ]
          },
          "metadata": {},
          "execution_count": 93
        }
      ]
    },
    {
      "cell_type": "code",
      "source": [
        "df.대학교"
      ],
      "metadata": {
        "colab": {
          "base_uri": "https://localhost:8080/"
        },
        "id": "d08ODbJimlpx",
        "outputId": "cc30108f-09a0-4ff2-ca4b-4839d1250609"
      },
      "execution_count": null,
      "outputs": [
        {
          "output_type": "execute_result",
          "data": {
            "text/plain": [
              "0       KAIST 서울캠퍼스 \n",
              "1              KC대학교\n",
              "2       가톨릭대학교(성신교정)\n",
              "3       가톨릭대학교(성의교정)\n",
              "4           감리교신학대학교\n",
              "5              건국대학교\n",
              "6       경기대학교 서울캠퍼스 \n",
              "7       경희대학교 서울캠퍼스 \n",
              "8              고려대학교\n",
              "9              광운대학교\n",
              "10             국민대학교\n",
              "11           덕성여자대학교\n",
              "12             동국대학교\n",
              "13           동덕여자대학교\n",
              "14      명지대학교 서울캠퍼스 \n",
              "15             삼육대학교\n",
              "16      상명대학교 서울캠퍼스 \n",
              "17             서강대학교\n",
              "18             서경대학교\n",
              "19         서울과학기술대학교\n",
              "20           서울교육대학교\n",
              "21           서울기독대학교\n",
              "22             서울대학교\n",
              "23           서울시립대학교\n",
              "24           서울여자대학교\n",
              "25           서울한영대학교\n",
              "26            성공회대학교\n",
              "27    성균관대학교 서울캠퍼스  \n",
              "28           성신여자대학교\n",
              "29             세종대학교\n",
              "30           숙명여자대학교\n",
              "31             숭실대학교\n",
              "32             연세대학교\n",
              "33            육군사관학교\n",
              "34           이화여자대학교\n",
              "35          장로회신학대학교\n",
              "36      중앙대학교 서울캠퍼스 \n",
              "37             총신대학교\n",
              "38           추계예술대학교\n",
              "39         한국방송통신대학교\n",
              "40           한국성서대학교\n",
              "41          한국예술종합학교\n",
              "42          한국외국어대학교\n",
              "43           한국체육대학교\n",
              "44             한성대학교\n",
              "45             한양대학교\n",
              "46             홍익대학교\n",
              "Name: 대학교, dtype: object"
            ]
          },
          "metadata": {},
          "execution_count": 96
        }
      ]
    },
    {
      "cell_type": "code",
      "source": [
        "print(df.위도.values)"
      ],
      "metadata": {
        "colab": {
          "base_uri": "https://localhost:8080/"
        },
        "id": "Z2pz9TP7moSg",
        "outputId": "1075302a-d558-4a0e-cfed-bbfc0d840fa4"
      },
      "execution_count": null,
      "outputs": [
        {
          "output_type": "stream",
          "name": "stdout",
          "text": [
            "[37.592573   37.5483449  37.5859218  37.4996227  37.5676455  37.5407625\n",
            " 37.300485   37.5961951  37.59019162 37.6194965  37.6096409  37.6511988\n",
            " 37.5574771  37.6063202  37.5802046  37.6429515  37.602638   37.5509442\n",
            " 37.615095   37.6316684  37.4899615  37.6009228  37.459882   37.5838657\n",
            " 37.6281126  37.4965411  37.4872325  37.588227   37.5913103  37.5502596\n",
            " 37.5463644  37.4963111  37.565784   37.6238188  37.5643079  37.5505112\n",
            " 37.5050881  37.4886232  37.5624515  37.5786127  37.6487485  37.6049973\n",
            " 37.597319   37.5196266  37.5817849  37.5572321  37.5514642 ]\n"
          ]
        }
      ]
    },
    {
      "cell_type": "code",
      "source": [
        "for i,j,k in zip(df.대학교, df.위도, df.경도):\n",
        "  print(i,j,k)"
      ],
      "metadata": {
        "colab": {
          "base_uri": "https://localhost:8080/"
        },
        "id": "qCo-B0gJmx_q",
        "outputId": "93503345-3cdc-446d-e65d-14aba73ca11e"
      },
      "execution_count": null,
      "outputs": [
        {
          "output_type": "stream",
          "name": "stdout",
          "text": [
            "KAIST 서울캠퍼스  37.592573 127.046737\n",
            "KC대학교 37.5483449 126.8547974\n",
            "가톨릭대학교(성신교정) 37.5859218 127.0043275\n",
            "가톨릭대학교(성의교정) 37.4996227 127.0060653\n",
            "감리교신학대학교 37.5676455 126.96161\n",
            "건국대학교 37.5407625 127.0793428\n",
            "경기대학교 서울캠퍼스  37.30048499999999 127.035833\n",
            "경희대학교 서울캠퍼스  37.5961951 127.052544\n",
            "고려대학교 37.59019162 127.03318417123\n",
            "광운대학교 37.6194965 127.0596958\n",
            "국민대학교 37.6096409 126.997697\n",
            "덕성여자대학교 37.6511988 127.0161604\n",
            "동국대학교 37.5574771 127.0020518\n",
            "동덕여자대학교 37.6063202 127.041808\n",
            "명지대학교 서울캠퍼스  37.5802046 126.9234451\n",
            "삼육대학교 37.6429515 127.1054757\n",
            "상명대학교 서울캠퍼스  37.602638 126.955252\n",
            "서강대학교 37.5509442 126.9410023\n",
            "서경대학교 37.615095 127.0131113\n",
            "서울과학기술대학교 37.6316684 127.0774813\n",
            "서울교육대학교 37.4899615 127.0164124\n",
            "서울기독대학교 37.6009228 126.9123818\n",
            "서울대학교 37.459882 126.9519053\n",
            "서울시립대학교 37.5838657 127.0587771\n",
            "서울여자대학교 37.6281126 127.0904568\n",
            "서울한영대학교 37.4965411 126.8512616\n",
            "성공회대학교 37.4872325 126.8253202\n",
            "성균관대학교 서울캠퍼스   37.588227 126.993606\n",
            "성신여자대학교 37.5913103 127.0221312\n",
            "세종대학교 37.5502596 127.073139\n",
            "숙명여자대학교 37.5463644 126.9648311\n",
            "숭실대학교 37.4963111 126.9574596\n",
            "연세대학교 37.565784 126.938572\n",
            "육군사관학교 37.6238188 127.0988783\n",
            "이화여자대학교 37.5643079 126.9501786\n",
            "장로회신학대학교 37.5505112 127.1034577\n",
            "중앙대학교 서울캠퍼스  37.5050881 126.9571012\n",
            "총신대학교 37.4886232 126.9668169\n",
            "추계예술대학교 37.5624515 126.9534165\n",
            "한국방송통신대학교 37.5786127 127.0032905\n",
            "한국성서대학교 37.6487485 127.0643199\n",
            "한국예술종합학교 37.6049973 127.0567397\n",
            "한국외국어대학교 37.597319 127.057843\n",
            "한국체육대학교 37.5196266 127.1309837\n",
            "한성대학교 37.5817849 127.010369\n",
            "한양대학교 37.5572321 127.0453219\n",
            "홍익대학교 37.5514642 126.9250106\n"
          ]
        }
      ]
    },
    {
      "cell_type": "code",
      "source": [
        "# 서울 지도 만들기\n",
        "map = folium.Map(location=[37.55,126.98], tiles='Stamen Terrain', \n",
        "                        zoom_start=12)\n",
        "\n",
        "# 대학교 위치정보를 Marker로 표시\n",
        "for name, lat, lng in zip(df.대학교, df.위도, df.경도):\n",
        "    folium.Marker([lat, lng], tooltip=name).add_to(map)\n",
        "\n",
        "# 지도를 HTML 파일로 저장하기\n",
        "map.save('./top6.html')"
      ],
      "metadata": {
        "id": "ZxfzU2OukEmy"
      },
      "execution_count": null,
      "outputs": []
    },
    {
      "cell_type": "markdown",
      "source": [
        "#외장함수"
      ],
      "metadata": {
        "id": "nhNkPzT8q9WJ"
      }
    },
    {
      "cell_type": "code",
      "source": [
        "sys.path"
      ],
      "metadata": {
        "colab": {
          "base_uri": "https://localhost:8080/"
        },
        "id": "Q-TtcITsrB3Z",
        "outputId": "c6d6d8ec-f0db-45bc-8055-5f2a55506ea9"
      },
      "execution_count": null,
      "outputs": [
        {
          "output_type": "execute_result",
          "data": {
            "text/plain": [
              "['/content',\n",
              " '/env/python',\n",
              " '/usr/lib/python37.zip',\n",
              " '/usr/lib/python3.7',\n",
              " '/usr/lib/python3.7/lib-dynload',\n",
              " '',\n",
              " '/usr/local/lib/python3.7/dist-packages',\n",
              " '/usr/lib/python3/dist-packages',\n",
              " '/usr/local/lib/python3.7/dist-packages/IPython/extensions',\n",
              " '/root/.ipython']"
            ]
          },
          "metadata": {},
          "execution_count": 107
        }
      ]
    },
    {
      "cell_type": "code",
      "source": [
        "sys.argv"
      ],
      "metadata": {
        "colab": {
          "base_uri": "https://localhost:8080/"
        },
        "id": "R6EQooTprhZR",
        "outputId": "67312e0e-6964-4184-810f-a661d02ee590"
      },
      "execution_count": null,
      "outputs": [
        {
          "output_type": "execute_result",
          "data": {
            "text/plain": [
              "['/usr/local/lib/python3.7/dist-packages/ipykernel_launcher.py',\n",
              " '-f',\n",
              " '/root/.local/share/jupyter/runtime/kernel-87b3bb13-a544-4ba3-b586-6caee280fef2.json']"
            ]
          },
          "metadata": {},
          "execution_count": 112
        }
      ]
    },
    {
      "cell_type": "code",
      "source": [
        "sys.path"
      ],
      "metadata": {
        "colab": {
          "base_uri": "https://localhost:8080/"
        },
        "id": "jfoUk5mesNg8",
        "outputId": "f42ddd13-7a3c-4a30-ee0a-767429f9ad29"
      },
      "execution_count": null,
      "outputs": [
        {
          "output_type": "execute_result",
          "data": {
            "text/plain": [
              "['/content',\n",
              " '/env/python',\n",
              " '/usr/lib/python37.zip',\n",
              " '/usr/lib/python3.7',\n",
              " '/usr/lib/python3.7/lib-dynload',\n",
              " '',\n",
              " '/usr/local/lib/python3.7/dist-packages',\n",
              " '/usr/lib/python3/dist-packages',\n",
              " '/usr/local/lib/python3.7/dist-packages/IPython/extensions',\n",
              " '/root/.ipython']"
            ]
          },
          "metadata": {},
          "execution_count": 113
        }
      ]
    },
    {
      "cell_type": "code",
      "source": [
        "import os"
      ],
      "metadata": {
        "id": "oFcTOPu1sQZO"
      },
      "execution_count": null,
      "outputs": []
    },
    {
      "cell_type": "code",
      "source": [
        "os.environ"
      ],
      "metadata": {
        "colab": {
          "base_uri": "https://localhost:8080/"
        },
        "id": "_MmpfijEsRlN",
        "outputId": "f371e14d-813a-48db-8499-57da9fab03f6"
      },
      "execution_count": null,
      "outputs": [
        {
          "output_type": "execute_result",
          "data": {
            "text/plain": [
              "environ{'NV_LIBCUBLAS_DEV_VERSION': '11.3.0.106-1',\n",
              "        'NV_CUDA_COMPAT_PACKAGE': 'cuda-compat-11-1',\n",
              "        'NV_CUDNN_PACKAGE_DEV': 'libcudnn8-dev=8.0.5.39-1+cuda11.1',\n",
              "        'LD_LIBRARY_PATH': '/usr/local/nvidia/lib:/usr/local/nvidia/lib64',\n",
              "        'NV_LIBNCCL_DEV_PACKAGE': 'libnccl-dev=2.8.4-1+cuda11.1',\n",
              "        'CLOUDSDK_PYTHON': 'python3',\n",
              "        'LANG': 'en_US.UTF-8',\n",
              "        'NV_LIBNPP_DEV_PACKAGE': 'libnpp-dev-11-1=11.1.2.301-1',\n",
              "        'HOSTNAME': '40272a56ab26',\n",
              "        'OLDPWD': '/',\n",
              "        'CLOUDSDK_CONFIG': '/content/.config',\n",
              "        'NV_LIBNPP_VERSION': '11.1.2.301-1',\n",
              "        'NV_NVPROF_DEV_PACKAGE': 'cuda-nvprof-11-1=11.1.105-1',\n",
              "        'NVIDIA_VISIBLE_DEVICES': 'all',\n",
              "        'NV_NVPROF_VERSION': '11.1.105-1',\n",
              "        'NV_LIBCUSPARSE_VERSION': '11.3.0.10-1',\n",
              "        'DATALAB_SETTINGS_OVERRIDES': '{\"kernelManagerProxyPort\":6000,\"kernelManagerProxyHost\":\"172.28.0.3\",\"jupyterArgs\":[\"--ip=172.28.0.2\"],\"debugAdapterMultiplexerPath\":\"/usr/local/bin/dap_multiplexer\",\"enableLsp\":true}',\n",
              "        'NV_LIBCUBLAS_DEV_PACKAGE': 'libcublas-dev-11-1=11.3.0.106-1',\n",
              "        'ENV': '/root/.bashrc',\n",
              "        'NCCL_VERSION': '2.8.4-1',\n",
              "        'TF_FORCE_GPU_ALLOW_GROWTH': 'true',\n",
              "        'NO_GCE_CHECK': 'False',\n",
              "        'PWD': '/',\n",
              "        'NVARCH': 'x86_64',\n",
              "        'HOME': '/root',\n",
              "        'NV_LIBCUSPARSE_DEV_VERSION': '11.3.0.10-1',\n",
              "        'LAST_FORCED_REBUILD': '20220830',\n",
              "        'NV_LIBNCCL_PACKAGE_VERSION': '2.8.4-1',\n",
              "        'NV_LIBNCCL_PACKAGE': 'libnccl2=2.8.4-1+cuda11.1',\n",
              "        'DEBIAN_FRONTEND': 'noninteractive',\n",
              "        'NV_LIBNCCL_DEV_PACKAGE_NAME': 'libnccl-dev',\n",
              "        'NV_CUDA_LIB_VERSION': '11.1.1-1',\n",
              "        'NV_LIBNPP_PACKAGE': 'libnpp-11-1=11.1.2.301-1',\n",
              "        'NV_LIBNCCL_PACKAGE_NAME': 'libnccl2',\n",
              "        'LIBRARY_PATH': '/usr/local/cuda/lib64/stubs',\n",
              "        'NV_NVTX_VERSION': '11.1.74-1',\n",
              "        'NV_LIBCUBLAS_VERSION': '11.3.0.106-1',\n",
              "        'NV_LIBCUBLAS_PACKAGE': 'libcublas-11-1=11.3.0.106-1',\n",
              "        'GCE_METADATA_TIMEOUT': '3',\n",
              "        'NV_CUDNN_VERSION': '8.0.5.39',\n",
              "        'NV_CUDA_CUDART_DEV_VERSION': '11.1.74-1',\n",
              "        'GLIBCPP_FORCE_NEW': '1',\n",
              "        'TBE_CREDS_ADDR': '172.28.0.1:8008',\n",
              "        'SHELL': '/bin/bash',\n",
              "        'GCS_READ_CACHE_BLOCK_SIZE_MB': '16',\n",
              "        'NV_NVML_DEV_VERSION': '11.1.74-1',\n",
              "        'PYTHONWARNINGS': 'ignore:::pip._internal.cli.base_command',\n",
              "        'CUDA_VERSION': '11.1.1',\n",
              "        'NV_LIBCUBLAS_PACKAGE_NAME': 'libcublas-11-1',\n",
              "        'NVIDIA_DRIVER_CAPABILITIES': 'compute,utility',\n",
              "        'TBE_RUNTIME_ADDR': '172.28.0.1:8011',\n",
              "        'SHLVL': '0',\n",
              "        'PYTHONPATH': '/env/python',\n",
              "        'NV_LIBCUBLAS_DEV_PACKAGE_NAME': 'libcublas-dev-11-1',\n",
              "        'NVIDIA_REQUIRE_CUDA': 'cuda>=11.1 brand=tesla,driver>=418,driver<419 brand=tesla,driver>=450,driver<451',\n",
              "        'NV_LIBNPP_DEV_VERSION': '11.1.2.301-1',\n",
              "        'TBE_EPHEM_CREDS_ADDR': '172.28.0.1:8009',\n",
              "        'NV_CUDA_CUDART_VERSION': '11.1.74-1',\n",
              "        'COLAB_GPU': '0',\n",
              "        'NV_CUDNN_PACKAGE_NAME': 'libcudnn8',\n",
              "        'GLIBCXX_FORCE_NEW': '1',\n",
              "        'PATH': '/opt/bin:/usr/local/nvidia/bin:/usr/local/cuda/bin:/usr/local/sbin:/usr/local/bin:/usr/sbin:/usr/bin:/sbin:/bin:/tools/node/bin:/tools/google-cloud-sdk/bin',\n",
              "        'NV_LIBNCCL_DEV_PACKAGE_VERSION': '2.8.4-1',\n",
              "        'LD_PRELOAD': '/usr/lib/x86_64-linux-gnu/libtcmalloc.so.4',\n",
              "        'NV_CUDNN_PACKAGE': 'libcudnn8=8.0.5.39-1+cuda11.1',\n",
              "        'JPY_PARENT_PID': '41',\n",
              "        'TERM': 'xterm-color',\n",
              "        'CLICOLOR': '1',\n",
              "        'PAGER': 'cat',\n",
              "        'GIT_PAGER': 'cat',\n",
              "        'MPLBACKEND': 'module://ipykernel.pylab.backend_inline',\n",
              "        'ENABLE_DIRECTORYPREFETCHER': '1',\n",
              "        'USE_AUTH_EPHEM': '1',\n",
              "        'PYDEVD_USE_FRAME_EVAL': 'NO'}"
            ]
          },
          "metadata": {},
          "execution_count": 115
        }
      ]
    },
    {
      "cell_type": "code",
      "source": [
        "os.chdir"
      ],
      "metadata": {
        "colab": {
          "base_uri": "https://localhost:8080/"
        },
        "id": "uI3AOWqEsrf7",
        "outputId": "c6adc288-58ab-451e-c566-1f400c5c370d"
      },
      "execution_count": null,
      "outputs": [
        {
          "output_type": "execute_result",
          "data": {
            "text/plain": [
              "<function posix.chdir(path)>"
            ]
          },
          "metadata": {},
          "execution_count": 116
        }
      ]
    },
    {
      "cell_type": "code",
      "source": [
        "os.getcwd()"
      ],
      "metadata": {
        "colab": {
          "base_uri": "https://localhost:8080/",
          "height": 35
        },
        "id": "kXbYyBissulE",
        "outputId": "8f286683-78cc-4ac8-d273-a97e2bedff74"
      },
      "execution_count": null,
      "outputs": [
        {
          "output_type": "execute_result",
          "data": {
            "text/plain": [
              "'/content'"
            ],
            "application/vnd.google.colaboratory.intrinsic+json": {
              "type": "string"
            }
          },
          "metadata": {},
          "execution_count": 118
        }
      ]
    },
    {
      "cell_type": "code",
      "source": [
        "os.rmdir()#디렉토리 삭제"
      ],
      "metadata": {
        "id": "pa5zUbZrs0Al"
      },
      "execution_count": null,
      "outputs": []
    },
    {
      "cell_type": "code",
      "source": [
        "df.to_csv('aaaaaaa.csv')"
      ],
      "metadata": {
        "id": "c9FhcVyktj_M"
      },
      "execution_count": null,
      "outputs": []
    },
    {
      "cell_type": "code",
      "source": [
        "df.to_excel('bbbbbbb.xlsx')"
      ],
      "metadata": {
        "id": "5wDWll-WuNgq"
      },
      "execution_count": null,
      "outputs": []
    },
    {
      "cell_type": "code",
      "source": [
        "import pickle"
      ],
      "metadata": {
        "id": "GCU0aOQEurHS"
      },
      "execution_count": null,
      "outputs": []
    },
    {
      "cell_type": "code",
      "source": [
        "with open('test.pickle','wb') as f:\n",
        "  pickle.dump(df,f)\n"
      ],
      "metadata": {
        "id": "TpRyRBkYusqW"
      },
      "execution_count": null,
      "outputs": []
    },
    {
      "cell_type": "code",
      "source": [
        "with open('test.pickle','rb') as f:\n",
        "   data = pickle.load(f)\n",
        "print(data)"
      ],
      "metadata": {
        "colab": {
          "base_uri": "https://localhost:8080/"
        },
        "id": "RTF38hyCwQRK",
        "outputId": "52d1f82d-df40-482f-8746-daca2753004f"
      },
      "execution_count": null,
      "outputs": [
        {
          "output_type": "stream",
          "name": "stdout",
          "text": [
            "               대학교         위도          경도\n",
            "0     KAIST 서울캠퍼스   37.592573  127.046737\n",
            "1            KC대학교  37.548345  126.854797\n",
            "2     가톨릭대학교(성신교정)  37.585922  127.004328\n",
            "3     가톨릭대학교(성의교정)  37.499623  127.006065\n",
            "4         감리교신학대학교  37.567645  126.961610\n",
            "5            건국대학교  37.540762  127.079343\n",
            "6     경기대학교 서울캠퍼스   37.300485  127.035833\n",
            "7     경희대학교 서울캠퍼스   37.596195  127.052544\n",
            "8            고려대학교  37.590192  127.033184\n",
            "9            광운대학교  37.619496  127.059696\n",
            "10           국민대학교  37.609641  126.997697\n",
            "11         덕성여자대학교  37.651199  127.016160\n",
            "12           동국대학교  37.557477  127.002052\n",
            "13         동덕여자대학교  37.606320  127.041808\n",
            "14    명지대학교 서울캠퍼스   37.580205  126.923445\n",
            "15           삼육대학교  37.642952  127.105476\n",
            "16    상명대학교 서울캠퍼스   37.602638  126.955252\n",
            "17           서강대학교  37.550944  126.941002\n",
            "18           서경대학교  37.615095  127.013111\n",
            "19       서울과학기술대학교  37.631668  127.077481\n",
            "20         서울교육대학교  37.489961  127.016412\n",
            "21         서울기독대학교  37.600923  126.912382\n",
            "22           서울대학교  37.459882  126.951905\n",
            "23         서울시립대학교  37.583866  127.058777\n",
            "24         서울여자대학교  37.628113  127.090457\n",
            "25         서울한영대학교  37.496541  126.851262\n",
            "26          성공회대학교  37.487232  126.825320\n",
            "27  성균관대학교 서울캠퍼스    37.588227  126.993606\n",
            "28         성신여자대학교  37.591310  127.022131\n",
            "29           세종대학교  37.550260  127.073139\n",
            "30         숙명여자대학교  37.546364  126.964831\n",
            "31           숭실대학교  37.496311  126.957460\n",
            "32           연세대학교  37.565784  126.938572\n",
            "33          육군사관학교  37.623819  127.098878\n",
            "34         이화여자대학교  37.564308  126.950179\n",
            "35        장로회신학대학교  37.550511  127.103458\n",
            "36    중앙대학교 서울캠퍼스   37.505088  126.957101\n",
            "37           총신대학교  37.488623  126.966817\n",
            "38         추계예술대학교  37.562452  126.953417\n",
            "39       한국방송통신대학교  37.578613  127.003291\n",
            "40         한국성서대학교  37.648749  127.064320\n",
            "41        한국예술종합학교  37.604997  127.056740\n",
            "42        한국외국어대학교  37.597319  127.057843\n",
            "43         한국체육대학교  37.519627  127.130984\n",
            "44           한성대학교  37.581785  127.010369\n",
            "45           한양대학교  37.557232  127.045322\n",
            "46           홍익대학교  37.551464  126.925011\n"
          ]
        }
      ]
    },
    {
      "cell_type": "code",
      "source": [
        "import shutil\n",
        "shutil.copy('src.txt', 'dst.txt')"
      ],
      "metadata": {
        "colab": {
          "base_uri": "https://localhost:8080/",
          "height": 345
        },
        "id": "_uv4FNoHOTwD",
        "outputId": "0b7bc8af-d6d3-469a-a234-a5d82e8a3405"
      },
      "execution_count": null,
      "outputs": [
        {
          "output_type": "error",
          "ename": "FileNotFoundError",
          "evalue": "ignored",
          "traceback": [
            "\u001b[0;31m---------------------------------------------------------------------------\u001b[0m",
            "\u001b[0;31mFileNotFoundError\u001b[0m                         Traceback (most recent call last)",
            "\u001b[0;32m<ipython-input-126-812d9a3aad21>\u001b[0m in \u001b[0;36m<module>\u001b[0;34m\u001b[0m\n\u001b[1;32m      1\u001b[0m \u001b[0;32mimport\u001b[0m \u001b[0mshutil\u001b[0m\u001b[0;34m\u001b[0m\u001b[0;34m\u001b[0m\u001b[0m\n\u001b[0;32m----> 2\u001b[0;31m \u001b[0mshutil\u001b[0m\u001b[0;34m.\u001b[0m\u001b[0mcopy\u001b[0m\u001b[0;34m(\u001b[0m\u001b[0;34m'src.txt'\u001b[0m\u001b[0;34m,\u001b[0m \u001b[0;34m'dst.txt'\u001b[0m\u001b[0;34m)\u001b[0m\u001b[0;34m\u001b[0m\u001b[0;34m\u001b[0m\u001b[0m\n\u001b[0m",
            "\u001b[0;32m/usr/lib/python3.7/shutil.py\u001b[0m in \u001b[0;36mcopy\u001b[0;34m(src, dst, follow_symlinks)\u001b[0m\n\u001b[1;32m    246\u001b[0m     \u001b[0;32mif\u001b[0m \u001b[0mos\u001b[0m\u001b[0;34m.\u001b[0m\u001b[0mpath\u001b[0m\u001b[0;34m.\u001b[0m\u001b[0misdir\u001b[0m\u001b[0;34m(\u001b[0m\u001b[0mdst\u001b[0m\u001b[0;34m)\u001b[0m\u001b[0;34m:\u001b[0m\u001b[0;34m\u001b[0m\u001b[0;34m\u001b[0m\u001b[0m\n\u001b[1;32m    247\u001b[0m         \u001b[0mdst\u001b[0m \u001b[0;34m=\u001b[0m \u001b[0mos\u001b[0m\u001b[0;34m.\u001b[0m\u001b[0mpath\u001b[0m\u001b[0;34m.\u001b[0m\u001b[0mjoin\u001b[0m\u001b[0;34m(\u001b[0m\u001b[0mdst\u001b[0m\u001b[0;34m,\u001b[0m \u001b[0mos\u001b[0m\u001b[0;34m.\u001b[0m\u001b[0mpath\u001b[0m\u001b[0;34m.\u001b[0m\u001b[0mbasename\u001b[0m\u001b[0;34m(\u001b[0m\u001b[0msrc\u001b[0m\u001b[0;34m)\u001b[0m\u001b[0;34m)\u001b[0m\u001b[0;34m\u001b[0m\u001b[0;34m\u001b[0m\u001b[0m\n\u001b[0;32m--> 248\u001b[0;31m     \u001b[0mcopyfile\u001b[0m\u001b[0;34m(\u001b[0m\u001b[0msrc\u001b[0m\u001b[0;34m,\u001b[0m \u001b[0mdst\u001b[0m\u001b[0;34m,\u001b[0m \u001b[0mfollow_symlinks\u001b[0m\u001b[0;34m=\u001b[0m\u001b[0mfollow_symlinks\u001b[0m\u001b[0;34m)\u001b[0m\u001b[0;34m\u001b[0m\u001b[0;34m\u001b[0m\u001b[0m\n\u001b[0m\u001b[1;32m    249\u001b[0m     \u001b[0mcopymode\u001b[0m\u001b[0;34m(\u001b[0m\u001b[0msrc\u001b[0m\u001b[0;34m,\u001b[0m \u001b[0mdst\u001b[0m\u001b[0;34m,\u001b[0m \u001b[0mfollow_symlinks\u001b[0m\u001b[0;34m=\u001b[0m\u001b[0mfollow_symlinks\u001b[0m\u001b[0;34m)\u001b[0m\u001b[0;34m\u001b[0m\u001b[0;34m\u001b[0m\u001b[0m\n\u001b[1;32m    250\u001b[0m     \u001b[0;32mreturn\u001b[0m \u001b[0mdst\u001b[0m\u001b[0;34m\u001b[0m\u001b[0;34m\u001b[0m\u001b[0m\n",
            "\u001b[0;32m/usr/lib/python3.7/shutil.py\u001b[0m in \u001b[0;36mcopyfile\u001b[0;34m(src, dst, follow_symlinks)\u001b[0m\n\u001b[1;32m    118\u001b[0m         \u001b[0mos\u001b[0m\u001b[0;34m.\u001b[0m\u001b[0msymlink\u001b[0m\u001b[0;34m(\u001b[0m\u001b[0mos\u001b[0m\u001b[0;34m.\u001b[0m\u001b[0mreadlink\u001b[0m\u001b[0;34m(\u001b[0m\u001b[0msrc\u001b[0m\u001b[0;34m)\u001b[0m\u001b[0;34m,\u001b[0m \u001b[0mdst\u001b[0m\u001b[0;34m)\u001b[0m\u001b[0;34m\u001b[0m\u001b[0;34m\u001b[0m\u001b[0m\n\u001b[1;32m    119\u001b[0m     \u001b[0;32melse\u001b[0m\u001b[0;34m:\u001b[0m\u001b[0;34m\u001b[0m\u001b[0;34m\u001b[0m\u001b[0m\n\u001b[0;32m--> 120\u001b[0;31m         \u001b[0;32mwith\u001b[0m \u001b[0mopen\u001b[0m\u001b[0;34m(\u001b[0m\u001b[0msrc\u001b[0m\u001b[0;34m,\u001b[0m \u001b[0;34m'rb'\u001b[0m\u001b[0;34m)\u001b[0m \u001b[0;32mas\u001b[0m \u001b[0mfsrc\u001b[0m\u001b[0;34m:\u001b[0m\u001b[0;34m\u001b[0m\u001b[0;34m\u001b[0m\u001b[0m\n\u001b[0m\u001b[1;32m    121\u001b[0m             \u001b[0;32mwith\u001b[0m \u001b[0mopen\u001b[0m\u001b[0;34m(\u001b[0m\u001b[0mdst\u001b[0m\u001b[0;34m,\u001b[0m \u001b[0;34m'wb'\u001b[0m\u001b[0;34m)\u001b[0m \u001b[0;32mas\u001b[0m \u001b[0mfdst\u001b[0m\u001b[0;34m:\u001b[0m\u001b[0;34m\u001b[0m\u001b[0;34m\u001b[0m\u001b[0m\n\u001b[1;32m    122\u001b[0m                 \u001b[0mcopyfileobj\u001b[0m\u001b[0;34m(\u001b[0m\u001b[0mfsrc\u001b[0m\u001b[0;34m,\u001b[0m \u001b[0mfdst\u001b[0m\u001b[0;34m)\u001b[0m\u001b[0;34m\u001b[0m\u001b[0;34m\u001b[0m\u001b[0m\n",
            "\u001b[0;31mFileNotFoundError\u001b[0m: [Errno 2] No such file or directory: 'src.txt'"
          ]
        }
      ]
    },
    {
      "cell_type": "code",
      "source": [
        "import glob\n",
        "glob.glob()# 경로안의 파일 찾아냄\n"
      ],
      "metadata": {
        "id": "YAIxX9gdOniz"
      },
      "execution_count": null,
      "outputs": []
    },
    {
      "cell_type": "markdown",
      "source": [
        "- time"
      ],
      "metadata": {
        "id": "etafL9KrPdLs"
      }
    },
    {
      "cell_type": "code",
      "source": [
        "import time\n",
        "time.time() #1970년 1월 1일 기준으로 0시 0분 0초 초를 리턴함"
      ],
      "metadata": {
        "colab": {
          "base_uri": "https://localhost:8080/"
        },
        "id": "KGQ5j1SQPQXw",
        "outputId": "7c96edc6-c956-4446-c271-7e69e47f4ebc"
      },
      "execution_count": null,
      "outputs": [
        {
          "output_type": "execute_result",
          "data": {
            "text/plain": [
              "1663045571.7778792"
            ]
          },
          "metadata": {},
          "execution_count": 127
        }
      ]
    },
    {
      "cell_type": "code",
      "source": [
        "time.time()/60/60/24/365"
      ],
      "metadata": {
        "colab": {
          "base_uri": "https://localhost:8080/"
        },
        "id": "Y-gT0eC5Pgaj",
        "outputId": "fc555cd3-fbd7-4af5-8395-31b86ec765b3"
      },
      "execution_count": null,
      "outputs": [
        {
          "output_type": "execute_result",
          "data": {
            "text/plain": [
              "52.7348326202528"
            ]
          },
          "metadata": {},
          "execution_count": 129
        }
      ]
    },
    {
      "cell_type": "code",
      "source": [
        "time.localtime(time.time())"
      ],
      "metadata": {
        "colab": {
          "base_uri": "https://localhost:8080/"
        },
        "id": "CDDzldY1QDFX",
        "outputId": "395d7525-a751-4848-aee9-96bde8ffb400"
      },
      "execution_count": null,
      "outputs": [
        {
          "output_type": "execute_result",
          "data": {
            "text/plain": [
              "time.struct_time(tm_year=2022, tm_mon=9, tm_mday=13, tm_hour=5, tm_min=9, tm_sec=35, tm_wday=1, tm_yday=256, tm_isdst=0)"
            ]
          },
          "metadata": {},
          "execution_count": 131
        }
      ]
    },
    {
      "cell_type": "code",
      "source": [
        "time.asctime()"
      ],
      "metadata": {
        "colab": {
          "base_uri": "https://localhost:8080/",
          "height": 35
        },
        "id": "sulsriRUQMtQ",
        "outputId": "b69fbef8-cb37-43d9-819a-362f9ebbf61d"
      },
      "execution_count": null,
      "outputs": [
        {
          "output_type": "execute_result",
          "data": {
            "text/plain": [
              "'Tue Sep 13 05:10:33 2022'"
            ],
            "application/vnd.google.colaboratory.intrinsic+json": {
              "type": "string"
            }
          },
          "metadata": {},
          "execution_count": 132
        }
      ]
    },
    {
      "cell_type": "code",
      "source": [
        "now = time.localtime()\n",
        "time.strftime('%Y', now)"
      ],
      "metadata": {
        "colab": {
          "base_uri": "https://localhost:8080/",
          "height": 35
        },
        "id": "4w5qMW1iQa5W",
        "outputId": "3c317f63-f411-4589-95ad-2f3c250c06ca"
      },
      "execution_count": null,
      "outputs": [
        {
          "output_type": "execute_result",
          "data": {
            "text/plain": [
              "'2022'"
            ],
            "application/vnd.google.colaboratory.intrinsic+json": {
              "type": "string"
            }
          },
          "metadata": {},
          "execution_count": 137
        }
      ]
    },
    {
      "cell_type": "code",
      "source": [
        "time.strftime('%Y-%m-%d %I:%M:%S %p',now)"
      ],
      "metadata": {
        "colab": {
          "base_uri": "https://localhost:8080/",
          "height": 35
        },
        "id": "0B1L4jciR-Uj",
        "outputId": "47fc04da-84f3-491f-c35b-7313671b6b14"
      },
      "execution_count": null,
      "outputs": [
        {
          "output_type": "execute_result",
          "data": {
            "text/plain": [
              "'2022-09-13 05:14:34 AM'"
            ],
            "application/vnd.google.colaboratory.intrinsic+json": {
              "type": "string"
            }
          },
          "metadata": {},
          "execution_count": 139
        }
      ]
    },
    {
      "cell_type": "code",
      "source": [
        "time.strptime('2022-09-13 02:13:33 PM', '%Y-%m-%d %I:%M:%S %p')"
      ],
      "metadata": {
        "colab": {
          "base_uri": "https://localhost:8080/"
        },
        "id": "zcqSOZftSiDo",
        "outputId": "5a192a1d-390c-4c4c-d480-d0c20ae7ce94"
      },
      "execution_count": null,
      "outputs": [
        {
          "output_type": "execute_result",
          "data": {
            "text/plain": [
              "time.struct_time(tm_year=2022, tm_mon=9, tm_mday=13, tm_hour=14, tm_min=13, tm_sec=33, tm_wday=1, tm_yday=256, tm_isdst=-1)"
            ]
          },
          "metadata": {},
          "execution_count": 143
        }
      ]
    },
    {
      "cell_type": "code",
      "source": [
        "while True:\n",
        "  print('hello')\n",
        "  time.sleep(1)"
      ],
      "metadata": {
        "colab": {
          "base_uri": "https://localhost:8080/",
          "height": 358
        },
        "id": "tteeUUVRTaYj",
        "outputId": "83a13cd2-f8f0-4d15-b5a4-789d9723ede6"
      },
      "execution_count": null,
      "outputs": [
        {
          "output_type": "stream",
          "name": "stdout",
          "text": [
            "hello\n",
            "hello\n",
            "hello\n",
            "hello\n",
            "hello\n",
            "hello\n",
            "hello\n",
            "hello\n"
          ]
        },
        {
          "output_type": "error",
          "ename": "KeyboardInterrupt",
          "evalue": "ignored",
          "traceback": [
            "\u001b[0;31m---------------------------------------------------------------------------\u001b[0m",
            "\u001b[0;31mKeyboardInterrupt\u001b[0m                         Traceback (most recent call last)",
            "\u001b[0;32m<ipython-input-144-863e77c39e5f>\u001b[0m in \u001b[0;36m<module>\u001b[0;34m\u001b[0m\n\u001b[1;32m      1\u001b[0m \u001b[0;32mwhile\u001b[0m \u001b[0;32mTrue\u001b[0m\u001b[0;34m:\u001b[0m\u001b[0;34m\u001b[0m\u001b[0;34m\u001b[0m\u001b[0m\n\u001b[1;32m      2\u001b[0m   \u001b[0mprint\u001b[0m\u001b[0;34m(\u001b[0m\u001b[0;34m'hello'\u001b[0m\u001b[0;34m)\u001b[0m\u001b[0;34m\u001b[0m\u001b[0;34m\u001b[0m\u001b[0m\n\u001b[0;32m----> 3\u001b[0;31m   \u001b[0mtime\u001b[0m\u001b[0;34m.\u001b[0m\u001b[0msleep\u001b[0m\u001b[0;34m(\u001b[0m\u001b[0;36m1\u001b[0m\u001b[0;34m)\u001b[0m\u001b[0;34m\u001b[0m\u001b[0;34m\u001b[0m\u001b[0m\n\u001b[0m",
            "\u001b[0;31mKeyboardInterrupt\u001b[0m: "
          ]
        }
      ]
    },
    {
      "cell_type": "code",
      "source": [
        "import calendar\n",
        "calendar.calendar(2022,12)"
      ],
      "metadata": {
        "colab": {
          "base_uri": "https://localhost:8080/",
          "height": 109
        },
        "id": "YEqhKHj7Tmcb",
        "outputId": "f035fd07-4ba1-4c19-c447-5d811b2a430b"
      },
      "execution_count": null,
      "outputs": [
        {
          "output_type": "execute_result",
          "data": {
            "text/plain": [
              "'                                                                                                                                           2022\\n\\n                                         January                                                                                         February                                                                                         March\\n   Monday      Tuesday     Wednesday     Thursday      Friday      Saturday      Sunday            Monday      Tuesday     Wednesday     Thursday      Friday      Saturday      Sunday            Monday      Tuesday     Wednesday     Thursday      Friday      Saturday      Sunday\\n                                                                       1            2                              1            2            3            4            5            6                              1            2            3            4            5            6\\n      3            4            5            6            7            8            9                 7            8            9           10           11           12           13                 7            8            9           10           11           12           13\\n     10           11           12           13           14           15           16                14           15           16           17           18           19           20                14           15           16           17           18           19           20\\n     17           18           19           20           21           22           23                21           22           23           24           25           26           27                21           22           23           24           25           26           27\\n     24           25           26           27           28           29           30                28                                                                                              28           29           30           31\\n     31\\n\\n                                          April                                                                                            May                                                                                             June\\n   Monday      Tuesday     Wednesday     Thursday      Friday      Saturday      Sunday            Monday      Tuesday     Wednesday     Thursday      Friday      Saturday      Sunday            Monday      Tuesday     Wednesday     Thursday      Friday      Saturday      Sunday\\n                                                          1            2            3                                                                                               1                                           1            2            3            4            5\\n      4            5            6            7            8            9           10                 2            3            4            5            6            7            8                 6            7            8            9           10           11           12\\n     11           12           13           14           15           16           17                 9           10           11           12           13           14           15                13           14           15           16           17           18           19\\n     18           19           20           21           22           23           24                16           17           18           19           20           21           22                20           21           22           23           24           25           26\\n     25           26           27           28           29           30                             23           24           25           26           27           28           29                27           28           29           30\\n                                                                                                     30           31\\n\\n                                           July                                                                                           August                                                                                        September\\n   Monday      Tuesday     Wednesday     Thursday      Friday      Saturday      Sunday            Monday      Tuesday     Wednesday     Thursday      Friday      Saturday      Sunday            Monday      Tuesday     Wednesday     Thursday      Friday      Saturday      Sunday\\n                                                          1            2            3                 1            2            3            4            5            6            7                                                        1            2            3            4\\n      4            5            6            7            8            9           10                 8            9           10           11           12           13           14                 5            6            7            8            9           10           11\\n     11           12           13           14           15           16           17                15           16           17           18           19           20           21                12           13           14           15           16           17           18\\n     18           19           20           21           22           23           24                22           23           24           25           26           27           28                19           20           21           22           23           24           25\\n     25           26           27           28           29           30           31                29           30           31                                                                    26           27           28           29           30\\n\\n                                         October                                                                                         November                                                                                        December\\n   Monday      Tuesday     Wednesday     Thursday      Friday      Saturday      Sunday            Monday      Tuesday     Wednesday     Thursday      Friday      Saturday      Sunday            Monday      Tuesday     Wednesday     Thursday      Friday      Saturday      Sunday\\n                                                                       1            2                              1            2            3            4            5            6                                                        1            2            3            4\\n      3            4            5            6            7            8            9                 7            8            9           10           11           12           13                 5            6            7            8            9           10           11\\n     10           11           12           13           14           15           16                14           15           16           17           18           19           20                12           13           14           15           16           17           18\\n     17           18           19           20           21           22           23                21           22           23           24           25           26           27                19           20           21           22           23           24           25\\n     24           25           26           27           28           29           30                28           29           30                                                                    26           27           28           29           30           31\\n     31\\n'"
            ],
            "application/vnd.google.colaboratory.intrinsic+json": {
              "type": "string"
            }
          },
          "metadata": {},
          "execution_count": 147
        }
      ]
    },
    {
      "cell_type": "code",
      "source": [
        "calendar.calendar(2022)"
      ],
      "metadata": {
        "colab": {
          "base_uri": "https://localhost:8080/",
          "height": 109
        },
        "id": "aRmMkOFQTwF_",
        "outputId": "7fd1e7dc-a446-4d12-f2c4-3525344d55e0"
      },
      "execution_count": null,
      "outputs": [
        {
          "output_type": "execute_result",
          "data": {
            "text/plain": [
              "'                                  2022\\n\\n      January                   February                   March\\nMo Tu We Th Fr Sa Su      Mo Tu We Th Fr Sa Su      Mo Tu We Th Fr Sa Su\\n                1  2          1  2  3  4  5  6          1  2  3  4  5  6\\n 3  4  5  6  7  8  9       7  8  9 10 11 12 13       7  8  9 10 11 12 13\\n10 11 12 13 14 15 16      14 15 16 17 18 19 20      14 15 16 17 18 19 20\\n17 18 19 20 21 22 23      21 22 23 24 25 26 27      21 22 23 24 25 26 27\\n24 25 26 27 28 29 30      28                        28 29 30 31\\n31\\n\\n       April                      May                       June\\nMo Tu We Th Fr Sa Su      Mo Tu We Th Fr Sa Su      Mo Tu We Th Fr Sa Su\\n             1  2  3                         1             1  2  3  4  5\\n 4  5  6  7  8  9 10       2  3  4  5  6  7  8       6  7  8  9 10 11 12\\n11 12 13 14 15 16 17       9 10 11 12 13 14 15      13 14 15 16 17 18 19\\n18 19 20 21 22 23 24      16 17 18 19 20 21 22      20 21 22 23 24 25 26\\n25 26 27 28 29 30         23 24 25 26 27 28 29      27 28 29 30\\n                          30 31\\n\\n        July                     August                  September\\nMo Tu We Th Fr Sa Su      Mo Tu We Th Fr Sa Su      Mo Tu We Th Fr Sa Su\\n             1  2  3       1  2  3  4  5  6  7                1  2  3  4\\n 4  5  6  7  8  9 10       8  9 10 11 12 13 14       5  6  7  8  9 10 11\\n11 12 13 14 15 16 17      15 16 17 18 19 20 21      12 13 14 15 16 17 18\\n18 19 20 21 22 23 24      22 23 24 25 26 27 28      19 20 21 22 23 24 25\\n25 26 27 28 29 30 31      29 30 31                  26 27 28 29 30\\n\\n      October                   November                  December\\nMo Tu We Th Fr Sa Su      Mo Tu We Th Fr Sa Su      Mo Tu We Th Fr Sa Su\\n                1  2          1  2  3  4  5  6                1  2  3  4\\n 3  4  5  6  7  8  9       7  8  9 10 11 12 13       5  6  7  8  9 10 11\\n10 11 12 13 14 15 16      14 15 16 17 18 19 20      12 13 14 15 16 17 18\\n17 18 19 20 21 22 23      21 22 23 24 25 26 27      19 20 21 22 23 24 25\\n24 25 26 27 28 29 30      28 29 30                  26 27 28 29 30 31\\n31\\n'"
            ],
            "application/vnd.google.colaboratory.intrinsic+json": {
              "type": "string"
            }
          },
          "metadata": {},
          "execution_count": 148
        }
      ]
    },
    {
      "cell_type": "code",
      "source": [
        "calendar.weekday(2022,9,12)"
      ],
      "metadata": {
        "colab": {
          "base_uri": "https://localhost:8080/"
        },
        "id": "4KP3plevT5Vp",
        "outputId": "be233760-f245-44ec-f433-a5ea109efc1a"
      },
      "execution_count": null,
      "outputs": [
        {
          "output_type": "execute_result",
          "data": {
            "text/plain": [
              "0"
            ]
          },
          "metadata": {},
          "execution_count": 155
        }
      ]
    },
    {
      "cell_type": "code",
      "source": [
        "calendar.prmonth(2022,9)"
      ],
      "metadata": {
        "colab": {
          "base_uri": "https://localhost:8080/"
        },
        "id": "eH9XiWI7UHZ-",
        "outputId": "09c16dd1-9456-4ee2-dd51-2e86081692ca"
      },
      "execution_count": null,
      "outputs": [
        {
          "output_type": "stream",
          "name": "stdout",
          "text": [
            "   September 2022\n",
            "Mo Tu We Th Fr Sa Su\n",
            "          1  2  3  4\n",
            " 5  6  7  8  9 10 11\n",
            "12 13 14 15 16 17 18\n",
            "19 20 21 22 23 24 25\n",
            "26 27 28 29 30\n"
          ]
        }
      ]
    },
    {
      "cell_type": "markdown",
      "source": [
        "- random"
      ],
      "metadata": {
        "id": "pMY51Sf8UTUT"
      }
    },
    {
      "cell_type": "code",
      "source": [
        "import random\n",
        "random.randint(1,5)"
      ],
      "metadata": {
        "colab": {
          "base_uri": "https://localhost:8080/"
        },
        "id": "MO6AiwBdUcMp",
        "outputId": "022678fd-73d0-47f0-bfa0-fabc8ed66fe0"
      },
      "execution_count": null,
      "outputs": [
        {
          "output_type": "execute_result",
          "data": {
            "text/plain": [
              "4"
            ]
          },
          "metadata": {},
          "execution_count": 156
        }
      ]
    },
    {
      "cell_type": "code",
      "source": [
        "a = []\n",
        "for _ in range(10):\n",
        "  a.append(random.randint(1,20))\n",
        "a"
      ],
      "metadata": {
        "colab": {
          "base_uri": "https://localhost:8080/"
        },
        "id": "9RUr0EiNUvpZ",
        "outputId": "af141601-38b2-4575-fb95-b3f07213e81b"
      },
      "execution_count": null,
      "outputs": [
        {
          "output_type": "execute_result",
          "data": {
            "text/plain": [
              "[19, 4, 7, 7, 5, 9, 4, 5, 3, 2]"
            ]
          },
          "metadata": {},
          "execution_count": 157
        }
      ]
    },
    {
      "cell_type": "code",
      "source": [
        "a = [random.randint(1,20) for i in range(10)]"
      ],
      "metadata": {
        "id": "Ey7bZvvbVRg7"
      },
      "execution_count": null,
      "outputs": []
    },
    {
      "cell_type": "code",
      "source": [
        "random.choice(seq = [1,2,3,4,5,6,7,8,9,10])\n"
      ],
      "metadata": {
        "colab": {
          "base_uri": "https://localhost:8080/"
        },
        "id": "ig3EPPfKVwBK",
        "outputId": "ae3da662-4cb4-45e5-ab25-877cfd46b106"
      },
      "execution_count": null,
      "outputs": [
        {
          "output_type": "execute_result",
          "data": {
            "text/plain": [
              "3"
            ]
          },
          "metadata": {},
          "execution_count": 169
        }
      ]
    },
    {
      "cell_type": "code",
      "source": [
        "random.choice(range(5))"
      ],
      "metadata": {
        "colab": {
          "base_uri": "https://localhost:8080/"
        },
        "id": "75MKDtNtWLi-",
        "outputId": "7660ee01-4d57-41ec-9109-e322fdf7949d"
      },
      "execution_count": null,
      "outputs": [
        {
          "output_type": "execute_result",
          "data": {
            "text/plain": [
              "3"
            ]
          },
          "metadata": {},
          "execution_count": 172
        }
      ]
    },
    {
      "cell_type": "code",
      "source": [
        "random.random() # return a random number between 0 and 1"
      ],
      "metadata": {
        "colab": {
          "base_uri": "https://localhost:8080/"
        },
        "id": "gN7XLNRAWcBM",
        "outputId": "77a69205-fcb0-4085-c243-6adf9ca3c150"
      },
      "execution_count": null,
      "outputs": [
        {
          "output_type": "execute_result",
          "data": {
            "text/plain": [
              "0.03293539447599192"
            ]
          },
          "metadata": {},
          "execution_count": 181
        }
      ]
    },
    {
      "cell_type": "code",
      "source": [
        "import numpy as np\n",
        "np.random.uniform()"
      ],
      "metadata": {
        "colab": {
          "base_uri": "https://localhost:8080/"
        },
        "id": "yg24PVo0WnBw",
        "outputId": "2d628505-eac1-4427-e567-4cd8b9669bee"
      },
      "execution_count": null,
      "outputs": [
        {
          "output_type": "execute_result",
          "data": {
            "text/plain": [
              "0.9672179001437895"
            ]
          },
          "metadata": {},
          "execution_count": 182
        }
      ]
    },
    {
      "cell_type": "code",
      "source": [
        "data = [1,3,2]\n",
        "random.shuffle(data)\n",
        "data"
      ],
      "metadata": {
        "colab": {
          "base_uri": "https://localhost:8080/"
        },
        "id": "ZSHOzStKXAxx",
        "outputId": "50925d0b-af05-4dc4-c99f-74e9fe019107"
      },
      "execution_count": null,
      "outputs": [
        {
          "output_type": "execute_result",
          "data": {
            "text/plain": [
              "[2, 1, 3]"
            ]
          },
          "metadata": {},
          "execution_count": 183
        }
      ]
    },
    {
      "cell_type": "code",
      "source": [
        "import webbrowser"
      ],
      "metadata": {
        "id": "Wzpp69k-XiKe"
      },
      "execution_count": null,
      "outputs": []
    },
    {
      "cell_type": "code",
      "source": [
        "webbrowser.open(\"www.naver.com\")"
      ],
      "metadata": {
        "colab": {
          "base_uri": "https://localhost:8080/"
        },
        "id": "8s3Tetf1XkYt",
        "outputId": "8955e15c-11ca-427c-a6cb-606c46ee9062"
      },
      "execution_count": null,
      "outputs": [
        {
          "output_type": "execute_result",
          "data": {
            "text/plain": [
              "False"
            ]
          },
          "metadata": {},
          "execution_count": 188
        }
      ]
    },
    {
      "cell_type": "code",
      "source": [
        "import time\n",
        "def long_task():\n",
        "  for i in range(5):\n",
        "    time.sleep(1)\n",
        "    print('working : %s'  %i)\n",
        "print('start')\n",
        "for _ in range(5):\n",
        "  long_task()\n",
        "print('end')"
      ],
      "metadata": {
        "colab": {
          "base_uri": "https://localhost:8080/",
          "height": 578
        },
        "id": "pbok9dJGXzUe",
        "outputId": "f6e90399-37b9-4b40-f000-2584e9eaee7b"
      },
      "execution_count": 203,
      "outputs": [
        {
          "output_type": "stream",
          "name": "stdout",
          "text": [
            "start\n",
            "working : 0\n",
            "working : 1\n",
            "working : 2\n",
            "working : 3\n",
            "working : 4\n",
            "working : 0\n",
            "working : 1\n",
            "working : 2\n",
            "working : 3\n",
            "working : 4\n",
            "working : 0\n"
          ]
        },
        {
          "output_type": "error",
          "ename": "KeyboardInterrupt",
          "evalue": "ignored",
          "traceback": [
            "\u001b[0;31m---------------------------------------------------------------------------\u001b[0m",
            "\u001b[0;31mKeyboardInterrupt\u001b[0m                         Traceback (most recent call last)",
            "\u001b[0;32m<ipython-input-203-eccdf1c8b1d7>\u001b[0m in \u001b[0;36m<module>\u001b[0;34m\u001b[0m\n\u001b[1;32m      6\u001b[0m \u001b[0mprint\u001b[0m\u001b[0;34m(\u001b[0m\u001b[0;34m'start'\u001b[0m\u001b[0;34m)\u001b[0m\u001b[0;34m\u001b[0m\u001b[0;34m\u001b[0m\u001b[0m\n\u001b[1;32m      7\u001b[0m \u001b[0;32mfor\u001b[0m \u001b[0m_\u001b[0m \u001b[0;32min\u001b[0m \u001b[0mrange\u001b[0m\u001b[0;34m(\u001b[0m\u001b[0;36m5\u001b[0m\u001b[0;34m)\u001b[0m\u001b[0;34m:\u001b[0m\u001b[0;34m\u001b[0m\u001b[0;34m\u001b[0m\u001b[0m\n\u001b[0;32m----> 8\u001b[0;31m   \u001b[0mlong_task\u001b[0m\u001b[0;34m(\u001b[0m\u001b[0;34m)\u001b[0m\u001b[0;34m\u001b[0m\u001b[0;34m\u001b[0m\u001b[0m\n\u001b[0m\u001b[1;32m      9\u001b[0m \u001b[0mprint\u001b[0m\u001b[0;34m(\u001b[0m\u001b[0;34m'end'\u001b[0m\u001b[0;34m)\u001b[0m\u001b[0;34m\u001b[0m\u001b[0;34m\u001b[0m\u001b[0m\n",
            "\u001b[0;32m<ipython-input-203-eccdf1c8b1d7>\u001b[0m in \u001b[0;36mlong_task\u001b[0;34m()\u001b[0m\n\u001b[1;32m      2\u001b[0m \u001b[0;32mdef\u001b[0m \u001b[0mlong_task\u001b[0m\u001b[0;34m(\u001b[0m\u001b[0;34m)\u001b[0m\u001b[0;34m:\u001b[0m\u001b[0;34m\u001b[0m\u001b[0;34m\u001b[0m\u001b[0m\n\u001b[1;32m      3\u001b[0m   \u001b[0;32mfor\u001b[0m \u001b[0mi\u001b[0m \u001b[0;32min\u001b[0m \u001b[0mrange\u001b[0m\u001b[0;34m(\u001b[0m\u001b[0;36m5\u001b[0m\u001b[0;34m)\u001b[0m\u001b[0;34m:\u001b[0m\u001b[0;34m\u001b[0m\u001b[0;34m\u001b[0m\u001b[0m\n\u001b[0;32m----> 4\u001b[0;31m     \u001b[0mtime\u001b[0m\u001b[0;34m.\u001b[0m\u001b[0msleep\u001b[0m\u001b[0;34m(\u001b[0m\u001b[0;36m1\u001b[0m\u001b[0;34m)\u001b[0m\u001b[0;34m\u001b[0m\u001b[0;34m\u001b[0m\u001b[0m\n\u001b[0m\u001b[1;32m      5\u001b[0m     \u001b[0mprint\u001b[0m\u001b[0;34m(\u001b[0m\u001b[0;34m'working : %s'\u001b[0m  \u001b[0;34m%\u001b[0m\u001b[0mi\u001b[0m\u001b[0;34m)\u001b[0m\u001b[0;34m\u001b[0m\u001b[0;34m\u001b[0m\u001b[0m\n\u001b[1;32m      6\u001b[0m \u001b[0mprint\u001b[0m\u001b[0;34m(\u001b[0m\u001b[0;34m'start'\u001b[0m\u001b[0;34m)\u001b[0m\u001b[0;34m\u001b[0m\u001b[0;34m\u001b[0m\u001b[0m\n",
            "\u001b[0;31mKeyboardInterrupt\u001b[0m: "
          ]
        }
      ]
    },
    {
      "cell_type": "code",
      "source": [
        "import threading\n",
        "import time\n",
        "def long_task():\n",
        "  for i in range(5):\n",
        "    time.sleep(1)\n",
        "    print('working : %s'  %i)\n",
        "threads = []\n",
        "for _ in range(5):\n",
        "  t = threading.Thread(target = long_task)\n",
        "  threads.append(t)\n",
        "\n",
        "for t in threads :\n",
        "  t.start()\n",
        "for t in threads :\n",
        "  t.join()\n",
        "print('end')"
      ],
      "metadata": {
        "colab": {
          "base_uri": "https://localhost:8080/"
        },
        "id": "RbLZZG6RdWHE",
        "outputId": "b2b13310-a8bf-4096-8f48-0274645b77cb"
      },
      "execution_count": 212,
      "outputs": [
        {
          "output_type": "stream",
          "name": "stdout",
          "text": [
            "working : 0\n",
            "working : 0\n",
            "working : 0\n",
            "working : 0\n",
            "working : 0\n",
            "working : 1\n",
            "working : 1working : 1\n",
            "\n",
            "working : 1\n",
            "working : 1\n",
            "working : 2\n",
            "working : 2\n",
            "working : 2\n",
            "working : 2\n",
            "working : 2\n",
            "working : 3\n",
            "working : 3\n",
            "working : 3\n",
            "working : 3\n",
            "working : 3\n",
            "working : 4\n",
            "working : 4\n",
            "working : 4\n",
            "working : 4\n",
            "working : 4\n",
            "end\n"
          ]
        }
      ]
    },
    {
      "cell_type": "code",
      "source": [
        "[2*i for i in range(1,10)]"
      ],
      "metadata": {
        "colab": {
          "base_uri": "https://localhost:8080/"
        },
        "id": "VLbumiSwelX0",
        "outputId": "d514abdf-e744-4297-8c7c-017e18b50570"
      },
      "execution_count": 213,
      "outputs": [
        {
          "output_type": "execute_result",
          "data": {
            "text/plain": [
              "[2, 4, 6, 8, 10, 12, 14, 16, 18]"
            ]
          },
          "metadata": {},
          "execution_count": 213
        }
      ]
    },
    {
      "cell_type": "code",
      "source": [
        "def GuGu(num):\n",
        "  return [num*i for i in range(1,10)]"
      ],
      "metadata": {
        "id": "jJRkNRqBfXwQ"
      },
      "execution_count": 214,
      "outputs": []
    },
    {
      "cell_type": "code",
      "source": [
        "GuGu(2)"
      ],
      "metadata": {
        "colab": {
          "base_uri": "https://localhost:8080/"
        },
        "id": "a2YyZsOpfdzR",
        "outputId": "80dc552c-c5fb-4dd3-8f08-3780107fd44c"
      },
      "execution_count": 215,
      "outputs": [
        {
          "output_type": "execute_result",
          "data": {
            "text/plain": [
              "[2, 4, 6, 8, 10, 12, 14, 16, 18]"
            ]
          },
          "metadata": {},
          "execution_count": 215
        }
      ]
    },
    {
      "cell_type": "code",
      "source": [
        "GuGu(3)"
      ],
      "metadata": {
        "colab": {
          "base_uri": "https://localhost:8080/"
        },
        "id": "XE7zUWCUffdl",
        "outputId": "fcda719c-8f3f-4966-c5e7-ef09b5ac49f0"
      },
      "execution_count": 216,
      "outputs": [
        {
          "output_type": "execute_result",
          "data": {
            "text/plain": [
              "[3, 6, 9, 12, 15, 18, 21, 24, 27]"
            ]
          },
          "metadata": {},
          "execution_count": 216
        }
      ]
    },
    {
      "cell_type": "code",
      "source": [
        "def sum_3_5(num1, num2):\n",
        "  number = [i for i in range(1,101) if i % num1 == 0 or i % num2 == 0]\n",
        "  return sum(number)"
      ],
      "metadata": {
        "id": "6Cu6qIRlgE9r"
      },
      "execution_count": 224,
      "outputs": []
    },
    {
      "cell_type": "code",
      "source": [
        "sum_3_5(2,3)"
      ],
      "metadata": {
        "colab": {
          "base_uri": "https://localhost:8080/"
        },
        "id": "dMNShYPvhvUn",
        "outputId": "6cca366f-5d19-40f7-afc3-da6df0e55b22"
      },
      "execution_count": 228,
      "outputs": [
        {
          "output_type": "execute_result",
          "data": {
            "text/plain": [
              "3417"
            ]
          },
          "metadata": {},
          "execution_count": 228
        }
      ]
    },
    {
      "cell_type": "code",
      "source": [
        "def getTotalPage(m,n):\n",
        "  if m % n == 0 :\n",
        "    return m//n\n",
        "  else :\n",
        "    return m//n+1"
      ],
      "metadata": {
        "id": "j_21KmcCifjz"
      },
      "execution_count": 247,
      "outputs": []
    },
    {
      "cell_type": "code",
      "source": [
        "getTotalPage(3,7)"
      ],
      "metadata": {
        "colab": {
          "base_uri": "https://localhost:8080/"
        },
        "id": "3ku-8_DSkbKS",
        "outputId": "000975c7-75cb-4085-e117-72fc58a8e292"
      },
      "execution_count": 246,
      "outputs": [
        {
          "output_type": "execute_result",
          "data": {
            "text/plain": [
              "1"
            ]
          },
          "metadata": {},
          "execution_count": 246
        }
      ]
    },
    {
      "cell_type": "code",
      "source": [
        "import sys\n",
        "\n",
        "sys.argv"
      ],
      "metadata": {
        "colab": {
          "base_uri": "https://localhost:8080/"
        },
        "id": "VEbR3MYNlB9s",
        "outputId": "f990258d-7f14-424e-f69d-52231d35a8c2"
      },
      "execution_count": 248,
      "outputs": [
        {
          "output_type": "execute_result",
          "data": {
            "text/plain": [
              "['/usr/local/lib/python3.7/dist-packages/ipykernel_launcher.py',\n",
              " '-f',\n",
              " '/root/.local/share/jupyter/runtime/kernel-87b3bb13-a544-4ba3-b586-6caee280fef2.json']"
            ]
          },
          "metadata": {},
          "execution_count": 248
        }
      ]
    },
    {
      "cell_type": "code",
      "source": [],
      "metadata": {
        "id": "QKfg6MLvmYux"
      },
      "execution_count": null,
      "outputs": []
    }
  ]
}