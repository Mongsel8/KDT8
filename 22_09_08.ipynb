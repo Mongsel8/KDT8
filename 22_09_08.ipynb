{
  "nbformat": 4,
  "nbformat_minor": 0,
  "metadata": {
    "colab": {
      "provenance": []
    },
    "kernelspec": {
      "name": "python3",
      "display_name": "Python 3"
    },
    "language_info": {
      "name": "python"
    }
  },
  "cells": [
    {
      "cell_type": "code",
      "execution_count": null,
      "metadata": {
        "id": "5Xw8wuF5aD_8"
      },
      "outputs": [],
      "source": [
        "class Sport:\n",
        "  def __init__(self,name,players):\n",
        "    self.name = name\n",
        "    self.players = players\n",
        "  def explain(self):\n",
        "    print(f'{self.name}은/는 {self.players}명이서 하는 스포츠입니다.')"
      ]
    },
    {
      "cell_type": "code",
      "source": [
        "soccer = Sport('축구',11)\n",
        "soccer.name\n",
        "soccer.explain()"
      ],
      "metadata": {
        "colab": {
          "base_uri": "https://localhost:8080/"
        },
        "id": "R21EQYNza2S8",
        "outputId": "caa1d079-725d-423a-b1bc-aeadca442ebf"
      },
      "execution_count": null,
      "outputs": [
        {
          "output_type": "stream",
          "name": "stdout",
          "text": [
            "축구은/는 11명이서 하는 스포츠입니다.\n"
          ]
        }
      ]
    },
    {
      "cell_type": "code",
      "source": [
        "class Plant:\n",
        "  def __init__(self,name):\n",
        "    self.name = name\n",
        "  def color(self):\n",
        "    self.color = 'green'\n",
        "    return self.color\n",
        "class Apple(Plant):\n",
        "  def color(self):\n",
        "    self.color = 'Red'\n",
        "    return self.color"
      ],
      "metadata": {
        "id": "-YR2vvgWa9Bs"
      },
      "execution_count": null,
      "outputs": []
    },
    {
      "cell_type": "code",
      "source": [
        "p = Plant('할미꽃')\n",
        "p.color()\n",
        "q= Apple('사과')\n",
        "q.color()"
      ],
      "metadata": {
        "colab": {
          "base_uri": "https://localhost:8080/",
          "height": 35
        },
        "id": "uEAPDXa6eS3N",
        "outputId": "e0c11712-3e13-41b2-a477-445d8c3352f6"
      },
      "execution_count": null,
      "outputs": [
        {
          "output_type": "execute_result",
          "data": {
            "text/plain": [
              "'Red'"
            ],
            "application/vnd.google.colaboratory.intrinsic+json": {
              "type": "string"
            }
          },
          "metadata": {},
          "execution_count": 20
        }
      ]
    },
    {
      "cell_type": "code",
      "source": [
        "with open('new.txt','w') as f:\n",
        "  for i in range(10):\n",
        "    f.write('Hello\\n')\n",
        "f = open('new.txt','r')\n",
        "data = f.readlines()\n",
        "f.close()\n",
        "print(data)"
      ],
      "metadata": {
        "colab": {
          "base_uri": "https://localhost:8080/"
        },
        "id": "iaJKlEJKe0lk",
        "outputId": "571a6c57-c342-4c7b-941b-5f002dc9c8fa"
      },
      "execution_count": null,
      "outputs": [
        {
          "output_type": "stream",
          "name": "stdout",
          "text": [
            "['Hello\\n', 'Hello\\n', 'Hello\\n', 'Hello\\n', 'Hello\\n', 'Hello\\n', 'Hello\\n', 'Hello\\n', 'Hello\\n', 'Hello\\n']\n"
          ]
        }
      ]
    },
    {
      "cell_type": "code",
      "source": [
        "f = open(\"new.txt\", \"w\")\n",
        "for i in range(10):\n",
        "    f.write(\"Hello\\n\")\n",
        "f.close()\n",
        "\n",
        "f = open(\"new.txt\", \"r\")\n",
        "print(f.read()) "
      ],
      "metadata": {
        "colab": {
          "base_uri": "https://localhost:8080/"
        },
        "id": "VNs0NgKJgkaM",
        "outputId": "0a8cf19e-b5df-4081-f92f-902180485aa3"
      },
      "execution_count": null,
      "outputs": [
        {
          "output_type": "stream",
          "name": "stdout",
          "text": [
            "Hello\n",
            "Hello\n",
            "Hello\n",
            "Hello\n",
            "Hello\n",
            "Hello\n",
            "Hello\n",
            "Hello\n",
            "Hello\n",
            "Hello\n",
            "\n"
          ]
        }
      ]
    },
    {
      "cell_type": "code",
      "source": [
        "with open('gogodan.txt','w') as f:\n",
        "  for i in range(2,10):\n",
        "    for j in range(1,10):\n",
        "      if j == 9:\n",
        "        f.write(str(i*j)+'\\n')\n",
        "      else:\n",
        "        f.write(str(i*j)+' ')"
      ],
      "metadata": {
        "id": "-K4OCkUegzkM"
      },
      "execution_count": null,
      "outputs": []
    },
    {
      "cell_type": "code",
      "source": [
        "with open(\"구구단.txt\",'w',encoding='utf-8') as f:\n",
        "    for i in range(2,10):\n",
        "        for j in range(1,10):\n",
        "            f.write(f\"{i*j}\")\n",
        "        f.write(\"\\n\") "
      ],
      "metadata": {
        "id": "of_ArsUbkt_9"
      },
      "execution_count": null,
      "outputs": []
    },
    {
      "cell_type": "markdown",
      "source": [],
      "metadata": {
        "id": "XrVi05unpohd"
      }
    },
    {
      "cell_type": "code",
      "source": [
        "class Family :\n",
        "  lastname = '박' #클래스 변수\n",
        "  def __init__(self, name):\n",
        "    self.name = name\n",
        "    "
      ],
      "metadata": {
        "id": "UGasQL-TlvL0"
      },
      "execution_count": null,
      "outputs": []
    },
    {
      "cell_type": "code",
      "source": [
        "가족1 = Family('길동')"
      ],
      "metadata": {
        "id": "2IjGJ-HzpzNc"
      },
      "execution_count": null,
      "outputs": []
    },
    {
      "cell_type": "code",
      "source": [
        "가족1.name"
      ],
      "metadata": {
        "colab": {
          "base_uri": "https://localhost:8080/",
          "height": 35
        },
        "id": "uUV1PP07qDOG",
        "outputId": "54a72d8f-f5f3-4b80-a218-515ed1540167"
      },
      "execution_count": null,
      "outputs": [
        {
          "output_type": "execute_result",
          "data": {
            "text/plain": [
              "'길동'"
            ],
            "application/vnd.google.colaboratory.intrinsic+json": {
              "type": "string"
            }
          },
          "metadata": {},
          "execution_count": 30
        }
      ]
    },
    {
      "cell_type": "code",
      "source": [
        "가족1.lastname"
      ],
      "metadata": {
        "colab": {
          "base_uri": "https://localhost:8080/",
          "height": 35
        },
        "id": "YIqOshmxqE2R",
        "outputId": "59b5c2e4-1a42-4809-8931-da5d23aa5a56"
      },
      "execution_count": null,
      "outputs": [
        {
          "output_type": "execute_result",
          "data": {
            "text/plain": [
              "'박'"
            ],
            "application/vnd.google.colaboratory.intrinsic+json": {
              "type": "string"
            }
          },
          "metadata": {},
          "execution_count": 31
        }
      ]
    },
    {
      "cell_type": "code",
      "source": [
        "Family.lastname"
      ],
      "metadata": {
        "colab": {
          "base_uri": "https://localhost:8080/",
          "height": 35
        },
        "id": "5SGxs6NXqLF0",
        "outputId": "882657dd-01e9-4828-87d0-d9fb6a769ebb"
      },
      "execution_count": null,
      "outputs": [
        {
          "output_type": "execute_result",
          "data": {
            "text/plain": [
              "'박'"
            ],
            "application/vnd.google.colaboratory.intrinsic+json": {
              "type": "string"
            }
          },
          "metadata": {},
          "execution_count": 32
        }
      ]
    },
    {
      "cell_type": "code",
      "source": [
        "가족2 = Family('우치')"
      ],
      "metadata": {
        "id": "xjwjPhD1qRzS"
      },
      "execution_count": null,
      "outputs": []
    },
    {
      "cell_type": "code",
      "source": [
        "가족2.name"
      ],
      "metadata": {
        "colab": {
          "base_uri": "https://localhost:8080/",
          "height": 35
        },
        "id": "HveOypGoqVLV",
        "outputId": "bc8f725b-d8ca-4580-8ef4-e27200ae0515"
      },
      "execution_count": null,
      "outputs": [
        {
          "output_type": "execute_result",
          "data": {
            "text/plain": [
              "'우치'"
            ],
            "application/vnd.google.colaboratory.intrinsic+json": {
              "type": "string"
            }
          },
          "metadata": {},
          "execution_count": 34
        }
      ]
    },
    {
      "cell_type": "code",
      "source": [
        "가족2.lastname"
      ],
      "metadata": {
        "colab": {
          "base_uri": "https://localhost:8080/",
          "height": 35
        },
        "id": "YbbsO4n1qWdv",
        "outputId": "e57a7425-945e-4660-8d7f-5b5b2b0e3556"
      },
      "execution_count": null,
      "outputs": [
        {
          "output_type": "execute_result",
          "data": {
            "text/plain": [
              "'박'"
            ],
            "application/vnd.google.colaboratory.intrinsic+json": {
              "type": "string"
            }
          },
          "metadata": {},
          "execution_count": 35
        }
      ]
    },
    {
      "cell_type": "code",
      "source": [
        "id(가족1.lastname)"
      ],
      "metadata": {
        "colab": {
          "base_uri": "https://localhost:8080/"
        },
        "id": "HydGX6qaqbMq",
        "outputId": "2330cb0d-c861-4fbe-c41e-c90a79653cce"
      },
      "execution_count": null,
      "outputs": [
        {
          "output_type": "execute_result",
          "data": {
            "text/plain": [
              "140274823716416"
            ]
          },
          "metadata": {},
          "execution_count": 36
        }
      ]
    },
    {
      "cell_type": "code",
      "source": [
        "id(가족2.lastname)"
      ],
      "metadata": {
        "colab": {
          "base_uri": "https://localhost:8080/"
        },
        "id": "LFgMwRwbqi86",
        "outputId": "58df01a8-9dcb-4d42-b117-cb9f6fd1a19c"
      },
      "execution_count": null,
      "outputs": [
        {
          "output_type": "execute_result",
          "data": {
            "text/plain": [
              "140274823716416"
            ]
          },
          "metadata": {},
          "execution_count": 37
        }
      ]
    },
    {
      "cell_type": "code",
      "source": [
        "name = '장길산'\n",
        "class family(Family):\n",
        "  def show_name(self):\n",
        "    print(name)\n",
        "    print(Family.lastname)\n",
        "    print(self.lastname)\n",
        "    print(self.name)\n",
        "    "
      ],
      "metadata": {
        "id": "CjEQZXMzqlVi"
      },
      "execution_count": null,
      "outputs": []
    },
    {
      "cell_type": "code",
      "source": [
        "f1 = family('길동')\n",
        "f1.show_name()"
      ],
      "metadata": {
        "colab": {
          "base_uri": "https://localhost:8080/"
        },
        "id": "cz1ltgMurDwU",
        "outputId": "55a24146-8a97-4cf0-e293-6f6cd942a971"
      },
      "execution_count": null,
      "outputs": [
        {
          "output_type": "stream",
          "name": "stdout",
          "text": [
            "장길산\n",
            "박\n",
            "박\n",
            "길동\n"
          ]
        }
      ]
    },
    {
      "cell_type": "code",
      "source": [
        "name1 = '아이유'\n",
        "class Person:\n",
        "  name2 = '손'\n",
        "  def __init__(self,name):\n",
        "    self.name = name\n",
        "p = Person('흥민')\n",
        "print(p.name2,p.name , name1)"
      ],
      "metadata": {
        "colab": {
          "base_uri": "https://localhost:8080/"
        },
        "id": "DFsXMrFurYMU",
        "outputId": "063a34d1-f245-4c70-a5ca-abd3afaf090f"
      },
      "execution_count": null,
      "outputs": [
        {
          "output_type": "stream",
          "name": "stdout",
          "text": [
            "손 흥민 아이유\n"
          ]
        }
      ]
    },
    {
      "cell_type": "markdown",
      "source": [
        "##상속후 변수 추가 \n",
        "-부모클래스ㅔ서 인자로 입력받는 것이 없을 때"
      ],
      "metadata": {
        "id": "_OFMubMnxeK0"
      }
    },
    {
      "cell_type": "code",
      "source": [
        "class Person :\n",
        "  def __init__(self):\n",
        "    self.name= \"Lee\"\n",
        "    self.age  = 25\n",
        "class Korean(Person):\n",
        "  def __init__(self):\n",
        "    super().__init__() #부모클래스 init 실행\n",
        "    self.lang = '한국어'"
      ],
      "metadata": {
        "id": "9KwH4nQZucJN"
      },
      "execution_count": null,
      "outputs": []
    },
    {
      "cell_type": "code",
      "source": [
        "p1 = Person()\n",
        "p1.name"
      ],
      "metadata": {
        "colab": {
          "base_uri": "https://localhost:8080/",
          "height": 35
        },
        "id": "Ieq4rx23urf-",
        "outputId": "27cdc88e-2385-4a96-9580-6060a142462d"
      },
      "execution_count": null,
      "outputs": [
        {
          "output_type": "execute_result",
          "data": {
            "text/plain": [
              "'Lee'"
            ],
            "application/vnd.google.colaboratory.intrinsic+json": {
              "type": "string"
            }
          },
          "metadata": {},
          "execution_count": 70
        }
      ]
    },
    {
      "cell_type": "code",
      "source": [
        "k1 = Korean()\n",
        "k1.name\n",
        "k1.lang"
      ],
      "metadata": {
        "colab": {
          "base_uri": "https://localhost:8080/",
          "height": 35
        },
        "id": "cKEFGBiru1x2",
        "outputId": "584f846a-6dc5-4ed1-de75-0b3d63a33c07"
      },
      "execution_count": null,
      "outputs": [
        {
          "output_type": "execute_result",
          "data": {
            "text/plain": [
              "'한국어'"
            ],
            "application/vnd.google.colaboratory.intrinsic+json": {
              "type": "string"
            }
          },
          "metadata": {},
          "execution_count": 78
        }
      ]
    },
    {
      "cell_type": "code",
      "source": [
        "k2 = Korean()\n"
      ],
      "metadata": {
        "id": "vpVu4xm2vLTE"
      },
      "execution_count": null,
      "outputs": []
    },
    {
      "cell_type": "code",
      "source": [
        "k2.lang"
      ],
      "metadata": {
        "colab": {
          "base_uri": "https://localhost:8080/",
          "height": 35
        },
        "id": "FuucJKfzwVjE",
        "outputId": "25b50c4a-70bc-4cfe-c70f-9ca14f49dd2f"
      },
      "execution_count": null,
      "outputs": [
        {
          "output_type": "execute_result",
          "data": {
            "text/plain": [
              "'한국어'"
            ],
            "application/vnd.google.colaboratory.intrinsic+json": {
              "type": "string"
            }
          },
          "metadata": {},
          "execution_count": 80
        }
      ]
    },
    {
      "cell_type": "code",
      "source": [
        "k2.name"
      ],
      "metadata": {
        "colab": {
          "base_uri": "https://localhost:8080/",
          "height": 35
        },
        "id": "bSQiZ2_twWkj",
        "outputId": "bd294307-20b6-45f0-b1c4-85523eba6bbc"
      },
      "execution_count": null,
      "outputs": [
        {
          "output_type": "execute_result",
          "data": {
            "text/plain": [
              "'Lee'"
            ],
            "application/vnd.google.colaboratory.intrinsic+json": {
              "type": "string"
            }
          },
          "metadata": {},
          "execution_count": 81
        }
      ]
    },
    {
      "cell_type": "code",
      "source": [
        "class American(Person):\n",
        "  def __init__(self):\n",
        "    super().__init__()\n",
        "    self.lang = 'English'"
      ],
      "metadata": {
        "id": "g-WvgKH2wdEP"
      },
      "execution_count": null,
      "outputs": []
    },
    {
      "cell_type": "code",
      "source": [
        "a1 = American()\n",
        "a1.lang"
      ],
      "metadata": {
        "colab": {
          "base_uri": "https://localhost:8080/",
          "height": 35
        },
        "id": "zvWSWA9Ewqod",
        "outputId": "beb75721-ff70-42e9-de74-bfba180429ef"
      },
      "execution_count": null,
      "outputs": [
        {
          "output_type": "execute_result",
          "data": {
            "text/plain": [
              "'English'"
            ],
            "application/vnd.google.colaboratory.intrinsic+json": {
              "type": "string"
            }
          },
          "metadata": {},
          "execution_count": 84
        }
      ]
    },
    {
      "cell_type": "markdown",
      "source": [
        "- 부모클래스에서 인자로 입력받는 것이 있을 때"
      ],
      "metadata": {
        "id": "bn_dqj_Pxpb8"
      }
    },
    {
      "cell_type": "code",
      "source": [
        "class Person:\n",
        "  def __init__(self, name, age):\n",
        "    self.name = name\n",
        "    self.age = age\n",
        "class Korean(Person):\n",
        "  def __init__(self,name,age):\n",
        "    super().__init__(name, age)\n",
        "    self.lang = \"한국어\""
      ],
      "metadata": {
        "id": "2IF3V1H_xsN-"
      },
      "execution_count": null,
      "outputs": []
    },
    {
      "cell_type": "code",
      "source": [
        "k1 = Korean(\"홍길동\",22)"
      ],
      "metadata": {
        "id": "fqYFhLmVyQkf"
      },
      "execution_count": null,
      "outputs": []
    },
    {
      "cell_type": "markdown",
      "source": [
        "- 자식 클래스에서도 인자를 입력받는 경우"
      ],
      "metadata": {
        "id": "2AN10gqJ3Hio"
      }
    },
    {
      "cell_type": "code",
      "source": [
        "class Korean(Person):\n",
        "  def __init__(self,name,age,lang = '한국어'): #<-모든 변수를 다 써준다.\n",
        "    super().__init__(name, age)\n",
        "    self.lang = lang"
      ],
      "metadata": {
        "id": "8t6_3sO-2vlF"
      },
      "execution_count": null,
      "outputs": []
    },
    {
      "cell_type": "code",
      "source": [
        "k1 = Korean('길동',22,'한국어')\n",
        "k1.lang"
      ],
      "metadata": {
        "colab": {
          "base_uri": "https://localhost:8080/",
          "height": 35
        },
        "id": "y0_8gKgK3Lab",
        "outputId": "eafba662-ace6-4be3-9d67-8e9d1c5401f0"
      },
      "execution_count": null,
      "outputs": [
        {
          "output_type": "execute_result",
          "data": {
            "text/plain": [
              "'한국어'"
            ],
            "application/vnd.google.colaboratory.intrinsic+json": {
              "type": "string"
            }
          },
          "metadata": {},
          "execution_count": 91
        }
      ]
    },
    {
      "cell_type": "code",
      "source": [
        "k1.name"
      ],
      "metadata": {
        "colab": {
          "base_uri": "https://localhost:8080/",
          "height": 35
        },
        "id": "59FKOZsI3Y07",
        "outputId": "2282c913-12d7-45c9-b059-0945ddead5a0"
      },
      "execution_count": null,
      "outputs": [
        {
          "output_type": "execute_result",
          "data": {
            "text/plain": [
              "'길동'"
            ],
            "application/vnd.google.colaboratory.intrinsic+json": {
              "type": "string"
            }
          },
          "metadata": {},
          "execution_count": 92
        }
      ]
    },
    {
      "cell_type": "code",
      "source": [
        "if __name__ == '__main__':\n",
        "  print()"
      ],
      "metadata": {
        "colab": {
          "base_uri": "https://localhost:8080/"
        },
        "id": "GqlVFg747jM6",
        "outputId": "1e183c5d-c642-449a-adbe-07f3dd5f7694"
      },
      "execution_count": null,
      "outputs": [
        {
          "output_type": "stream",
          "name": "stdout",
          "text": [
            "\n"
          ]
        }
      ]
    },
    {
      "cell_type": "markdown",
      "source": [
        "dunder __"
      ],
      "metadata": {
        "id": "2vS0LcPhe-MH"
      }
    },
    {
      "cell_type": "code",
      "source": [
        "a = ['Hello', 'Good']\n",
        "try:\n",
        "  for i in range(3):\n",
        "    print(a[i])\n",
        "except IndexError as index:\n",
        "  print('에러입니다'+' '+a[0]+' '+a[1])"
      ],
      "metadata": {
        "colab": {
          "base_uri": "https://localhost:8080/"
        },
        "id": "ItNaRzT2pYbX",
        "outputId": "3e7ecfac-317a-4957-e4ac-a26b860e2620"
      },
      "execution_count": null,
      "outputs": [
        {
          "output_type": "stream",
          "name": "stdout",
          "text": [
            "Hello\n",
            "Good\n",
            "에러입니다 Hello Good\n"
          ]
        }
      ]
    },
    {
      "cell_type": "code",
      "source": [
        "try :\n",
        "  print(4/2)\n",
        "  print(4 / 0)\n",
        "except ZeroDivisionError as zero :\n",
        "  print(zero)\n",
        "  print('에러입니다')\n"
      ],
      "metadata": {
        "colab": {
          "base_uri": "https://localhost:8080/"
        },
        "id": "H5fAoTIwtfmZ",
        "outputId": "5bf9c121-be75-45a2-fc7d-f2f4167cff9a"
      },
      "execution_count": null,
      "outputs": [
        {
          "output_type": "stream",
          "name": "stdout",
          "text": [
            "2.0\n",
            "division by zero\n",
            "에러입니다\n"
          ]
        }
      ]
    },
    {
      "cell_type": "code",
      "source": [
        "try :\n",
        "  prit(\"abcd\")\n",
        "except :\n",
        "  print(0)"
      ],
      "metadata": {
        "colab": {
          "base_uri": "https://localhost:8080/"
        },
        "id": "MMX_N3S9uXjK",
        "outputId": "d3bddca1-443d-42de-a0c7-49a01ffdb337"
      },
      "execution_count": null,
      "outputs": [
        {
          "output_type": "stream",
          "name": "stdout",
          "text": [
            "0\n"
          ]
        }
      ]
    },
    {
      "cell_type": "code",
      "source": [
        "a = {'a' : 0, 'b' : 1, 'c' : 2}\n",
        "for i,j in enumerate(a):\n",
        "  print(i,j)"
      ],
      "metadata": {
        "colab": {
          "base_uri": "https://localhost:8080/"
        },
        "id": "p8Oiqm-Nu93x",
        "outputId": "be79dca1-d4b3-454a-c08a-4ebe7266dd46"
      },
      "execution_count": null,
      "outputs": [
        {
          "output_type": "stream",
          "name": "stdout",
          "text": [
            "0 a\n",
            "1 b\n",
            "2 c\n"
          ]
        }
      ]
    },
    {
      "cell_type": "code",
      "source": [
        "a"
      ],
      "metadata": {
        "colab": {
          "base_uri": "https://localhost:8080/"
        },
        "id": "azNOopCm1ILt",
        "outputId": "82a200c7-af0e-43f0-cc9c-9b6b0653c798"
      },
      "execution_count": null,
      "outputs": [
        {
          "output_type": "execute_result",
          "data": {
            "text/plain": [
              "{'a': 0, 'b': 1, 'c': 2}"
            ]
          },
          "metadata": {},
          "execution_count": 33
        }
      ]
    },
    {
      "cell_type": "code",
      "source": [
        "b = ['a','b','c']"
      ],
      "metadata": {
        "id": "t7TKR6ew1KWL"
      },
      "execution_count": null,
      "outputs": []
    },
    {
      "cell_type": "code",
      "source": [
        "c = {}\n",
        "for i, j in enumerate(a):\n",
        "    c[j] = i\n",
        "print(c) "
      ],
      "metadata": {
        "colab": {
          "base_uri": "https://localhost:8080/"
        },
        "id": "SuVrGg6v1O1Y",
        "outputId": "5ccdb8a6-47df-40eb-bf7f-2862eea4167f"
      },
      "execution_count": null,
      "outputs": [
        {
          "output_type": "stream",
          "name": "stdout",
          "text": [
            "{'a': 0, 'b': 1, 'c': 2}\n"
          ]
        }
      ]
    },
    {
      "cell_type": "code",
      "source": [
        "def positive(a):\n",
        "  return a>0\n",
        "  "
      ],
      "metadata": {
        "id": "6ai0n2dq3fr-"
      },
      "execution_count": null,
      "outputs": []
    },
    {
      "cell_type": "code",
      "source": [
        "a = [1,-3,2,0,-5,6]\n",
        "b= list(filter(positive,a))"
      ],
      "metadata": {
        "id": "Ecydnvtd3iXg"
      },
      "execution_count": null,
      "outputs": []
    },
    {
      "cell_type": "code",
      "source": [
        "b"
      ],
      "metadata": {
        "colab": {
          "base_uri": "https://localhost:8080/"
        },
        "id": "eq0Gp16R3tRd",
        "outputId": "84ce83fc-015b-4107-fc68-94d033244a10"
      },
      "execution_count": null,
      "outputs": [
        {
          "output_type": "execute_result",
          "data": {
            "text/plain": [
              "[1, 2, 6]"
            ]
          },
          "metadata": {},
          "execution_count": 45
        }
      ]
    },
    {
      "cell_type": "markdown",
      "source": [
        "- filter\n",
        "'''\n",
        "- filter(함수,자료)\n",
        "- 들어가는 함수는 참,거짓을 아웃풋으로 내야한다.\n",
        "- 원소 하나하나에 대하여 함수를 적용시켜주는 함수 = map\n",
        "\n",
        "'''"
      ],
      "metadata": {
        "id": "DNiCtDMD5_X1"
      }
    },
    {
      "cell_type": "code",
      "source": [
        "a = [1,-3,2,0,-5,6]\n",
        "b= list(filter(lambda a :a>0,a))"
      ],
      "metadata": {
        "id": "M_dC56t37c14"
      },
      "execution_count": null,
      "outputs": []
    },
    {
      "cell_type": "code",
      "source": [
        "import numpy as np\n",
        "\n",
        "a=np.array(a)\n",
        "a[a>0]"
      ],
      "metadata": {
        "id": "GHTOj4xX722h",
        "outputId": "c1460aed-86ff-4a18-ba1d-d137dcfa9308",
        "colab": {
          "base_uri": "https://localhost:8080/"
        }
      },
      "execution_count": null,
      "outputs": [
        {
          "output_type": "execute_result",
          "data": {
            "text/plain": [
              "array([1, 2, 6])"
            ]
          },
          "metadata": {},
          "execution_count": 47
        }
      ]
    }
  ]
}