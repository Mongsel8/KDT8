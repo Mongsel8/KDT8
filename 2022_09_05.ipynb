{
  "nbformat": 4,
  "nbformat_minor": 0,
  "metadata": {
    "colab": {
      "provenance": []
    },
    "kernelspec": {
      "name": "python3",
      "display_name": "Python 3"
    },
    "language_info": {
      "name": "python"
    }
  },
  "cells": [
    {
      "cell_type": "code",
      "execution_count": null,
      "metadata": {
        "colab": {
          "base_uri": "https://localhost:8080/"
        },
        "id": "pkxFJXgn9BaD",
        "outputId": "e96e3867-ec5d-450f-dc77-1650797ba69a"
      },
      "outputs": [
        {
          "output_type": "execute_result",
          "data": {
            "text/plain": [
              "[1, 2, 3, 4, 'Good Morning']"
            ]
          },
          "metadata": {},
          "execution_count": 22
        }
      ],
      "source": [
        "a = [1, 2, 3, 4, \"Hello\", \"Good Morning\"]\n",
        "\n",
        "a.pop(4)\n",
        "a\n"
      ]
    },
    {
      "cell_type": "code",
      "source": [
        "temp = 1\n",
        "a = int(input(\"팩토리얼을 구할 수를 입력하세요\"))\n",
        "for i in range(1,a+1):\n",
        "  temp = temp*i\n",
        "print(temp)\n"
      ],
      "metadata": {
        "colab": {
          "base_uri": "https://localhost:8080/"
        },
        "id": "lAYWlNng-suN",
        "outputId": "9da241c7-dd86-44b0-fae1-f1035ccbddf4"
      },
      "execution_count": null,
      "outputs": [
        {
          "output_type": "stream",
          "name": "stdout",
          "text": [
            "팩토리얼4\n",
            "24\n"
          ]
        }
      ]
    },
    {
      "cell_type": "code",
      "source": [
        "list_= []\n",
        "for i in range(0,1001,2):\n",
        "  list_.append(i)\n",
        "list_"
      ],
      "metadata": {
        "id": "-2zY9DDr_xp1"
      },
      "execution_count": null,
      "outputs": []
    },
    {
      "cell_type": "code",
      "source": [
        "[i for i in range(0,1001,2)]"
      ],
      "metadata": {
        "id": "PPY7earWAqh9"
      },
      "execution_count": null,
      "outputs": []
    },
    {
      "cell_type": "code",
      "source": [
        "[i for i in range(0,11,2)]"
      ],
      "metadata": {
        "colab": {
          "base_uri": "https://localhost:8080/"
        },
        "id": "UZtl9w5zCROF",
        "outputId": "9cd56373-6c34-49e5-dbaf-c582c2dcd9c7"
      },
      "execution_count": null,
      "outputs": [
        {
          "output_type": "execute_result",
          "data": {
            "text/plain": [
              "[0, 2, 4, 6, 8, 10]"
            ]
          },
          "metadata": {},
          "execution_count": 15
        }
      ]
    },
    {
      "cell_type": "code",
      "source": [
        "[i for i in range(0,11) if i % 2 == 0 ]"
      ],
      "metadata": {
        "colab": {
          "base_uri": "https://localhost:8080/"
        },
        "id": "dnwhRGejCpLV",
        "outputId": "c702a4fb-f8c8-45d9-9a0d-5b97549bc2d6"
      },
      "execution_count": null,
      "outputs": [
        {
          "output_type": "execute_result",
          "data": {
            "text/plain": [
              "[0, 2, 4, 6, 8, 10]"
            ]
          },
          "metadata": {},
          "execution_count": 20
        }
      ]
    },
    {
      "cell_type": "code",
      "source": [
        "b = a.copy()\n",
        "c = a\n",
        "d = a[:]\n",
        "import copy\n",
        "e = copy.copy(a)"
      ],
      "metadata": {
        "id": "jEffOxTdDVq9"
      },
      "execution_count": null,
      "outputs": []
    },
    {
      "cell_type": "code",
      "source": [
        "print(a is b)\n",
        "print(a is c)\n",
        "print(a is d)\n",
        "print(a is e)"
      ],
      "metadata": {
        "colab": {
          "base_uri": "https://localhost:8080/"
        },
        "id": "PMBcvsvRFIHE",
        "outputId": "b0a6240b-023a-436d-eccb-4cc04beaa519"
      },
      "execution_count": null,
      "outputs": [
        {
          "output_type": "stream",
          "name": "stdout",
          "text": [
            "False\n",
            "True\n",
            "False\n",
            "False\n"
          ]
        }
      ]
    },
    {
      "cell_type": "code",
      "source": [
        "from copy import copy\n",
        "e = copy(a)"
      ],
      "metadata": {
        "id": "MWHqz5VLFQYF"
      },
      "execution_count": null,
      "outputs": []
    },
    {
      "cell_type": "code",
      "source": [
        "data = [[\"영자\", \"옥순\", \"광수\", \"순자\"],[33, 37, 39, 31],[\"여자\",\"여자\",\"남자\",\"여자\"]]"
      ],
      "metadata": {
        "id": "M2iIhJxVFy0c"
      },
      "execution_count": null,
      "outputs": []
    },
    {
      "cell_type": "code",
      "source": [
        "data[2]"
      ],
      "metadata": {
        "colab": {
          "base_uri": "https://localhost:8080/"
        },
        "id": "fbxBmm11Fz6M",
        "outputId": "eb0d3473-f700-44b5-c735-c777a72cdfdc"
      },
      "execution_count": null,
      "outputs": [
        {
          "output_type": "execute_result",
          "data": {
            "text/plain": [
              "['여자', '여자', '남자', '여자']"
            ]
          },
          "metadata": {},
          "execution_count": 33
        }
      ]
    },
    {
      "cell_type": "code",
      "source": [
        "sum = 0\n",
        "count = 0\n",
        "for i in range(len(data[2])):\n",
        "  if data[2][i] == '여자':\n",
        "    sum = sum + data[1][i]\n",
        "    count = count + 1\n",
        "mean = sum / count\n",
        "print(mean)"
      ],
      "metadata": {
        "colab": {
          "base_uri": "https://localhost:8080/"
        },
        "id": "_FzZWfcBF2SN",
        "outputId": "95ef0c82-5a14-49f6-8bb8-c7f783cbbd4b"
      },
      "execution_count": null,
      "outputs": [
        {
          "output_type": "stream",
          "name": "stdout",
          "text": [
            "33.666666666666664\n"
          ]
        }
      ]
    },
    {
      "cell_type": "code",
      "source": [
        "a = [1,2,3,4,'Hello', \"Good Morning\"]\n",
        "a[5][5:]"
      ],
      "metadata": {
        "colab": {
          "base_uri": "https://localhost:8080/",
          "height": 35
        },
        "id": "wOaI3MpeGrC1",
        "outputId": "a1d12c1c-005d-4fc5-fc4e-e2efbe5c1011"
      },
      "execution_count": null,
      "outputs": [
        {
          "output_type": "execute_result",
          "data": {
            "text/plain": [
              "'Morning'"
            ],
            "application/vnd.google.colaboratory.intrinsic+json": {
              "type": "string"
            }
          },
          "metadata": {},
          "execution_count": 43
        }
      ]
    },
    {
      "cell_type": "code",
      "source": [
        "a = [1,3,4,2]\n",
        "a.sort(reverse = True)\n",
        "a"
      ],
      "metadata": {
        "colab": {
          "base_uri": "https://localhost:8080/"
        },
        "id": "7ezMCbA5G-rl",
        "outputId": "77d86202-8d07-4447-c211-d91efa85a6f6"
      },
      "execution_count": null,
      "outputs": [
        {
          "output_type": "execute_result",
          "data": {
            "text/plain": [
              "[4, 3, 2, 1]"
            ]
          },
          "metadata": {},
          "execution_count": 51
        }
      ]
    },
    {
      "cell_type": "code",
      "source": [
        "a = [1,3,4,2]\n",
        "a=sorted(a)\n",
        "a.reverse()\n",
        "a"
      ],
      "metadata": {
        "colab": {
          "base_uri": "https://localhost:8080/"
        },
        "id": "b2OJzjceHbcd",
        "outputId": "e4f865da-24a0-403f-b648-667f7e3e33d2"
      },
      "execution_count": null,
      "outputs": [
        {
          "output_type": "execute_result",
          "data": {
            "text/plain": [
              "[4, 3, 2, 1]"
            ]
          },
          "metadata": {},
          "execution_count": 56
        }
      ]
    },
    {
      "cell_type": "markdown",
      "source": [
        "- escape "
      ],
      "metadata": {
        "id": "0BM0afrvP4l_"
      }
    },
    {
      "cell_type": "code",
      "source": [
        "print('Life is short. \\nYou need python.')"
      ],
      "metadata": {
        "colab": {
          "base_uri": "https://localhost:8080/"
        },
        "id": "YtbOJOuzP8-p",
        "outputId": "ceab7dd0-f1d5-473c-a971-fc9f246c373f"
      },
      "execution_count": null,
      "outputs": [
        {
          "output_type": "stream",
          "name": "stdout",
          "text": [
            "Life is short. \n",
            "You need python.\n"
          ]
        }
      ]
    },
    {
      "cell_type": "code",
      "source": [
        "print('Life is short. \\tYou need python.')"
      ],
      "metadata": {
        "colab": {
          "base_uri": "https://localhost:8080/"
        },
        "id": "k58c8DKMQU9d",
        "outputId": "50ea9237-d697-45b1-84b5-638fa9375694"
      },
      "execution_count": null,
      "outputs": [
        {
          "output_type": "stream",
          "name": "stdout",
          "text": [
            "Life is short. \tYou need python.\n"
          ]
        }
      ]
    },
    {
      "cell_type": "code",
      "source": [
        "print(\"그가 나에게 \\\"사랑해요\\\"라고 말했다.\")"
      ],
      "metadata": {
        "colab": {
          "base_uri": "https://localhost:8080/"
        },
        "id": "HDh8_VhQQxNI",
        "outputId": "74c576aa-b9d1-4b84-ab18-b88dd4a253d2"
      },
      "execution_count": null,
      "outputs": [
        {
          "output_type": "stream",
          "name": "stdout",
          "text": [
            "그가 나에게 \"사랑해요\"라고 말했다.\n"
          ]
        }
      ]
    },
    {
      "cell_type": "markdown",
      "source": [
        " - list comprehension"
      ],
      "metadata": {
        "id": "KdB53cH5RQMe"
      }
    },
    {
      "cell_type": "code",
      "source": [
        "a = [1,2,3,4]\n",
        "b = []\n",
        "for i in a :\n",
        "  b.append(i*3)\n",
        "b"
      ],
      "metadata": {
        "colab": {
          "base_uri": "https://localhost:8080/"
        },
        "id": "eiLm9nnuSKCH",
        "outputId": "ce8c7ffd-f6f2-4332-b951-1aa739e228be"
      },
      "execution_count": null,
      "outputs": [
        {
          "output_type": "execute_result",
          "data": {
            "text/plain": [
              "[3, 6, 9, 12]"
            ]
          },
          "metadata": {},
          "execution_count": 65
        }
      ]
    },
    {
      "cell_type": "code",
      "source": [
        "a = [1,2,3,4]\n",
        "[i*3 for i in a if i % 2 == 0]"
      ],
      "metadata": {
        "colab": {
          "base_uri": "https://localhost:8080/"
        },
        "id": "sf8eU1QnSfAI",
        "outputId": "2ea86e0d-e712-40c7-91cc-e0bc1280b932"
      },
      "execution_count": null,
      "outputs": [
        {
          "output_type": "execute_result",
          "data": {
            "text/plain": [
              "[6, 12]"
            ]
          },
          "metadata": {},
          "execution_count": 68
        }
      ]
    },
    {
      "cell_type": "markdown",
      "source": [
        "#While"
      ],
      "metadata": {
        "id": "6f5N0EGFSjRc"
      }
    },
    {
      "cell_type": "code",
      "source": [
        "i = 0\n",
        "while i <10:\n",
        "  print(i, end = \",  \")\n",
        "  i +=1"
      ],
      "metadata": {
        "colab": {
          "base_uri": "https://localhost:8080/"
        },
        "id": "WgmxStNTT8z3",
        "outputId": "7ee91dc0-60de-4332-c9e2-a5ddabb7c015"
      },
      "execution_count": null,
      "outputs": [
        {
          "output_type": "stream",
          "name": "stdout",
          "text": [
            "0,  1,  2,  3,  4,  5,  6,  7,  8,  9,  "
          ]
        }
      ]
    },
    {
      "cell_type": "markdown",
      "source": [
        "# Break"
      ],
      "metadata": {
        "id": "tiJXq2XmUlHP"
      }
    },
    {
      "cell_type": "code",
      "source": [
        "i = 0\n",
        "import time as t\n",
        "while True:\n",
        "  print(i, end = ', ')\n",
        "  i += 1\n",
        "  t.sleep(1)\n",
        "  if i == 10:\n",
        "    print('끝')\n",
        "    break\n"
      ],
      "metadata": {
        "colab": {
          "base_uri": "https://localhost:8080/"
        },
        "id": "It-pWUFnUnOW",
        "outputId": "8c19ca2d-ea13-4419-802d-b49f78ee3dcb"
      },
      "execution_count": null,
      "outputs": [
        {
          "output_type": "stream",
          "name": "stdout",
          "text": [
            "0, 1, 2, 3, 4, 5, 6, 7, 8, 9, 끝\n"
          ]
        }
      ]
    },
    {
      "cell_type": "code",
      "source": [
        "# 1부터 10까지의 합을 while 문으로\n",
        "sum = 0\n",
        "i = 0\n",
        "while(i<10):\n",
        "  i+=1\n",
        "  sum = sum+i\n",
        "print(sum) "
      ],
      "metadata": {
        "colab": {
          "base_uri": "https://localhost:8080/"
        },
        "id": "hSmKP00PVvJ2",
        "outputId": "20a2699c-eb07-4fab-d19f-c861e3ca83db"
      },
      "execution_count": null,
      "outputs": [
        {
          "output_type": "stream",
          "name": "stdout",
          "text": [
            "55\n"
          ]
        }
      ]
    },
    {
      "cell_type": "code",
      "source": [
        "sum = 0\n",
        "i = 0\n",
        "while(i<10):\n",
        "  i+=1\n",
        "  if i%3 == 0:\n",
        "    sum = sum + i\n",
        "print(sum)\n"
      ],
      "metadata": {
        "colab": {
          "base_uri": "https://localhost:8080/"
        },
        "id": "yKnAmKP7WDAr",
        "outputId": "bd7a32a8-36ef-4406-b58d-61358289913a"
      },
      "execution_count": null,
      "outputs": [
        {
          "output_type": "stream",
          "name": "stdout",
          "text": [
            "18\n"
          ]
        }
      ]
    },
    {
      "cell_type": "code",
      "source": [
        "i = 0\n",
        "while i<10:\n",
        "  i +=1\n",
        "  if i % 3 == 0:\n",
        "    continue\n",
        "  print(i)"
      ],
      "metadata": {
        "colab": {
          "base_uri": "https://localhost:8080/"
        },
        "id": "wOESJ0Evboge",
        "outputId": "7e45e6e9-0bf3-44f9-9da0-341cb87432a6"
      },
      "execution_count": null,
      "outputs": [
        {
          "output_type": "stream",
          "name": "stdout",
          "text": [
            "1\n",
            "2\n",
            "4\n",
            "5\n",
            "7\n",
            "8\n",
            "10\n"
          ]
        }
      ]
    },
    {
      "cell_type": "code",
      "source": [
        "i = 0\n",
        "sum = 0\n",
        "while i<10:\n",
        "  i +=1\n",
        "  if i % 3 == 0:\n",
        "    continue\n",
        "  sum = sum + i\n",
        "print(sum)\n",
        "# 3이 배수가 아닌 수의 합"
      ],
      "metadata": {
        "colab": {
          "base_uri": "https://localhost:8080/"
        },
        "id": "0oUDjvRYcnbl",
        "outputId": "34b08c94-2f85-4a53-fc7d-18a940872e61"
      },
      "execution_count": null,
      "outputs": [
        {
          "output_type": "stream",
          "name": "stdout",
          "text": [
            "37\n"
          ]
        }
      ]
    },
    {
      "cell_type": "code",
      "source": [
        "import random\n",
        "random.randint(1,3)"
      ],
      "metadata": {
        "colab": {
          "base_uri": "https://localhost:8080/"
        },
        "id": "nhensRFIdb4O",
        "outputId": "5a988e71-7a0f-4e8a-db6b-95375b8e4a80"
      },
      "execution_count": null,
      "outputs": [
        {
          "output_type": "execute_result",
          "data": {
            "text/plain": [
              "3"
            ]
          },
          "metadata": {},
          "execution_count": 92
        }
      ]
    },
    {
      "cell_type": "code",
      "source": [
        "[random.randint(1,3) for i in range(10)]"
      ],
      "metadata": {
        "colab": {
          "base_uri": "https://localhost:8080/"
        },
        "id": "63fDwe3Ld7rW",
        "outputId": "262c9d48-3fdf-4318-9673-cc3005d12867"
      },
      "execution_count": null,
      "outputs": [
        {
          "output_type": "execute_result",
          "data": {
            "text/plain": [
              "[1, 3, 3, 1, 2, 1, 2, 2, 2, 3]"
            ]
          },
          "metadata": {},
          "execution_count": 93
        }
      ]
    },
    {
      "cell_type": "code",
      "source": [
        "sum = 0\n",
        "while True:\n",
        "  i = random.randint(1,10)\n",
        "  if  i<7 :\n",
        "    sum += i\n",
        "  if sum>1000:\n",
        "    print(sum)\n",
        "    break"
      ],
      "metadata": {
        "colab": {
          "base_uri": "https://localhost:8080/"
        },
        "id": "TnLNZqM1eK6s",
        "outputId": "17d5024f-c7fd-40ed-ad31-ac65f8bf1e70"
      },
      "execution_count": null,
      "outputs": [
        {
          "output_type": "stream",
          "name": "stdout",
          "text": [
            "1003\n"
          ]
        }
      ]
    },
    {
      "cell_type": "code",
      "source": [
        "#3의 배수 또는 5의 배수의 합 (1부터 10까지)\n",
        "sum = 0\n",
        "i = 0\n",
        "while True:\n",
        "  i = i+1\n",
        "  if i%3 != 0 and i % 5 != 0:\n",
        "    sum = sum+i\n",
        "  else :\n",
        "    continue\n",
        "  if i == 101:\n",
        "    break\n",
        "print(sum)"
      ],
      "metadata": {
        "colab": {
          "base_uri": "https://localhost:8080/"
        },
        "id": "_egf6-Jghpgm",
        "outputId": "9c8c448b-7677-43c3-e44a-8dda0ad79f1f"
      },
      "execution_count": null,
      "outputs": [
        {
          "output_type": "stream",
          "name": "stdout",
          "text": [
            "2733\n"
          ]
        }
      ]
    },
    {
      "cell_type": "markdown",
      "source": [
        "#함수"
      ],
      "metadata": {
        "id": "w-DhoN8CEoSY"
      }
    },
    {
      "cell_type": "code",
      "source": [
        "def add(a,b):\n",
        "  c = a+b\n",
        "  return c"
      ],
      "metadata": {
        "id": "IPIsAeZwDYgp"
      },
      "execution_count": null,
      "outputs": []
    },
    {
      "cell_type": "code",
      "source": [
        "add(1,2)"
      ],
      "metadata": {
        "colab": {
          "base_uri": "https://localhost:8080/"
        },
        "id": "ls24nbL_DwRW",
        "outputId": "c29fcf7f-500a-4bcb-a8e8-6e21507f9c61"
      },
      "execution_count": null,
      "outputs": [
        {
          "output_type": "execute_result",
          "data": {
            "text/plain": [
              "3"
            ]
          },
          "metadata": {},
          "execution_count": 132
        }
      ]
    },
    {
      "cell_type": "code",
      "source": [
        "add(10,30)"
      ],
      "metadata": {
        "colab": {
          "base_uri": "https://localhost:8080/"
        },
        "id": "3Pdl_mu3DyfU",
        "outputId": "d7183b06-b799-4030-cd14-d7a61dc31acb"
      },
      "execution_count": null,
      "outputs": [
        {
          "output_type": "execute_result",
          "data": {
            "text/plain": [
              "40"
            ]
          },
          "metadata": {},
          "execution_count": 133
        }
      ]
    },
    {
      "cell_type": "code",
      "source": [
        "def asd(a,b):\n",
        "  c = {'a' : a , 'b' : b}\n",
        "  return c"
      ],
      "metadata": {
        "id": "igdQ_LlBEA0I"
      },
      "execution_count": null,
      "outputs": []
    },
    {
      "cell_type": "code",
      "source": [
        "def twice(a):\n",
        "  res = 2*a\n",
        "  return res"
      ],
      "metadata": {
        "id": "EcM_zeC5EIKo"
      },
      "execution_count": null,
      "outputs": []
    },
    {
      "cell_type": "code",
      "source": [
        "twice(1024)"
      ],
      "metadata": {
        "colab": {
          "base_uri": "https://localhost:8080/"
        },
        "id": "vQa9d6atENow",
        "outputId": "2ca52510-5acf-4f4b-af09-c4ac83b5d8ca"
      },
      "execution_count": null,
      "outputs": [
        {
          "output_type": "execute_result",
          "data": {
            "text/plain": [
              "2048"
            ]
          },
          "metadata": {},
          "execution_count": 137
        }
      ]
    },
    {
      "cell_type": "code",
      "source": [
        "def add():\n",
        "  a = 1\n",
        "  b = 2\n",
        "  c=a+b\n",
        "  return c"
      ],
      "metadata": {
        "id": "Xe5rRD9yEmW_"
      },
      "execution_count": null,
      "outputs": []
    },
    {
      "cell_type": "code",
      "source": [
        "add()"
      ],
      "metadata": {
        "colab": {
          "base_uri": "https://localhost:8080/"
        },
        "id": "hphxIQwFEyEJ",
        "outputId": "0a4cad2e-d8c8-4513-da9d-e968e7cf11b3"
      },
      "execution_count": null,
      "outputs": [
        {
          "output_type": "execute_result",
          "data": {
            "text/plain": [
              "3"
            ]
          },
          "metadata": {},
          "execution_count": 139
        }
      ]
    },
    {
      "cell_type": "code",
      "source": [
        "def odd_even(a):\n",
        "  if a % 2 != 0:\n",
        "    return 2*a\n",
        "  else:\n",
        "    return a/2"
      ],
      "metadata": {
        "id": "r7XW7KUIFDxP"
      },
      "execution_count": null,
      "outputs": []
    },
    {
      "cell_type": "code",
      "source": [
        "odd_even(3)"
      ],
      "metadata": {
        "colab": {
          "base_uri": "https://localhost:8080/"
        },
        "id": "3SqjyZlzFX0P",
        "outputId": "54e8518c-6b11-4321-fcd7-9b3253d4d0bb"
      },
      "execution_count": null,
      "outputs": [
        {
          "output_type": "execute_result",
          "data": {
            "text/plain": [
              "6"
            ]
          },
          "metadata": {},
          "execution_count": 141
        }
      ]
    },
    {
      "cell_type": "code",
      "source": [
        "odd_even(4)"
      ],
      "metadata": {
        "colab": {
          "base_uri": "https://localhost:8080/"
        },
        "id": "q8Mp5btKFaU4",
        "outputId": "1e5b69b7-9e0f-4123-9b2c-f2c5e83a1501"
      },
      "execution_count": null,
      "outputs": [
        {
          "output_type": "execute_result",
          "data": {
            "text/plain": [
              "2.0"
            ]
          },
          "metadata": {},
          "execution_count": 142
        }
      ]
    },
    {
      "cell_type": "code",
      "source": [
        "def add():\n",
        "  a = 1\n",
        "  b= 2\n",
        "  return a+b,a-b"
      ],
      "metadata": {
        "id": "56lud9qeFmZX"
      },
      "execution_count": null,
      "outputs": []
    },
    {
      "cell_type": "code",
      "source": [
        "a,b= add()\n",
        "print(a,b)"
      ],
      "metadata": {
        "colab": {
          "base_uri": "https://localhost:8080/"
        },
        "id": "FtCyQ0-vGH4h",
        "outputId": "92caedcb-236f-4490-93cb-396865ebbb45"
      },
      "execution_count": null,
      "outputs": [
        {
          "output_type": "stream",
          "name": "stdout",
          "text": [
            "3 -1\n"
          ]
        }
      ]
    },
    {
      "cell_type": "markdown",
      "source": [
        "- 기본 값이 있는 경우"
      ],
      "metadata": {
        "id": "ZSDlqts6Goy4"
      }
    },
    {
      "cell_type": "code",
      "source": [
        "def add(a,b,c=100):\n",
        "  result = a+b+c\n",
        "  return result\n"
      ],
      "metadata": {
        "id": "uJVjei4pGsIV"
      },
      "execution_count": null,
      "outputs": []
    },
    {
      "cell_type": "code",
      "source": [
        "add(1,2)#c 값을 입력안하면 default 값으로 100이 들어감"
      ],
      "metadata": {
        "colab": {
          "base_uri": "https://localhost:8080/"
        },
        "id": "cOZOerNJG1nj",
        "outputId": "972351e5-a96f-48a5-a876-9fa93e524cf8"
      },
      "execution_count": null,
      "outputs": [
        {
          "output_type": "execute_result",
          "data": {
            "text/plain": [
              "103"
            ]
          },
          "metadata": {},
          "execution_count": 154
        }
      ]
    },
    {
      "cell_type": "code",
      "source": [
        "add(1,2,3)"
      ],
      "metadata": {
        "colab": {
          "base_uri": "https://localhost:8080/"
        },
        "id": "5aNAe3NyHFcc",
        "outputId": "dfe6c372-ce56-4cc4-9fe2-35064ca9b977"
      },
      "execution_count": null,
      "outputs": [
        {
          "output_type": "execute_result",
          "data": {
            "text/plain": [
              "6"
            ]
          },
          "metadata": {},
          "execution_count": 155
        }
      ]
    },
    {
      "cell_type": "code",
      "source": [
        "add(2,1,3)"
      ],
      "metadata": {
        "colab": {
          "base_uri": "https://localhost:8080/"
        },
        "id": "EDbJhO6PHfAg",
        "outputId": "0421e6a1-b215-4ea5-e208-a5d48f5f0928"
      },
      "execution_count": null,
      "outputs": [
        {
          "output_type": "execute_result",
          "data": {
            "text/plain": [
              "6"
            ]
          },
          "metadata": {},
          "execution_count": 156
        }
      ]
    },
    {
      "cell_type": "code",
      "source": [
        "add(1,2,3)"
      ],
      "metadata": {
        "colab": {
          "base_uri": "https://localhost:8080/"
        },
        "id": "8HQ7-AJNHhNy",
        "outputId": "9aa97649-f21d-454f-fa65-99bbc5a642db"
      },
      "execution_count": null,
      "outputs": [
        {
          "output_type": "execute_result",
          "data": {
            "text/plain": [
              "6"
            ]
          },
          "metadata": {},
          "execution_count": 157
        }
      ]
    },
    {
      "cell_type": "code",
      "source": [
        "add(c=3,b=1,a=2)"
      ],
      "metadata": {
        "colab": {
          "base_uri": "https://localhost:8080/"
        },
        "id": "_brm3Y8mHjFO",
        "outputId": "cfd0077a-c76b-4a63-ffb7-d0a844105665"
      },
      "execution_count": null,
      "outputs": [
        {
          "output_type": "execute_result",
          "data": {
            "text/plain": [
              "6"
            ]
          },
          "metadata": {},
          "execution_count": 158
        }
      ]
    },
    {
      "cell_type": "code",
      "source": [
        "def add(a,b=10,c):\n",
        "  result = a+b+c\n",
        "  return result"
      ],
      "metadata": {
        "colab": {
          "base_uri": "https://localhost:8080/",
          "height": 137
        },
        "id": "65SeVjgHIEtr",
        "outputId": "231bc851-2c9b-48a9-dcb4-ee6c3cb34eb7"
      },
      "execution_count": null,
      "outputs": [
        {
          "output_type": "error",
          "ename": "SyntaxError",
          "evalue": "ignored",
          "traceback": [
            "\u001b[0;36m  File \u001b[0;32m\"<ipython-input-159-b9bf1c906add>\"\u001b[0;36m, line \u001b[0;32m1\u001b[0m\n\u001b[0;31m    def add(a,b=10,c):\u001b[0m\n\u001b[0m           ^\u001b[0m\n\u001b[0;31mSyntaxError\u001b[0m\u001b[0;31m:\u001b[0m non-default argument follows default argument\n"
          ]
        }
      ]
    },
    {
      "cell_type": "code",
      "source": [
        "def add(*args):\n",
        "  sum = 0\n",
        "  for i in args:\n",
        "    sum +=i   \n",
        "  return sum"
      ],
      "metadata": {
        "id": "dd8qSY-eIjaA"
      },
      "execution_count": null,
      "outputs": []
    },
    {
      "cell_type": "code",
      "source": [
        "add(1,2,3,4)"
      ],
      "metadata": {
        "colab": {
          "base_uri": "https://localhost:8080/"
        },
        "id": "hnroTfkeIsWW",
        "outputId": "5e46dee3-ee4b-4578-b3c9-a2f8561fd1d8"
      },
      "execution_count": null,
      "outputs": [
        {
          "output_type": "execute_result",
          "data": {
            "text/plain": [
              "10"
            ]
          },
          "metadata": {},
          "execution_count": 165
        }
      ]
    },
    {
      "cell_type": "code",
      "source": [
        "#입력받은 수까지의 합\n",
        "def sum(number):\n",
        "  sum = 0\n",
        "  for i in range(1,number+1):\n",
        "    sum += i\n",
        "  return sum\n"
      ],
      "metadata": {
        "id": "C-nUHiHaJiCa"
      },
      "execution_count": null,
      "outputs": []
    },
    {
      "cell_type": "code",
      "source": [
        "sum(7)"
      ],
      "metadata": {
        "colab": {
          "base_uri": "https://localhost:8080/"
        },
        "id": "BCsa3DFcJ7PI",
        "outputId": "e5687548-012f-4353-9f51-891e6336f54d"
      },
      "execution_count": null,
      "outputs": [
        {
          "output_type": "execute_result",
          "data": {
            "text/plain": [
              "28"
            ]
          },
          "metadata": {},
          "execution_count": 169
        }
      ]
    },
    {
      "cell_type": "code",
      "source": [
        "def sum():\n",
        "  num1 = int(input('숫자를 입력하세요 : '))\n",
        "  num2 = int(input('숫자를 입력하세요 : '))\n",
        "  sum = 0\n",
        "  if num1 < num2:\n",
        "    for i in range(num1,num2+1):\n",
        "        sum += i\n",
        "  elif num2<num1:\n",
        "    for i in range(num2,num1+1):\n",
        "      sum += i\n",
        "  else:\n",
        "    return num1\n",
        "  return sum\n"
      ],
      "metadata": {
        "id": "yGZw5w83KGpH"
      },
      "execution_count": null,
      "outputs": []
    },
    {
      "cell_type": "code",
      "source": [
        "sum()"
      ],
      "metadata": {
        "colab": {
          "base_uri": "https://localhost:8080/"
        },
        "id": "psLmnTWpLRFw",
        "outputId": "d150a608-6f20-4d77-dd48-f39415b1cd72"
      },
      "execution_count": null,
      "outputs": [
        {
          "name": "stdout",
          "output_type": "stream",
          "text": [
            "숫자를 입력하세요 : 10\n",
            "숫자를 입력하세요 : 3\n"
          ]
        },
        {
          "output_type": "execute_result",
          "data": {
            "text/plain": [
              "52"
            ]
          },
          "metadata": {},
          "execution_count": 183
        }
      ]
    },
    {
      "cell_type": "code",
      "source": [
        "def func_r(a):\n",
        "  return a*2\n",
        "def func_p(a):\n",
        "  print(a*2)\n"
      ],
      "metadata": {
        "id": "uDx83WAfQPQI"
      },
      "execution_count": null,
      "outputs": []
    },
    {
      "cell_type": "code",
      "source": [
        "func_r(2)"
      ],
      "metadata": {
        "colab": {
          "base_uri": "https://localhost:8080/"
        },
        "id": "zLtE5AlBRMnH",
        "outputId": "35b30857-4709-4f2b-f211-39222ef049b1"
      },
      "execution_count": null,
      "outputs": [
        {
          "output_type": "execute_result",
          "data": {
            "text/plain": [
              "4"
            ]
          },
          "metadata": {},
          "execution_count": 186
        }
      ]
    },
    {
      "cell_type": "code",
      "source": [
        "b=func_r(2)\n",
        "b/2"
      ],
      "metadata": {
        "colab": {
          "base_uri": "https://localhost:8080/"
        },
        "id": "peWUsgZXROQR",
        "outputId": "de243652-6140-4549-cfcb-6ce4d6d14b89"
      },
      "execution_count": null,
      "outputs": [
        {
          "output_type": "execute_result",
          "data": {
            "text/plain": [
              "2.0"
            ]
          },
          "metadata": {},
          "execution_count": 189
        }
      ]
    },
    {
      "cell_type": "code",
      "source": [
        "c = func_p(2)\n",
        "c/2"
      ],
      "metadata": {
        "colab": {
          "base_uri": "https://localhost:8080/",
          "height": 211
        },
        "id": "u9Fd9fEARemv",
        "outputId": "b5820eab-58f2-4b2a-ea90-404c9c1cdcb1"
      },
      "execution_count": null,
      "outputs": [
        {
          "output_type": "stream",
          "name": "stdout",
          "text": [
            "4\n"
          ]
        },
        {
          "output_type": "error",
          "ename": "TypeError",
          "evalue": "ignored",
          "traceback": [
            "\u001b[0;31m---------------------------------------------------------------------------\u001b[0m",
            "\u001b[0;31mTypeError\u001b[0m                                 Traceback (most recent call last)",
            "\u001b[0;32m<ipython-input-190-85eef807a817>\u001b[0m in \u001b[0;36m<module>\u001b[0;34m\u001b[0m\n\u001b[1;32m      1\u001b[0m \u001b[0mc\u001b[0m \u001b[0;34m=\u001b[0m \u001b[0mfunc_p\u001b[0m\u001b[0;34m(\u001b[0m\u001b[0;36m2\u001b[0m\u001b[0;34m)\u001b[0m\u001b[0;34m\u001b[0m\u001b[0;34m\u001b[0m\u001b[0m\n\u001b[0;32m----> 2\u001b[0;31m \u001b[0mc\u001b[0m\u001b[0;34m/\u001b[0m\u001b[0;36m2\u001b[0m\u001b[0;34m\u001b[0m\u001b[0;34m\u001b[0m\u001b[0m\n\u001b[0m",
            "\u001b[0;31mTypeError\u001b[0m: unsupported operand type(s) for /: 'NoneType' and 'int'"
          ]
        }
      ]
    },
    {
      "cell_type": "code",
      "source": [
        "def kw_test(**kwargs):\n",
        "  return kwargs"
      ],
      "metadata": {
        "id": "ZzVkCneJRj1A"
      },
      "execution_count": null,
      "outputs": []
    },
    {
      "cell_type": "code",
      "source": [
        "kw_test(a=1, b= 2)"
      ],
      "metadata": {
        "colab": {
          "base_uri": "https://localhost:8080/"
        },
        "id": "gTQG4C5wTOUB",
        "outputId": "6683920c-84f7-48b7-8d84-a9292250337d"
      },
      "execution_count": null,
      "outputs": [
        {
          "output_type": "execute_result",
          "data": {
            "text/plain": [
              "{'a': 1, 'b': 2}"
            ]
          },
          "metadata": {},
          "execution_count": 196
        }
      ]
    },
    {
      "cell_type": "code",
      "source": [
        "def kw_test2(*kwargs):\n",
        "  print(kwargs)"
      ],
      "metadata": {
        "id": "0Us_mNpFTWFH"
      },
      "execution_count": null,
      "outputs": []
    },
    {
      "cell_type": "code",
      "source": [
        "kw_test2(1,2,3,4)"
      ],
      "metadata": {
        "colab": {
          "base_uri": "https://localhost:8080/"
        },
        "id": "iBRByB_tTYg0",
        "outputId": "590a7417-6636-4e15-f3c5-9232bf48d53a"
      },
      "execution_count": null,
      "outputs": [
        {
          "output_type": "stream",
          "name": "stdout",
          "text": [
            "(1, 2, 3, 4)\n"
          ]
        }
      ]
    },
    {
      "cell_type": "code",
      "source": [
        "def myself(name, age):\n",
        "  string = f'나의 이름은 {name}이고 나이는 {age}살 입니다'\n",
        "  return string"
      ],
      "metadata": {
        "id": "MLHpYvF5TbRo"
      },
      "execution_count": null,
      "outputs": []
    },
    {
      "cell_type": "code",
      "source": [
        "myself('홍길동',20)"
      ],
      "metadata": {
        "colab": {
          "base_uri": "https://localhost:8080/",
          "height": 35
        },
        "id": "_7tKpE7hUlZb",
        "outputId": "27f2133b-5175-4ea1-f16f-3e32d8e9e3f9"
      },
      "execution_count": null,
      "outputs": [
        {
          "output_type": "execute_result",
          "data": {
            "text/plain": [
              "'나의 이름은 홍길동이고 나이는 20살 입니다'"
            ],
            "application/vnd.google.colaboratory.intrinsic+json": {
              "type": "string"
            }
          },
          "metadata": {},
          "execution_count": 200
        }
      ]
    },
    {
      "cell_type": "code",
      "source": [
        "def add(a,b):\n",
        "  c = a+b\n",
        "  return c\n",
        "add(1,2)"
      ],
      "metadata": {
        "colab": {
          "base_uri": "https://localhost:8080/"
        },
        "id": "OwUay350UzYo",
        "outputId": "eb6ac629-c30c-478f-b842-fd1a53cb3a5b"
      },
      "execution_count": null,
      "outputs": [
        {
          "output_type": "execute_result",
          "data": {
            "text/plain": [
              "3"
            ]
          },
          "metadata": {},
          "execution_count": 201
        }
      ]
    },
    {
      "cell_type": "code",
      "source": [
        "def add(a,b):\n",
        "  return a+b\n",
        "add(1,2)"
      ],
      "metadata": {
        "colab": {
          "base_uri": "https://localhost:8080/"
        },
        "id": "wQ6nCZzzYAEn",
        "outputId": "3640188e-da42-44e0-9596-31b699d30255"
      },
      "execution_count": null,
      "outputs": [
        {
          "output_type": "execute_result",
          "data": {
            "text/plain": [
              "3"
            ]
          },
          "metadata": {},
          "execution_count": 203
        }
      ]
    },
    {
      "cell_type": "markdown",
      "source": [
        "###lambda 함수"
      ],
      "metadata": {
        "id": "HD4nlExSY7dS"
      }
    },
    {
      "cell_type": "code",
      "source": [
        "(lambda a,b : a+b)(1,2)"
      ],
      "metadata": {
        "colab": {
          "base_uri": "https://localhost:8080/"
        },
        "id": "IwAD5f0rYP89",
        "outputId": "ef597a60-7030-41e5-8e3f-612b44159a06"
      },
      "execution_count": null,
      "outputs": [
        {
          "output_type": "execute_result",
          "data": {
            "text/plain": [
              "3"
            ]
          },
          "metadata": {},
          "execution_count": 206
        }
      ]
    },
    {
      "cell_type": "code",
      "source": [
        "f = lambda a,b : a+b\n",
        "f(4,10)"
      ],
      "metadata": {
        "colab": {
          "base_uri": "https://localhost:8080/"
        },
        "id": "XREGNLc7YTaF",
        "outputId": "2b01baee-485d-40d5-a41e-09d9d42c96e5"
      },
      "execution_count": null,
      "outputs": [
        {
          "output_type": "execute_result",
          "data": {
            "text/plain": [
              "14"
            ]
          },
          "metadata": {},
          "execution_count": 211
        }
      ]
    },
    {
      "cell_type": "markdown",
      "source": [
        "###재귀함수"
      ],
      "metadata": {
        "id": "rUHkbLaMY-Ri"
      }
    },
    {
      "cell_type": "code",
      "source": [
        "import time as t\n",
        "def hello(count):\n",
        "  print('hello')\n",
        "  t.sleep(1)\n",
        "  if count == 1:\n",
        "    return\n",
        "  count -= 1\n",
        "  hello(count)\n",
        "  "
      ],
      "metadata": {
        "id": "NooEJguAZXuG"
      },
      "execution_count": null,
      "outputs": []
    },
    {
      "cell_type": "code",
      "source": [
        "hello(5)"
      ],
      "metadata": {
        "colab": {
          "base_uri": "https://localhost:8080/"
        },
        "id": "_2o1IbJXZiAB",
        "outputId": "6a34df3b-af48-4d23-a822-c8887ee45ddb"
      },
      "execution_count": null,
      "outputs": [
        {
          "output_type": "stream",
          "name": "stdout",
          "text": [
            "hello\n",
            "hello\n",
            "hello\n",
            "hello\n",
            "hello\n"
          ]
        }
      ]
    },
    {
      "cell_type": "code",
      "source": [
        "def sum_10():\n",
        "  sum = 0\n",
        "  for i in range(1,11):\n",
        "    sum += 1\n",
        "  return sum\n"
      ],
      "metadata": {
        "id": "STbaog_fr6Ix"
      },
      "execution_count": null,
      "outputs": []
    },
    {
      "cell_type": "code",
      "source": [
        "f = lambda a,b : a*b"
      ],
      "metadata": {
        "id": "IVocUYA7sIUJ"
      },
      "execution_count": null,
      "outputs": []
    }
  ]
}