{
  "nbformat": 4,
  "nbformat_minor": 0,
  "metadata": {
    "colab": {
      "provenance": [],
      "toc_visible": true
    },
    "kernelspec": {
      "name": "python3",
      "display_name": "Python 3"
    },
    "language_info": {
      "name": "python"
    }
  },
  "cells": [
    {
      "cell_type": "code",
      "execution_count": null,
      "metadata": {
        "colab": {
          "base_uri": "https://localhost:8080/"
        },
        "id": "kKyKiESFQGbA",
        "outputId": "595f2bca-f306-429c-ad2a-3d21c459a7cd"
      },
      "outputs": [
        {
          "output_type": "stream",
          "name": "stdout",
          "text": [
            "5050\n"
          ]
        }
      ],
      "source": [
        "count = 0\n",
        "sum = 0\n",
        "while(True):\n",
        "  sum += count\n",
        "  count += 1\n",
        "  if count == 101:\n",
        "    break\n",
        "print(sum)"
      ]
    },
    {
      "cell_type": "code",
      "source": [
        "import random as r\n",
        "num = [0,0,0,0,0,0]\n",
        "for i in range(6):\n",
        "  num[i] = r.randint(1,45)\n",
        "num.sort()\n",
        "num\n"
      ],
      "metadata": {
        "colab": {
          "base_uri": "https://localhost:8080/"
        },
        "id": "-REzKbMcShsd",
        "outputId": "87c59c50-1f68-4590-a20b-6c8935b91734"
      },
      "execution_count": null,
      "outputs": [
        {
          "output_type": "execute_result",
          "data": {
            "text/plain": [
              "[2, 7, 31, 33, 37, 40]"
            ]
          },
          "metadata": {},
          "execution_count": 4
        }
      ]
    },
    {
      "cell_type": "code",
      "source": [
        "num = [r.randint(1,45) for i in range(6)]\n",
        "num = sorted(num)\n",
        "num"
      ],
      "metadata": {
        "colab": {
          "base_uri": "https://localhost:8080/"
        },
        "id": "ti7L2427S-Y8",
        "outputId": "9917c5e8-e761-4467-bf12-bdae9c054543"
      },
      "execution_count": null,
      "outputs": [
        {
          "output_type": "execute_result",
          "data": {
            "text/plain": [
              "[10, 11, 17, 30, 42, 43]"
            ]
          },
          "metadata": {},
          "execution_count": 9
        }
      ]
    },
    {
      "cell_type": "code",
      "source": [
        "def diction(**kwargs):\n",
        "  return kwargs"
      ],
      "metadata": {
        "id": "v9fgB_DRToaF"
      },
      "execution_count": null,
      "outputs": []
    },
    {
      "cell_type": "code",
      "source": [],
      "metadata": {
        "id": "W3Qj31ICV28L"
      },
      "execution_count": null,
      "outputs": []
    },
    {
      "cell_type": "code",
      "source": [
        "diction(a=1, b=2)"
      ],
      "metadata": {
        "colab": {
          "base_uri": "https://localhost:8080/"
        },
        "id": "7TAiY5dPUz8V",
        "outputId": "a32e6c56-4012-4db6-9331-25b187d301df"
      },
      "execution_count": null,
      "outputs": [
        {
          "output_type": "execute_result",
          "data": {
            "text/plain": [
              "{'a': 1, 'b': 2}"
            ]
          },
          "metadata": {},
          "execution_count": 14
        }
      ]
    },
    {
      "cell_type": "code",
      "source": [
        "def maxmin(a,b,c):\n",
        "  num = [a,b,c]\n",
        "  num.sort()\n",
        "  diff = num[2]-num[0]\n",
        "  return diff\n"
      ],
      "metadata": {
        "id": "-YZmYzEyXN0V"
      },
      "execution_count": null,
      "outputs": []
    },
    {
      "cell_type": "code",
      "source": [
        "maxmin(1,2,3)"
      ],
      "metadata": {
        "colab": {
          "base_uri": "https://localhost:8080/"
        },
        "id": "ljwneojcXesc",
        "outputId": "eab6696d-0d43-4dc3-b28d-8772155ed0c8"
      },
      "execution_count": null,
      "outputs": [
        {
          "output_type": "execute_result",
          "data": {
            "text/plain": [
              "2"
            ]
          },
          "metadata": {},
          "execution_count": 27
        }
      ]
    },
    {
      "cell_type": "code",
      "source": [
        "def maxmin(a, b, c):\n",
        "    x = max(a,b,c)\n",
        "    y = min(a,b,c)\n",
        "    return(x-y) "
      ],
      "metadata": {
        "id": "2KD--ZdyXv20"
      },
      "execution_count": null,
      "outputs": []
    },
    {
      "cell_type": "code",
      "source": [
        "maxmin(1,2,99)"
      ],
      "metadata": {
        "colab": {
          "base_uri": "https://localhost:8080/"
        },
        "id": "0OPpLgpNXy8c",
        "outputId": "beade390-7521-4aae-e6cd-ab7f91706e52"
      },
      "execution_count": null,
      "outputs": [
        {
          "output_type": "execute_result",
          "data": {
            "text/plain": [
              "98"
            ]
          },
          "metadata": {},
          "execution_count": 29
        }
      ]
    },
    {
      "cell_type": "code",
      "source": [
        "a = [1,2,3,4]\n",
        "b = [i*3 for i in a if i % 2 == 0]\n"
      ],
      "metadata": {
        "id": "CV9FrVSPYmg9"
      },
      "execution_count": null,
      "outputs": []
    },
    {
      "cell_type": "code",
      "source": [
        "def add(a,b):\n",
        "  sum = 0\n",
        "  num = [a,b]\n",
        "  for i in range(min(num)+1,max(num)):\n",
        "    sum+=i\n",
        "  return sum\n"
      ],
      "metadata": {
        "id": "CzQabA4rY-GM"
      },
      "execution_count": null,
      "outputs": []
    },
    {
      "cell_type": "code",
      "source": [
        "add(3,10)"
      ],
      "metadata": {
        "colab": {
          "base_uri": "https://localhost:8080/"
        },
        "id": "Ebg1iMKcZLT9",
        "outputId": "48fa1ebc-4425-4bc2-874b-7020706d6931"
      },
      "execution_count": null,
      "outputs": [
        {
          "output_type": "execute_result",
          "data": {
            "text/plain": [
              "39"
            ]
          },
          "metadata": {},
          "execution_count": 35
        }
      ]
    },
    {
      "cell_type": "code",
      "source": [
        "a = 2\n",
        "def vartest(a):\n",
        "  a = a+1\n",
        "vartest(3)\n",
        "print(a)"
      ],
      "metadata": {
        "colab": {
          "base_uri": "https://localhost:8080/"
        },
        "id": "vK4ax-UvcoVW",
        "outputId": "a6f9bccf-9dba-4998-bfd7-4c7ff75c0d84"
      },
      "execution_count": null,
      "outputs": [
        {
          "output_type": "stream",
          "name": "stdout",
          "text": [
            "2\n"
          ]
        }
      ]
    },
    {
      "cell_type": "code",
      "source": [
        "a = 2\n",
        "def vartest():\n",
        "  global a\n",
        "  a = a+1\n",
        "vartest()\n",
        "print(a)"
      ],
      "metadata": {
        "colab": {
          "base_uri": "https://localhost:8080/"
        },
        "id": "MylN33wzenON",
        "outputId": "66fa7db8-9389-4dd2-9ab4-ddd3817afd9b"
      },
      "execution_count": null,
      "outputs": [
        {
          "output_type": "stream",
          "name": "stdout",
          "text": [
            "3\n"
          ]
        }
      ]
    },
    {
      "cell_type": "code",
      "source": [
        "print('life','is','too','short')"
      ],
      "metadata": {
        "colab": {
          "base_uri": "https://localhost:8080/"
        },
        "id": "QmWQa0qwetPU",
        "outputId": "1fa4e3db-a77e-45f2-a614-a91998aa3438"
      },
      "execution_count": null,
      "outputs": [
        {
          "output_type": "stream",
          "name": "stdout",
          "text": [
            "life is too short\n"
          ]
        }
      ]
    },
    {
      "cell_type": "code",
      "source": [
        "for i in range(100):\n",
        "  print(i, end = '   ')"
      ],
      "metadata": {
        "colab": {
          "base_uri": "https://localhost:8080/"
        },
        "id": "XiQ772KhfD2N",
        "outputId": "e4bfb52d-5809-46d3-fc83-1695249e9b51"
      },
      "execution_count": null,
      "outputs": [
        {
          "output_type": "stream",
          "name": "stdout",
          "text": [
            "0   1   2   3   4   5   6   7   8   9   10   11   12   13   14   15   16   17   18   19   20   21   22   23   24   25   26   27   28   29   30   31   32   33   34   35   36   37   38   39   40   41   42   43   44   45   46   47   48   49   50   51   52   53   54   55   56   57   58   59   60   61   62   63   64   65   66   67   68   69   70   71   72   73   74   75   76   77   78   79   80   81   82   83   84   85   86   87   88   89   90   91   92   93   94   95   96   97   98   99   "
          ]
        }
      ]
    },
    {
      "cell_type": "markdown",
      "source": [
        "# 파일 입출력"
      ],
      "metadata": {
        "id": "AQ2YoSvEfI0v"
      }
    },
    {
      "cell_type": "markdown",
      "source": [
        "##파일 생성하기"
      ],
      "metadata": {
        "id": "qGX0NRpffLuZ"
      }
    },
    {
      "cell_type": "code",
      "source": [
        "f = open('new.txt','w')\n",
        "f.write('Hello')\n",
        "f.close()"
      ],
      "metadata": {
        "id": "B5a97HGZfOYE"
      },
      "execution_count": null,
      "outputs": []
    },
    {
      "cell_type": "markdown",
      "source": [
        "r : read\n",
        "w : write\n",
        "a : append\n",
        "\n",
        "\n",
        "b : binary mode : 음악 사진 동영상\n",
        "wb :"
      ],
      "metadata": {
        "id": "4kR19UuQfZFM"
      }
    },
    {
      "cell_type": "code",
      "source": [
        "f = open('new.txt','a')\n",
        "f.write('\\n Good Morning')\n",
        "f.close()"
      ],
      "metadata": {
        "id": "j5LKnCu2ikp-"
      },
      "execution_count": null,
      "outputs": []
    },
    {
      "cell_type": "code",
      "source": [
        "f = open('new.txt','r')\n",
        "a = f.readlines()\n",
        "f.close()"
      ],
      "metadata": {
        "id": "lCd-5rWhhEN1"
      },
      "execution_count": null,
      "outputs": []
    },
    {
      "cell_type": "code",
      "source": [
        "a"
      ],
      "metadata": {
        "colab": {
          "base_uri": "https://localhost:8080/"
        },
        "id": "yEnkROH8iVfN",
        "outputId": "1857ab88-a1e4-4ea0-8637-06efbef4875f"
      },
      "execution_count": null,
      "outputs": [
        {
          "output_type": "execute_result",
          "data": {
            "text/plain": [
              "['Hello\\n', ' Good Morning']"
            ]
          },
          "metadata": {},
          "execution_count": 80
        }
      ]
    },
    {
      "cell_type": "code",
      "source": [
        "f= open('new.txt','w')\n",
        "for i in range(10):\n",
        "  f.write(str(i)+'\\n')\n",
        "f.close()"
      ],
      "metadata": {
        "id": "hq50sKHyjUOm"
      },
      "execution_count": null,
      "outputs": []
    },
    {
      "cell_type": "code",
      "source": [
        "f = open('new.txt','r')\n",
        "a = f.readlines()\n",
        "f.close()"
      ],
      "metadata": {
        "id": "2kxP0MMYjmZV"
      },
      "execution_count": null,
      "outputs": []
    },
    {
      "cell_type": "code",
      "source": [
        "a"
      ],
      "metadata": {
        "colab": {
          "base_uri": "https://localhost:8080/"
        },
        "id": "_rtByD2ijnq9",
        "outputId": "0b8bd590-56b5-4036-aec9-78c0e1134816"
      },
      "execution_count": null,
      "outputs": [
        {
          "output_type": "execute_result",
          "data": {
            "text/plain": [
              "['0\\n', '1\\n', '2\\n', '3\\n', '4\\n', '5\\n', '6\\n', '7\\n', '8\\n', '9\\n']"
            ]
          },
          "metadata": {},
          "execution_count": 87
        }
      ]
    },
    {
      "cell_type": "code",
      "source": [
        "f= open('new.txt','w')\n",
        "for i in range(10):\n",
        "  f.write('Hello\\n')\n",
        "f.close()"
      ],
      "metadata": {
        "id": "mwqN3d1uj3Pl"
      },
      "execution_count": null,
      "outputs": []
    },
    {
      "cell_type": "code",
      "source": [
        "f = open('new.txt','r')\n",
        "a = f.readlines()\n",
        "f.close()"
      ],
      "metadata": {
        "id": "HW98qfU5j6ik"
      },
      "execution_count": null,
      "outputs": []
    },
    {
      "cell_type": "code",
      "source": [
        "a"
      ],
      "metadata": {
        "colab": {
          "base_uri": "https://localhost:8080/"
        },
        "id": "VV-M977Sj7lM",
        "outputId": "b51a813c-d147-4681-84e1-b82b3f672566"
      },
      "execution_count": null,
      "outputs": [
        {
          "output_type": "execute_result",
          "data": {
            "text/plain": [
              "['Hello\\n',\n",
              " 'Hello\\n',\n",
              " 'Hello\\n',\n",
              " 'Hello\\n',\n",
              " 'Hello\\n',\n",
              " 'Hello\\n',\n",
              " 'Hello\\n',\n",
              " 'Hello\\n',\n",
              " 'Hello\\n',\n",
              " 'Hello\\n']"
            ]
          },
          "metadata": {},
          "execution_count": 93
        }
      ]
    },
    {
      "cell_type": "code",
      "source": [
        "f = open('new.txt','a')\n",
        "for i in range(10):\n",
        "  f.write('Good Morning\\n')\n",
        "f.close()"
      ],
      "metadata": {
        "id": "EeqjAP8UkCzs"
      },
      "execution_count": null,
      "outputs": []
    },
    {
      "cell_type": "code",
      "source": [
        "f = open('new.txt','r')\n",
        "a = f.readlines()\n",
        "f.close()\n",
        "a"
      ],
      "metadata": {
        "colab": {
          "base_uri": "https://localhost:8080/"
        },
        "id": "9Zd78ptbkNUN",
        "outputId": "ca607b8c-1c08-461a-dabe-4d68fd697282"
      },
      "execution_count": null,
      "outputs": [
        {
          "output_type": "execute_result",
          "data": {
            "text/plain": [
              "['Hello\\n',\n",
              " 'Hello\\n',\n",
              " 'Hello\\n',\n",
              " 'Hello\\n',\n",
              " 'Hello\\n',\n",
              " 'Hello\\n',\n",
              " 'Hello\\n',\n",
              " 'Hello\\n',\n",
              " 'Hello\\n',\n",
              " 'Hello\\n',\n",
              " 'Good Morning\\n',\n",
              " 'Good Morning\\n',\n",
              " 'Good Morning\\n',\n",
              " 'Good Morning\\n',\n",
              " 'Good Morning\\n',\n",
              " 'Good Morning\\n',\n",
              " 'Good Morning\\n',\n",
              " 'Good Morning\\n',\n",
              " 'Good Morning\\n',\n",
              " 'Good Morning\\n']"
            ]
          },
          "metadata": {},
          "execution_count": 95
        }
      ]
    },
    {
      "cell_type": "markdown",
      "source": [
        "- with open() as f"
      ],
      "metadata": {
        "id": "zt2wUwPwkWdG"
      }
    },
    {
      "cell_type": "code",
      "source": [
        "with open('new.txt','w') as f :\n",
        "  for _ in range(10):\n",
        "    f.write('Hello \\n') "
      ],
      "metadata": {
        "id": "EdZwbFwFkw9S"
      },
      "execution_count": null,
      "outputs": []
    },
    {
      "cell_type": "markdown",
      "source": [
        "##파일 읽기\n",
        " - readline\n",
        " - readlines"
      ],
      "metadata": {
        "id": "VjlzE3slllV7"
      }
    },
    {
      "cell_type": "code",
      "source": [
        "with open('new.txt','w') as f:\n",
        "  f.write('Hello')\n",
        "  "
      ],
      "metadata": {
        "id": "Msko8JVpl9DA"
      },
      "execution_count": null,
      "outputs": []
    },
    {
      "cell_type": "code",
      "source": [
        "f = open('new.txt','r')\n",
        "a = f.readline()\n",
        "f.close()"
      ],
      "metadata": {
        "id": "6_phjA5lmIzs"
      },
      "execution_count": null,
      "outputs": []
    },
    {
      "cell_type": "code",
      "source": [
        "a"
      ],
      "metadata": {
        "colab": {
          "base_uri": "https://localhost:8080/",
          "height": 35
        },
        "id": "zRf8ZzvRmV1J",
        "outputId": "b3d0b2af-b989-4b28-d204-8708a688cc1e"
      },
      "execution_count": null,
      "outputs": [
        {
          "output_type": "execute_result",
          "data": {
            "text/plain": [
              "'Hello'"
            ],
            "application/vnd.google.colaboratory.intrinsic+json": {
              "type": "string"
            }
          },
          "metadata": {},
          "execution_count": 104
        }
      ]
    },
    {
      "cell_type": "code",
      "source": [
        "with open('new.txt','w') as f:\n",
        "  for _ in range(10):\n",
        "    f.write('Hello\\n')\n",
        "f = open('new.txt','r')\n",
        "a = f.readlines()\n",
        "f.close()\n",
        "a  "
      ],
      "metadata": {
        "colab": {
          "base_uri": "https://localhost:8080/"
        },
        "id": "eeKCfEKUnkDe",
        "outputId": "fc1eab36-452e-402c-ee77-075e2a8446d5"
      },
      "execution_count": null,
      "outputs": [
        {
          "output_type": "execute_result",
          "data": {
            "text/plain": [
              "['Hello\\n',\n",
              " 'Hello\\n',\n",
              " 'Hello\\n',\n",
              " 'Hello\\n',\n",
              " 'Hello\\n',\n",
              " 'Hello\\n',\n",
              " 'Hello\\n',\n",
              " 'Hello\\n',\n",
              " 'Hello\\n',\n",
              " 'Hello\\n']"
            ]
          },
          "metadata": {},
          "execution_count": 105
        }
      ]
    },
    {
      "cell_type": "code",
      "source": [
        "f = open('new.txt','r')\n",
        "a = f.readline()\n",
        "f.close()\n",
        "a  "
      ],
      "metadata": {
        "colab": {
          "base_uri": "https://localhost:8080/",
          "height": 35
        },
        "id": "8qS5B2hgnz5l",
        "outputId": "23b8d3c3-c37c-48a2-e099-c79bbde99647"
      },
      "execution_count": null,
      "outputs": [
        {
          "output_type": "execute_result",
          "data": {
            "text/plain": [
              "'Hello\\n'"
            ],
            "application/vnd.google.colaboratory.intrinsic+json": {
              "type": "string"
            }
          },
          "metadata": {},
          "execution_count": 106
        }
      ]
    },
    {
      "cell_type": "code",
      "source": [
        "f = open('new.txt','r')\n",
        "data = f.readlines()\n",
        "for i in data :\n",
        "  print(i, end = ' ')\n",
        "f.close()"
      ],
      "metadata": {
        "colab": {
          "base_uri": "https://localhost:8080/"
        },
        "id": "3eGrEB-8oYbH",
        "outputId": "900e8813-d09a-48ec-bd49-3c3cf1fcf784"
      },
      "execution_count": null,
      "outputs": [
        {
          "output_type": "stream",
          "name": "stdout",
          "text": [
            "Hello\n",
            " Hello\n",
            " Hello\n",
            " Hello\n",
            " Hello\n",
            " Hello\n",
            " Hello\n",
            " Hello\n",
            " Hello\n",
            " Hello\n",
            " "
          ]
        }
      ]
    },
    {
      "cell_type": "code",
      "source": [
        "f = open('new.txt','r')\n",
        "data = f.readlines()\n",
        "print(data, end = ' ')\n",
        "f.close()"
      ],
      "metadata": {
        "colab": {
          "base_uri": "https://localhost:8080/"
        },
        "id": "acyLpdQUo9PN",
        "outputId": "f7b85e8b-d7c2-4dbb-dd1d-989e5c6a3635"
      },
      "execution_count": null,
      "outputs": [
        {
          "output_type": "stream",
          "name": "stdout",
          "text": [
            "['Hello\\n', 'Hello\\n', 'Hello\\n', 'Hello\\n', 'Hello\\n', 'Hello\\n', 'Hello\\n', 'Hello\\n', 'Hello\\n', 'Hello\\n'] "
          ]
        }
      ]
    },
    {
      "cell_type": "code",
      "source": [
        "with open('test.txt','w', encoding = 'utf-8') as f:\n",
        "  for i in range(10):\n",
        "     f.write(f'{i+1}번째입니다.\\n')"
      ],
      "metadata": {
        "id": "_cK5vmi8sM7h"
      },
      "execution_count": null,
      "outputs": []
    },
    {
      "cell_type": "code",
      "source": [
        "f = open('test.txt','r')\n",
        "a = f.readlines()\n",
        "f.close()\n",
        "a"
      ],
      "metadata": {
        "colab": {
          "base_uri": "https://localhost:8080/"
        },
        "id": "pJq9qPrGuLKJ",
        "outputId": "e8f51824-09c7-4696-b1c2-aec7af827de9"
      },
      "execution_count": null,
      "outputs": [
        {
          "output_type": "execute_result",
          "data": {
            "text/plain": [
              "['1번째입니다.\\n',\n",
              " '2번째입니다.\\n',\n",
              " '3번째입니다.\\n',\n",
              " '4번째입니다.\\n',\n",
              " '5번째입니다.\\n',\n",
              " '6번째입니다.\\n',\n",
              " '7번째입니다.\\n',\n",
              " '8번째입니다.\\n',\n",
              " '9번째입니다.\\n',\n",
              " '10번째입니다.\\n']"
            ]
          },
          "metadata": {},
          "execution_count": 120
        }
      ]
    },
    {
      "cell_type": "code",
      "source": [
        "f = open('test.txt','r')\n",
        "data = f.readlines()\n",
        "\n",
        "for i in data:\n",
        "  i = i.strip()\n",
        "  print(i)"
      ],
      "metadata": {
        "colab": {
          "base_uri": "https://localhost:8080/"
        },
        "id": "jbLdTRqBv3dC",
        "outputId": "bf1d07e1-b31a-4447-e1ff-1f228b66d2bf"
      },
      "execution_count": null,
      "outputs": [
        {
          "output_type": "stream",
          "name": "stdout",
          "text": [
            "1번째입니다.\n",
            "2번째입니다.\n",
            "3번째입니다.\n",
            "4번째입니다.\n",
            "5번째입니다.\n",
            "6번째입니다.\n",
            "7번째입니다.\n",
            "8번째입니다.\n",
            "9번째입니다.\n",
            "10번째입니다.\n"
          ]
        }
      ]
    },
    {
      "cell_type": "markdown",
      "source": [
        "함수 show_file(\"파일이름\")"
      ],
      "metadata": {
        "id": "JRiZ065FwFLr"
      }
    },
    {
      "cell_type": "code",
      "source": [
        "def show_file(name_txt):\n",
        "  f = open(name_txt,'r')\n",
        "  data = f.readlines()\n",
        "  for i in data:\n",
        "    i = i.strip()\n",
        "    print(i)\n",
        "  f.close()"
      ],
      "metadata": {
        "id": "qjD4l7vEwKBQ"
      },
      "execution_count": null,
      "outputs": []
    },
    {
      "cell_type": "code",
      "source": [
        "show_file('test.txt')"
      ],
      "metadata": {
        "colab": {
          "base_uri": "https://localhost:8080/"
        },
        "id": "46MDwjSBwhRp",
        "outputId": "821a589e-a7f6-4cd8-f884-d8fdc359df5e"
      },
      "execution_count": null,
      "outputs": [
        {
          "output_type": "stream",
          "name": "stdout",
          "text": [
            "1번째입니다.\n",
            "2번째입니다.\n",
            "3번째입니다.\n",
            "4번째입니다.\n",
            "5번째입니다.\n",
            "6번째입니다.\n",
            "7번째입니다.\n",
            "8번째입니다.\n",
            "9번째입니다.\n",
            "10번째입니다.\n"
          ]
        }
      ]
    },
    {
      "cell_type": "code",
      "source": [
        "f = open('people.txt','w')\n",
        "while(True):\n",
        "  name = input('name : ')\n",
        "  age = input('age : ')\n",
        "  if name == \"\":\n",
        "    break\n",
        "  else:\n",
        "    f.write(name + \" : \" + age + '\\n')\n",
        "f.close()"
      ],
      "metadata": {
        "colab": {
          "base_uri": "https://localhost:8080/"
        },
        "id": "D7rTgTsjxmEZ",
        "outputId": "62cc1a86-f733-4950-8cdd-5da94a364596"
      },
      "execution_count": null,
      "outputs": [
        {
          "name": "stdout",
          "output_type": "stream",
          "text": [
            "name : 홍길동\n",
            "age : 24\n",
            "name : 전우치\n",
            "age : 23\n",
            "name : \n",
            "age : \n"
          ]
        }
      ]
    },
    {
      "cell_type": "code",
      "source": [
        "show_file(\"people.txt\")"
      ],
      "metadata": {
        "colab": {
          "base_uri": "https://localhost:8080/"
        },
        "id": "ubLM4SuH0KzK",
        "outputId": "9c19fa13-db0a-43ec-cfd5-3fe2ccd91611"
      },
      "execution_count": null,
      "outputs": [
        {
          "output_type": "stream",
          "name": "stdout",
          "text": [
            "홍길동 : 24\n",
            "전우치 : 23\n"
          ]
        }
      ]
    },
    {
      "cell_type": "code",
      "source": [
        "import sys\n",
        "\n",
        "args = sys.argv[1:]\n",
        "for i in args:\n",
        "  print(i.upper(), end = ' ')"
      ],
      "metadata": {
        "colab": {
          "base_uri": "https://localhost:8080/"
        },
        "id": "ukjqwOTk2ReK",
        "outputId": "eb6c7acf-080b-47fa-c9af-5f9388961c34"
      },
      "execution_count": null,
      "outputs": [
        {
          "output_type": "stream",
          "name": "stdout",
          "text": [
            "-F /ROOT/.LOCAL/SHARE/JUPYTER/RUNTIME/KERNEL-C306EDC9-4F4C-41B0-936F-A00C08267D61.JSON "
          ]
        }
      ]
    },
    {
      "cell_type": "markdown",
      "source": [
        "#Class"
      ],
      "metadata": {
        "id": "RM4_maWbWZ2j"
      }
    },
    {
      "cell_type": "code",
      "source": [
        "class mymath :\n",
        "  def __init__(self):\n",
        "    self.num1 = 0\n",
        "    self.num2 = 0\n",
        "  def myadd(self,a,b):\n",
        "    self.num1 = a\n",
        "    self.num2 = b\n",
        "    return self.num1 + self.num2 \n",
        "  def mysubtract(self,a,b):\n",
        "    self.num1 = a\n",
        "    self.num2 = b\n",
        "    return self.num1 - self.num2\n",
        "\n",
        "a = mymath()\n",
        "a.myadd(3,4)"
      ],
      "metadata": {
        "colab": {
          "base_uri": "https://localhost:8080/"
        },
        "id": "kzZ-SpGmWZjL",
        "outputId": "97ac458d-caae-4e8a-844e-88e968c708f1"
      },
      "execution_count": null,
      "outputs": [
        {
          "output_type": "execute_result",
          "data": {
            "text/plain": [
              "7"
            ]
          },
          "metadata": {},
          "execution_count": 26
        }
      ]
    },
    {
      "cell_type": "code",
      "source": [
        "a.mysubtract(3,4)"
      ],
      "metadata": {
        "colab": {
          "base_uri": "https://localhost:8080/"
        },
        "id": "0LF02fGIZLRs",
        "outputId": "bee90e2b-ba88-49db-865f-948dc7414e7c"
      },
      "execution_count": null,
      "outputs": [
        {
          "output_type": "execute_result",
          "data": {
            "text/plain": [
              "-1"
            ]
          },
          "metadata": {},
          "execution_count": 25
        }
      ]
    },
    {
      "cell_type": "code",
      "source": [
        "result = 0\n",
        "def add(num):\n",
        "  global result\n",
        "  result += num\n",
        "  return result\n",
        "result1 = 0\n",
        "def add1(num):\n",
        "  global result1\n",
        "  result1 += num\n",
        "  return result1\n",
        "result2 = 0\n",
        "def add2(num):\n",
        "  global result2\n",
        "  result2 += num\n",
        "  return result2"
      ],
      "metadata": {
        "id": "5EaJDRe2XL67"
      },
      "execution_count": null,
      "outputs": []
    },
    {
      "cell_type": "code",
      "source": [
        "add(4)\n",
        "add(3)"
      ],
      "metadata": {
        "colab": {
          "base_uri": "https://localhost:8080/"
        },
        "id": "Iur48DK1XZcZ",
        "outputId": "904baee9-6c86-4af9-852a-b11e6f5c9d58"
      },
      "execution_count": null,
      "outputs": [
        {
          "output_type": "execute_result",
          "data": {
            "text/plain": [
              "7"
            ]
          },
          "metadata": {},
          "execution_count": 19
        }
      ]
    },
    {
      "cell_type": "code",
      "source": [
        "add1(2)\n",
        "add1(7)"
      ],
      "metadata": {
        "colab": {
          "base_uri": "https://localhost:8080/"
        },
        "id": "6-FkwA19XrfT",
        "outputId": "58fa8cfd-3c0b-4be9-8555-ac0f410e78b2"
      },
      "execution_count": null,
      "outputs": [
        {
          "output_type": "execute_result",
          "data": {
            "text/plain": [
              "9"
            ]
          },
          "metadata": {},
          "execution_count": 20
        }
      ]
    },
    {
      "cell_type": "code",
      "source": [
        "add2(1)\n",
        "add2(4)"
      ],
      "metadata": {
        "colab": {
          "base_uri": "https://localhost:8080/"
        },
        "id": "gfaAEXdtX_Tq",
        "outputId": "85a0277e-8998-455c-cbeb-d3b4f625646a"
      },
      "execution_count": null,
      "outputs": [
        {
          "output_type": "execute_result",
          "data": {
            "text/plain": [
              "5"
            ]
          },
          "metadata": {},
          "execution_count": 22
        }
      ]
    },
    {
      "cell_type": "markdown",
      "source": [
        "##class 만들기"
      ],
      "metadata": {
        "id": "fOLPxoUsZR77"
      }
    },
    {
      "cell_type": "code",
      "source": [
        "class Calc :\n",
        "  def __init__(self):\n",
        "    self.result = 0\n",
        "  def add(self,num):\n",
        "    self.result += num\n",
        "    return self.result\n",
        "  def sub(self,num):\n",
        "    self.result -= num\n",
        "    return self.result\n",
        "  def mul(self,num):\n",
        "    self.result *= num\n",
        "  def div(self, num):\n",
        "    self.result /= num\n"
      ],
      "metadata": {
        "id": "DmjYN0TCZUCD"
      },
      "execution_count": null,
      "outputs": []
    },
    {
      "cell_type": "code",
      "source": [
        "a = Calc()"
      ],
      "metadata": {
        "id": "tfsRD6LfaifL"
      },
      "execution_count": null,
      "outputs": []
    },
    {
      "cell_type": "code",
      "source": [
        "a.add(4)"
      ],
      "metadata": {
        "colab": {
          "base_uri": "https://localhost:8080/"
        },
        "id": "21zRrHXnalAQ",
        "outputId": "624f81a9-c999-4761-eac6-8c961683588d"
      },
      "execution_count": null,
      "outputs": [
        {
          "output_type": "execute_result",
          "data": {
            "text/plain": [
              "4"
            ]
          },
          "metadata": {},
          "execution_count": 40
        }
      ]
    },
    {
      "cell_type": "code",
      "source": [
        "a.add(5)"
      ],
      "metadata": {
        "colab": {
          "base_uri": "https://localhost:8080/"
        },
        "id": "5FIiPBgsan_X",
        "outputId": "ed923248-a228-4aab-9a1e-dbc70b1f9dbd"
      },
      "execution_count": null,
      "outputs": [
        {
          "output_type": "execute_result",
          "data": {
            "text/plain": [
              "9"
            ]
          },
          "metadata": {},
          "execution_count": 41
        }
      ]
    },
    {
      "cell_type": "code",
      "source": [
        "a.sub(9)\n",
        "a.add(23)"
      ],
      "metadata": {
        "colab": {
          "base_uri": "https://localhost:8080/"
        },
        "id": "hWB69c4JarD4",
        "outputId": "6c0dff82-1762-4d5f-db7f-1c97ab44ed9d"
      },
      "execution_count": null,
      "outputs": [
        {
          "output_type": "execute_result",
          "data": {
            "text/plain": [
              "23"
            ]
          },
          "metadata": {},
          "execution_count": 42
        }
      ]
    },
    {
      "cell_type": "code",
      "source": [
        "a.sub(3)"
      ],
      "metadata": {
        "colab": {
          "base_uri": "https://localhost:8080/"
        },
        "id": "c3I4ICOHbqTa",
        "outputId": "cdf7cf5e-f88c-4ac8-b0ab-bdc964b8ddf7"
      },
      "execution_count": null,
      "outputs": [
        {
          "output_type": "execute_result",
          "data": {
            "text/plain": [
              "20"
            ]
          },
          "metadata": {},
          "execution_count": 43
        }
      ]
    },
    {
      "cell_type": "code",
      "source": [
        "a.getres()"
      ],
      "metadata": {
        "colab": {
          "base_uri": "https://localhost:8080/"
        },
        "id": "3tzbwKu_brMy",
        "outputId": "4620754d-2fc0-4f41-8397-199071dd311a"
      },
      "execution_count": null,
      "outputs": [
        {
          "output_type": "execute_result",
          "data": {
            "text/plain": [
              "20"
            ]
          },
          "metadata": {},
          "execution_count": 44
        }
      ]
    },
    {
      "cell_type": "code",
      "source": [
        "b = Calc()\n",
        "c= Calc()"
      ],
      "metadata": {
        "id": "HQm4sFp1bxJg"
      },
      "execution_count": null,
      "outputs": []
    },
    {
      "cell_type": "markdown",
      "source": [
        "##클래스 제대로 만들기"
      ],
      "metadata": {
        "id": "wB8cY0izdOqb"
      }
    },
    {
      "cell_type": "code",
      "source": [
        "class FourCal : \n",
        "  def setdata(self,first, second):\n",
        "    self.first = first\n",
        "    self.second = second\n",
        "  def add(self):\n",
        "    return self.first + self.second\n",
        "  def sub(self):\n",
        "    return self.first - self.second\n",
        "  def mul(self):\n",
        "    return self.first*self.second\n",
        "  def div(self):\n",
        "    return self.first/self.second\n",
        "\n",
        "a = FourCal()\n",
        "a.setdata(1,2)\n",
        "print(a.add(), a.sub(), a.mul(), a.div())\n"
      ],
      "metadata": {
        "colab": {
          "base_uri": "https://localhost:8080/"
        },
        "id": "1UQBIqj4daeD",
        "outputId": "a32ae160-9d25-44ef-de8e-8fb3c446f6c6"
      },
      "execution_count": null,
      "outputs": [
        {
          "output_type": "stream",
          "name": "stdout",
          "text": [
            "3 -1 2 0.5\n"
          ]
        }
      ]
    },
    {
      "cell_type": "code",
      "source": [
        "cal1 = FourCal()"
      ],
      "metadata": {
        "id": "yl4VbSJGfJ_L"
      },
      "execution_count": null,
      "outputs": []
    },
    {
      "cell_type": "code",
      "source": [
        "cal1.setdata(3,4)"
      ],
      "metadata": {
        "id": "-Lv8phk2kUnS"
      },
      "execution_count": null,
      "outputs": []
    },
    {
      "cell_type": "code",
      "source": [
        "cal1.add()"
      ],
      "metadata": {
        "colab": {
          "base_uri": "https://localhost:8080/"
        },
        "id": "xPWRWOomkYlE",
        "outputId": "a5525293-28e5-4f55-8daa-70a861c04c6b"
      },
      "execution_count": null,
      "outputs": [
        {
          "output_type": "execute_result",
          "data": {
            "text/plain": [
              "7"
            ]
          },
          "metadata": {},
          "execution_count": 65
        }
      ]
    },
    {
      "cell_type": "code",
      "source": [
        "cal1.sub()"
      ],
      "metadata": {
        "colab": {
          "base_uri": "https://localhost:8080/"
        },
        "id": "yRDmO80KkpY0",
        "outputId": "0f5f5a71-a8b1-45f5-d622-7ed3cdb16188"
      },
      "execution_count": null,
      "outputs": [
        {
          "output_type": "execute_result",
          "data": {
            "text/plain": [
              "-1"
            ]
          },
          "metadata": {},
          "execution_count": 66
        }
      ]
    },
    {
      "cell_type": "code",
      "source": [
        "cal1.mul()"
      ],
      "metadata": {
        "colab": {
          "base_uri": "https://localhost:8080/"
        },
        "id": "HYLa_tfckq-P",
        "outputId": "4d2b69a5-6d33-4e5d-92ce-73da0003850f"
      },
      "execution_count": null,
      "outputs": [
        {
          "output_type": "execute_result",
          "data": {
            "text/plain": [
              "12"
            ]
          },
          "metadata": {},
          "execution_count": 67
        }
      ]
    },
    {
      "cell_type": "code",
      "source": [
        "cal1.div()"
      ],
      "metadata": {
        "colab": {
          "base_uri": "https://localhost:8080/"
        },
        "id": "kYtI1N4bksbS",
        "outputId": "f69fa75c-664c-48f0-d803-bb498e566ff1"
      },
      "execution_count": null,
      "outputs": [
        {
          "output_type": "execute_result",
          "data": {
            "text/plain": [
              "0.75"
            ]
          },
          "metadata": {},
          "execution_count": 68
        }
      ]
    },
    {
      "cell_type": "code",
      "source": [
        "class FourCal : \n",
        "  def __init__(self,first, second): #생성자\n",
        "    self.first = first\n",
        "    self.second = second\n",
        "  def setdata(self,first,second):\n",
        "    self.first = first\n",
        "    self.second = second\n",
        "  def add(self):\n",
        "    return self.first + self.second\n",
        "  def sub(self):\n",
        "    return self.first - self.second\n",
        "  def mul(self):\n",
        "    return self.first*self.second\n",
        "  def div(self):\n",
        "    try :\n",
        "      self.first/self.second\n",
        "    except(ZeroDivisionError) :\n",
        "      return 0\n",
        "    return self.first/self.second"
      ],
      "metadata": {
        "id": "CXRe973gk2PS"
      },
      "execution_count": null,
      "outputs": []
    },
    {
      "cell_type": "code",
      "source": [
        "a = FourCal(3,4)\n",
        "a.add()\n",
        "a.setdata(5,6)\n",
        "a.add()"
      ],
      "metadata": {
        "colab": {
          "base_uri": "https://localhost:8080/"
        },
        "id": "37JA8j0Ik5Tj",
        "outputId": "e8179b45-618a-4cf3-fdb4-c7093af48efe"
      },
      "execution_count": null,
      "outputs": [
        {
          "output_type": "execute_result",
          "data": {
            "text/plain": [
              "11"
            ]
          },
          "metadata": {},
          "execution_count": 73
        }
      ]
    },
    {
      "cell_type": "code",
      "source": [
        "cal3 = FourCal(10,0)\n",
        "cal3.div()"
      ],
      "metadata": {
        "colab": {
          "base_uri": "https://localhost:8080/"
        },
        "id": "a314Ie5MmaBM",
        "outputId": "3561ea68-e492-4655-9501-eb0d4714a89a"
      },
      "execution_count": null,
      "outputs": [
        {
          "output_type": "stream",
          "name": "stdout",
          "text": [
            "0으로 나눴습니다.\n"
          ]
        }
      ]
    },
    {
      "cell_type": "markdown",
      "source": [
        "###상속"
      ],
      "metadata": {
        "id": "JZPIwnB8pAU6"
      }
    },
    {
      "cell_type": "code",
      "source": [
        "class child(FourCal):\n",
        "  def power(self):\n",
        "    return self.first ** self.second"
      ],
      "metadata": {
        "id": "r_GyYPgZoZab"
      },
      "execution_count": null,
      "outputs": []
    },
    {
      "cell_type": "code",
      "source": [
        "a = child(10,3)"
      ],
      "metadata": {
        "id": "hYXUYqqNojVs"
      },
      "execution_count": null,
      "outputs": []
    },
    {
      "cell_type": "code",
      "source": [
        "a.power()"
      ],
      "metadata": {
        "colab": {
          "base_uri": "https://localhost:8080/"
        },
        "id": "9wVJshovpfxg",
        "outputId": "729937dd-7651-4727-b0f2-c89703ec81e5"
      },
      "execution_count": null,
      "outputs": [
        {
          "output_type": "execute_result",
          "data": {
            "text/plain": [
              "1000"
            ]
          },
          "metadata": {},
          "execution_count": 102
        }
      ]
    },
    {
      "cell_type": "code",
      "source": [
        "cal = child(1,0)"
      ],
      "metadata": {
        "id": "dAycaH3zqLM_"
      },
      "execution_count": null,
      "outputs": []
    },
    {
      "cell_type": "code",
      "source": [
        "cal.div()"
      ],
      "metadata": {
        "colab": {
          "base_uri": "https://localhost:8080/"
        },
        "id": "6ihdZzfpqP3t",
        "outputId": "42e638ab-15e5-4d71-8587-0ec8c009fdcd"
      },
      "execution_count": null,
      "outputs": [
        {
          "output_type": "execute_result",
          "data": {
            "text/plain": [
              "0"
            ]
          },
          "metadata": {},
          "execution_count": 104
        }
      ]
    },
    {
      "cell_type": "markdown",
      "source": [
        "###메소드 오버라이딩"
      ],
      "metadata": {
        "id": "kQTl2MGerQiG"
      }
    },
    {
      "cell_type": "code",
      "source": [
        "class child(FourCal):\n",
        "  def power(self):\n",
        "    return self.first ** self.second\n",
        "  def div(self):\n",
        "    if self.second != 0:\n",
        "      return self.first / self.second\n",
        "    else : \n",
        "      print(\"0으로 나누셨군요\")"
      ],
      "metadata": {
        "id": "3tk5AYbsqcQj"
      },
      "execution_count": null,
      "outputs": []
    },
    {
      "cell_type": "code",
      "source": [
        "a = child(2,0)\n",
        "b = FourCal(2,0)"
      ],
      "metadata": {
        "id": "-YBi9Kizqu2L"
      },
      "execution_count": null,
      "outputs": []
    },
    {
      "cell_type": "code",
      "source": [
        "a.div()"
      ],
      "metadata": {
        "colab": {
          "base_uri": "https://localhost:8080/"
        },
        "id": "Sqjqy7HIqxWU",
        "outputId": "484b7049-d075-4ae5-d40d-0b55e81ae551"
      },
      "execution_count": null,
      "outputs": [
        {
          "output_type": "stream",
          "name": "stdout",
          "text": [
            "0으로 나누셨군요\n"
          ]
        }
      ]
    },
    {
      "cell_type": "code",
      "source": [
        "b.div()"
      ],
      "metadata": {
        "colab": {
          "base_uri": "https://localhost:8080/"
        },
        "id": "tM9Mbzptq4s8",
        "outputId": "d1bcfb6d-01c5-466c-dd8b-50a1570bd68b"
      },
      "execution_count": null,
      "outputs": [
        {
          "output_type": "execute_result",
          "data": {
            "text/plain": [
              "0"
            ]
          },
          "metadata": {},
          "execution_count": 110
        }
      ]
    },
    {
      "cell_type": "markdown",
      "source": [
        "Q1 class를 생성할 때 맨 앞글자를 소문자로 하면 에러 메세지가 나온다.(O,X)\n",
        "A1 소문자로 해도 에러는 나지 않지만 관습적으로 대문자로 써야한다. \n",
        "Q2. 클래스를 만들었을 때 __init__함수가 없으면 __init__함수는 실행되지 않는다.(O,X)\n",
        "A2. __init__함수가 없으면 자동생성후 실행시킨다. \n",
        "Q3. 전역변수로 선언하는 방법은??\n",
        "A3. global 변수이름"
      ],
      "metadata": {
        "id": "OcZWLN4tz7Gc"
      }
    }
  ]
}